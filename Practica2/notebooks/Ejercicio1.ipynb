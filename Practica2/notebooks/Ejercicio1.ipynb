{
 "cells": [
  {
   "metadata": {},
   "cell_type": "markdown",
   "source": [
    "# Ejercicio 1\n",
    "\n",
    "Para esta seccion, seleccionamos un corpus de la biblioteca nltk. Para este ejercicio seleccionamos el corpus **cess_es**. Este corpus consiste un texto de noticias en espanol"
   ],
   "id": "f0ce5aee47e74207"
  },
  {
   "metadata": {
    "collapsed": true,
    "ExecuteTime": {
     "end_time": "2025-04-27T10:43:51.395441Z",
     "start_time": "2025-04-27T10:43:50.553548Z"
    }
   },
   "cell_type": "code",
   "source": [
    "import re\n",
    "import os\n",
    "import pandas as pd\n",
    "import numpy as np\n",
    "import matplotlib.pyplot as plt\n",
    "from collections import Counter\n",
    "\n",
    "from src.preprocesamiento.preprocesador import *\n",
    "from src.zipf.frecuencias import *\n",
    "from src.zipf.zipf_distribution import *\n",
    "from src.graficacion import *\n",
    "from src.preprocesamiento.subword import *\n",
    "\n",
    "os.environ[\"NLTK_DATA\"]=\"datos_nltk/\"\n",
    "import  nltk\n",
    "from nltk.corpus import stopwords"
   ],
   "id": "initial_id",
   "outputs": [
    {
     "ename": "ModuleNotFoundError",
     "evalue": "No module named 'src'",
     "output_type": "error",
     "traceback": [
      "\u001B[1;31m---------------------------------------------------------------------------\u001B[0m",
      "\u001B[1;31mModuleNotFoundError\u001B[0m                       Traceback (most recent call last)",
      "Cell \u001B[1;32mIn[1], line 8\u001B[0m\n\u001B[0;32m      5\u001B[0m \u001B[38;5;28;01mimport\u001B[39;00m\u001B[38;5;250m \u001B[39m\u001B[38;5;21;01mmatplotlib\u001B[39;00m\u001B[38;5;21;01m.\u001B[39;00m\u001B[38;5;21;01mpyplot\u001B[39;00m\u001B[38;5;250m \u001B[39m\u001B[38;5;28;01mas\u001B[39;00m\u001B[38;5;250m \u001B[39m\u001B[38;5;21;01mplt\u001B[39;00m\n\u001B[0;32m      6\u001B[0m \u001B[38;5;28;01mfrom\u001B[39;00m\u001B[38;5;250m \u001B[39m\u001B[38;5;21;01mcollections\u001B[39;00m\u001B[38;5;250m \u001B[39m\u001B[38;5;28;01mimport\u001B[39;00m Counter\n\u001B[1;32m----> 8\u001B[0m \u001B[38;5;28;01mfrom\u001B[39;00m\u001B[38;5;250m \u001B[39m\u001B[38;5;21;01msrc\u001B[39;00m\u001B[38;5;21;01m.\u001B[39;00m\u001B[38;5;21;01mpreprocesamiento\u001B[39;00m\u001B[38;5;21;01m.\u001B[39;00m\u001B[38;5;21;01mpreprocesador\u001B[39;00m\u001B[38;5;250m \u001B[39m\u001B[38;5;28;01mimport\u001B[39;00m \u001B[38;5;241m*\u001B[39m\n\u001B[0;32m      9\u001B[0m \u001B[38;5;28;01mfrom\u001B[39;00m\u001B[38;5;250m \u001B[39m\u001B[38;5;21;01msrc\u001B[39;00m\u001B[38;5;21;01m.\u001B[39;00m\u001B[38;5;21;01mzipf\u001B[39;00m\u001B[38;5;21;01m.\u001B[39;00m\u001B[38;5;21;01mfrecuencias\u001B[39;00m\u001B[38;5;250m \u001B[39m\u001B[38;5;28;01mimport\u001B[39;00m \u001B[38;5;241m*\u001B[39m\n\u001B[0;32m     10\u001B[0m \u001B[38;5;28;01mfrom\u001B[39;00m\u001B[38;5;250m \u001B[39m\u001B[38;5;21;01msrc\u001B[39;00m\u001B[38;5;21;01m.\u001B[39;00m\u001B[38;5;21;01mzipf\u001B[39;00m\u001B[38;5;21;01m.\u001B[39;00m\u001B[38;5;21;01mzipf_distribution\u001B[39;00m\u001B[38;5;250m \u001B[39m\u001B[38;5;28;01mimport\u001B[39;00m \u001B[38;5;241m*\u001B[39m\n",
      "\u001B[1;31mModuleNotFoundError\u001B[0m: No module named 'src'"
     ]
    }
   ],
   "execution_count": 1
  },
  {
   "metadata": {},
   "cell_type": "markdown",
   "source": [
    "## Paso 1\n",
    "Nos aseguramos de tener disponible el corpus **cess_esp**. Aprovechamos la funcionalidad de nltk para obtener las palabras del corpus. Estas palabras funcionaran como nuestros tokens.\n",
    "Notemos que el corpus tiene un total de __192686__ palabra (tokens)\n",
    "\n"
   ],
   "id": "8aadec00ac00286e"
  },
  {
   "metadata": {
    "ExecuteTime": {
     "end_time": "2025-03-15T05:53:14.005509Z",
     "start_time": "2025-03-15T05:53:11.493666Z"
    }
   },
   "cell_type": "code",
   "source": [
    "## Seleccionamos un corpus en español que se encuentra en nltk\n",
    "from nltk.corpus import cess_esp\n",
    "\n",
    "nltk.download(\"cess_esp\")\n",
    "corpus_tokens = cess_esp.words()\n",
    "\n",
    "print(\"Numero de tokens en el corpus:\", len(corpus_tokens))"
   ],
   "id": "5161a18a228501e1",
   "outputs": [
    {
     "name": "stderr",
     "output_type": "stream",
     "text": [
      "[nltk_data] Downloading package cess_esp to datos_nltk/...\n",
      "[nltk_data]   Package cess_esp is already up-to-date!\n"
     ]
    },
    {
     "name": "stdout",
     "output_type": "stream",
     "text": [
      "Numero de tokens en el corpus: 192686\n"
     ]
    }
   ],
   "execution_count": 2
  },
  {
   "metadata": {},
   "cell_type": "markdown",
   "source": [
    "## Paso 2\n",
    "Aplicamos un pre procesamiento a todos los tokens de nuestro corpus. Los pasos a seguir en nuestro pre procesamiento son los siguientes:\n",
    "- Pasamos todos los tokens a minusculas\n",
    "- Eliminamos cualquier signo de puntacion en los tokens, es decir, eliminamos cualquier signo que no sea una letra del alfabeto en español o número\n",
    "- Eliminamos todos los tokens que sean identificados como _stopword_. Para la lista de _stopword_ utilizamos la lista encontrada en ntlk para el lenguaje de español\n",
    "- Finalmente eliminamos acentos. En este paso, para cada token, sustituimos sus vocales acentuadas por la misma vocal sin acento.\n",
    "\n"
   ],
   "id": "5cd1d67700dadca6"
  },
  {
   "metadata": {
    "ExecuteTime": {
     "end_time": "2025-03-15T05:53:16.570099Z",
     "start_time": "2025-03-15T05:53:14.097026Z"
    }
   },
   "cell_type": "code",
   "source": [
    "# Dado nuestro corpus tokenizado, normalizamos el texto:\n",
    "# Removiendo acentos, puntuacion y stopwords\n",
    "\n",
    "nltk.download('stopwords')\n",
    "stopwords_list = stopwords.words('spanish')\n",
    "\n",
    "#print(stopwords_list)\n",
    "tokens_normalizados = pre_procesar(corpus_tokens, stopwords_list)\n",
    "\n",
    "print(\"Numero de tokens, despues del preprocesamiento:\", len(tokens_normalizados))"
   ],
   "id": "3228dcd389e5737d",
   "outputs": [
    {
     "name": "stderr",
     "output_type": "stream",
     "text": [
      "[nltk_data] Downloading package stopwords to datos_nltk/...\n",
      "[nltk_data]   Package stopwords is already up-to-date!\n"
     ]
    },
    {
     "name": "stdout",
     "output_type": "stream",
     "text": [
      "Numero de tokens, despues del preprocesamiento: 86640\n"
     ]
    }
   ],
   "execution_count": 3
  },
  {
   "metadata": {},
   "cell_type": "markdown",
   "source": [
    "## Paso 3\n",
    "\n",
    "Dado nuestros tokens normalizados, procedemos a realizar a obtener sub words utilizando BPE."
   ],
   "id": "79f4515c6adf11f4"
  },
  {
   "metadata": {},
   "cell_type": "code",
   "outputs": [],
   "execution_count": null,
   "source": [
    "# Obtenemos las frecuencias de los tipos de cada subword utilizando bpe\n",
    "bpe_tokens = aplicar_byte_pair_encoding(tokens_normalizados, 500)"
   ],
   "id": "befe812931cf31e"
  },
  {
   "metadata": {},
   "cell_type": "code",
   "outputs": [],
   "execution_count": null,
   "source": [
    "# Observamos la nueva cantidad de tipos que tenemos\n",
    "print(len(bpe_tokens))"
   ],
   "id": "f80e87438291b8b5"
  },
  {
   "metadata": {},
   "cell_type": "code",
   "outputs": [],
   "execution_count": null,
   "source": [
    "tabla_frecuencias_bpe = crear_tabla_frecuencias(bpe_tokens)\n",
    "print(tabla_frecuencias_bpe)"
   ],
   "id": "eeb790713632f2e7"
  }
 ],
 "metadata": {
  "kernelspec": {
   "display_name": "Python 3",
   "language": "python",
   "name": "python3"
  },
  "language_info": {
   "codemirror_mode": {
    "name": "ipython",
    "version": 2
   },
   "file_extension": ".py",
   "mimetype": "text/x-python",
   "name": "python",
   "nbconvert_exporter": "python",
   "pygments_lexer": "ipython2",
   "version": "2.7.6"
  }
 },
 "nbformat": 4,
 "nbformat_minor": 5
}
