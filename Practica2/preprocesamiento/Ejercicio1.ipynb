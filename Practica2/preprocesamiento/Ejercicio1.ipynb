{
 "cells": [
  {
   "cell_type": "markdown",
   "id": "f0ce5aee47e74207",
   "metadata": {},
   "source": [
    "# Ejercicio 1\n",
    "\n",
    "Para esta seccion, seleccionamos un corpus de la biblioteca nltk. Para este ejercicio seleccionamos el corpus **cess_es**. Este corpus consiste un texto de noticias en espanol"
   ]
  },
  {
   "cell_type": "code",
   "execution_count": 2,
   "id": "initial_id",
   "metadata": {
    "ExecuteTime": {
     "end_time": "2025-05-19T02:25:46.055390Z",
     "start_time": "2025-05-19T02:25:45.764365Z"
    },
    "collapsed": true
   },
   "outputs": [],
   "source": [
    "import re\n",
    "import os\n",
    "import pandas as pd\n",
    "import numpy as np\n",
    "from collections import Counter\n",
    "import matplotlib.pyplot as plt\n",
    "from sklearn.decomposition import PCA\n",
    "import math   \n",
    "\n",
    "from preprocesador import *\n",
    "from subword import *\n",
    "from frecuencias import *\n",
    "\n",
    "os.environ[\"NLTK_DATA\"]=\"datos_nltk/\"\n",
    "import  nltk\n",
    "from nltk.corpus import stopwords"
   ]
  },
  {
   "cell_type": "markdown",
   "id": "8aadec00ac00286e",
   "metadata": {},
   "source": [
    "## Paso 1\n",
    "Nos aseguramos de tener disponible el corpus **cess_esp**. Aprovechamos la funcionalidad de nltk para obtener las oraciones del corpus.\n",
    "\n",
    "\n"
   ]
  },
  {
   "cell_type": "code",
   "execution_count": 3,
   "id": "5161a18a228501e1",
   "metadata": {
    "ExecuteTime": {
     "end_time": "2025-05-19T02:25:50.808270Z",
     "start_time": "2025-05-19T02:25:48.392108Z"
    }
   },
   "outputs": [
    {
     "name": "stdout",
     "output_type": "stream",
     "text": [
      "Numero de oraciones en el corpus: 100\n"
     ]
    },
    {
     "name": "stderr",
     "output_type": "stream",
     "text": [
      "[nltk_data] Downloading package cess_esp to /home/joel/nltk_data...\n",
      "[nltk_data]   Package cess_esp is already up-to-date!\n"
     ]
    }
   ],
   "source": [
    "## Seleccionamos un corpus en español que se encuentra en nltk\n",
    "from nltk.corpus import cess_esp\n",
    "\n",
    "nltk.download(\"cess_esp\")\n",
    "\n",
    "## Obtenemos las oraciones del corpus para el entrenamiento de nuestra red neuronal\n",
    "corpus_sents = cess_esp.sents()[0:100]\n",
    "\n",
    "print(\"Numero de oraciones en el corpus:\", len(corpus_sents))"
   ]
  },
  {
   "cell_type": "markdown",
   "id": "5cd1d67700dadca6",
   "metadata": {},
   "source": [
    "## Paso 2\n",
    "Aplicamos un pre procesamiento a todos los tokens de nuestro corpus. Los pasos a seguir en nuestro pre procesamiento son los siguientes:\n",
    "- Pasamos todos los tokens a minusculas\n",
    "- Eliminamos cualquier signo de puntacion en los tokens, es decir, eliminamos cualquier signo que no sea una letra del alfabeto en español o número\n",
    "- Eliminamos todos los tokens que sean identificados como _stopword_. Para la lista de _stopword_ utilizamos la lista encontrada en ntlk para el lenguaje de español\n",
    "- Finalmente eliminamos acentos. En este paso, para cada token, sustituimos sus vocales acentuadas por la misma vocal sin acento.\n",
    "\n"
   ]
  },
  {
   "cell_type": "code",
   "execution_count": 7,
   "id": "3228dcd389e5737d",
   "metadata": {
    "ExecuteTime": {
     "end_time": "2025-05-19T02:25:56.308693Z",
     "start_time": "2025-05-19T02:25:54.190381Z"
    }
   },
   "outputs": [
    {
     "name": "stdout",
     "output_type": "stream",
     "text": [
      "Numero de tokens, despues del preprocesamiento: 1571\n"
     ]
    },
    {
     "name": "stderr",
     "output_type": "stream",
     "text": [
      "[nltk_data] Downloading package stopwords to /home/joel/nltk_data...\n",
      "[nltk_data]   Package stopwords is already up-to-date!\n"
     ]
    }
   ],
   "source": [
    "# Procedemos a normalizar el texto:\n",
    "# Removiendo acentos, puntuacion y stopwords\n",
    "\n",
    "nltk.download('stopwords')\n",
    "stopwords_list = stopwords.words('spanish')\n",
    "\n",
    "# Normalizamos los oraciones\n",
    "sents_norm = [pre_procesar(oracion, stopwords_list) for oracion in corpus_sents]\n",
    "\n",
    "# Obtenemos todas las palabras del texto\n",
    "tokens_normalizados = [x for xs in sents_norm for x in xs]\n",
    "\n",
    "print(\"Numero de tokens, despues del preprocesamiento:\", len(tokens_normalizados))"
   ]
  },
  {
   "cell_type": "markdown",
   "id": "79f4515c6adf11f4",
   "metadata": {},
   "source": [
    "## Paso 3\n",
    "\n",
    "Dado nuestros tokens normalizados, procedemos a realizar a obtener sub words utilizando BPE."
   ]
  },
  {
   "cell_type": "code",
   "execution_count": 8,
   "id": "befe812931cf31e",
   "metadata": {
    "ExecuteTime": {
     "end_time": "2025-05-19T02:26:15.086918Z",
     "start_time": "2025-05-19T02:26:03.063070Z"
    }
   },
   "outputs": [],
   "source": [
    "# Entrenamos nuestro algoritmo de BPE con las palabras del corpus, obtenemos las reglas y las frecuencias de cada token\n",
    "# Aplicamos 500 iteraciones\n",
    "freqs_bpe, reglas_bpe = entrenar_byte_pair_encoding(tokens_normalizados, 500)"
   ]
  },
  {
   "cell_type": "code",
   "execution_count": 9,
   "id": "75e2ffb9e9764c73",
   "metadata": {
    "ExecuteTime": {
     "end_time": "2025-05-19T02:26:22.612722Z",
     "start_time": "2025-05-19T02:26:18.491762Z"
    }
   },
   "outputs": [],
   "source": [
    "## Aplicamos nuestro modelo bpe a cada oraciond el corpus para obtener las oraciones tokenizadas\n",
    "sents_tokenizadas = [aplicar_bpe(sent, reglas_bpe) for sent in sents_norm]\n",
    "\n",
    "## Agregamos las etiquetas <BOS> y <EOS> a cada oracion\n",
    "sents_tokenizadas = [[\"<BOS>\"] + sent + [\"<EOS>\"] for sent in sents_tokenizadas]\n"
   ]
  },
  {
   "cell_type": "code",
   "execution_count": 10,
   "id": "938dcd73a14a5337",
   "metadata": {
    "ExecuteTime": {
     "end_time": "2025-05-19T02:26:26.860369Z",
     "start_time": "2025-05-19T02:26:26.857578Z"
    }
   },
   "outputs": [
    {
     "name": "stdout",
     "output_type": "stream",
     "text": [
      "['<BOS>', 'grupo', 'es', 'ta', 'tal', 'electrici', 'tede', 'fran', 'ce', 'edf', 'anuncio', 'hoy', 'jue', 'ves', 'com', 'pra', '5', '1porciento', 'empresa', 'mex', 'i', 'cana', 'electricidada', 'gui', 'ladealtamira', 'eaa', 'creada', 'ja', 'pones', 'mitsubis', 'hicor', 'pora', 'tion', 'poneren', 'marcha', 'central', 'gas', '495', 'megavatios', '<EOS>']\n",
      "['grupo', 'estatal', 'electricitedefrance', 'edf', 'anuncio', 'hoy', 'jueves', 'compra', '51porciento', 'empresa', 'mexicana', 'electricidadaguiladealtamira', 'eaa', 'creada', 'japones', 'mitsubishicorporation', 'ponerenmarcha', 'central', 'gas', '495', 'megavatios']\n"
     ]
    }
   ],
   "source": [
    "# Comparacion de la primera frase en palabras y tokenizadas con BPE\n",
    "print(sents_tokenizadas[0])\n",
    "print(sents_norm[0])"
   ]
  },
  {
   "cell_type": "code",
   "execution_count": 11,
   "id": "19369515eafc1f09",
   "metadata": {
    "ExecuteTime": {
     "end_time": "2025-05-19T02:26:40.814661Z",
     "start_time": "2025-05-19T02:26:40.800860Z"
    }
   },
   "outputs": [
    {
     "name": "stdout",
     "output_type": "stream",
     "text": [
      "      palabra  frecuencia\n",
      "0           a          39\n",
      "1           o          25\n",
      "2          ta          24\n",
      "3          to          24\n",
      "4          te          21\n",
      "...       ...         ...\n",
      "1083     cisa           1\n",
      "1084  regreso           1\n",
      "1085      pis           1\n",
      "1086   locali           1\n",
      "1087    ñadel           1\n",
      "\n",
      "[1088 rows x 2 columns]\n"
     ]
    }
   ],
   "source": [
    "# Tabla para ver las frecuencias de las palabras\n",
    "tabla_frecuencias_bpe = crear_tabla_frecuencias(freqs_bpe)\n",
    "print(tabla_frecuencias_bpe)\n"
   ]
  },
  {
   "cell_type": "code",
   "execution_count": 12,
   "id": "800b6654",
   "metadata": {},
   "outputs": [],
   "source": [
    "#Convertimos la tabla en un diccionario para usarlo en el modelo\n",
    "palabras = tabla_frecuencias_bpe['palabra']\n",
    "frecuencias = tabla_frecuencias_bpe['frecuencia']\n",
    "dic_palabras = {}  \n",
    "for i in range(len(frecuencias)):\n",
    "    dic_palabras[palabras[i]] = frecuencias[i]"
   ]
  },
  {
   "cell_type": "code",
   "execution_count": 13,
   "id": "af2970ac",
   "metadata": {},
   "outputs": [],
   "source": [
    "ETIQUETA_UNK = \"<UNK>\"\n",
    "def indices_palabras(palabras_frecuencias: dict):\n",
    "    \"\"\"Calcula los indices de las palabras dadas sus frecuencias\n",
    "\n",
    "    Parameters\n",
    "    ----------\n",
    "    palabras_frecuencias : dict\n",
    "        Diccionario donde las llaves son las palabras y los valores sus frecuencias\n",
    "\n",
    "    Returns\n",
    "    -------\n",
    "    dict,dict\n",
    "        Diccionarios uno a uno de palabras a indices y viceversa\n",
    "    \"\"\"\n",
    "    result = {}\n",
    "    for ind, palabra in enumerate(palabras_frecuencias.keys()):\n",
    "        # Ocurrio un Happax legomena o singleton\n",
    "        if palabras_frecuencias[palabra] == 1:\n",
    "            # Indice temporal para UNK\n",
    "            result[ETIQUETA_UNK] = len(palabras_frecuencias)\n",
    "        else:\n",
    "            result[palabra] = ind\n",
    "\n",
    "    return {word: idx for idx, word in enumerate(result.keys())}, {idx: word for idx, word in enumerate(result.keys())}"
   ]
  },
  {
   "cell_type": "code",
   "execution_count": 14,
   "id": "94c82df7",
   "metadata": {},
   "outputs": [
    {
     "name": "stdout",
     "output_type": "stream",
     "text": [
      "{'a': 0, 'o': 1, 'ta': 2, 'to': 3, 'te': 4, 'i': 5, 'do': 6, 'pro': 7, 'li': 8, 'en': 9, '2': 10, 'in': 11, 're': 12, 'de': 13, 'mo': 14, '1': 15, 'com': 16, 'dos': 17, 'es': 18, 'r': 19, 'da': 20, 'g': 21, 'al': 22, 'ca': 23, 'con': 24, 'si': 25, 'f': 26, 'b': 27, 'cu': 28, 'c': 29, 'e': 30, 'ma': 31, 'la': 32, 'hoy': 33, 'pp': 34, 'l': 35, 'des': 36, 'po': 37, 's': 38, 'y': 39, 'ti': 40, 'tu': 41, '3': 42, 'u': 43, 'se': 44, 'kursk': 45, 'mar': 46, 'que': 47, 'z': 48, 'di': 49, 'ci': 50, 'tro': 51, 'vo': 52, 'armada': 53, 'co': 54, 'for': 55, 'mos': 56, 'submarino': 57, 'victoria': 58, 'tas': 59, 'ne': 60, 'tar': 61, 've': 62, 'm': 63, 'dad': 64, '199': 65, 'cia': 66, 'comision': 67, 'madrid': 68, '5': 69, 'is': 70, 't': 71, 'd': 72, '0': 73, 'empresa': 74, 'mi': 75, 'ce': 76, '7': 77, 'votos': 78, 'pues': 79, 'partido': 80, 'le': 81, 'operacion': 82, 'k': 83, 'ja': 84, 'ra': 85, 'p': 86, 'tras': 87, 'er': 88, 'desarrollo': 89, 'ob': 90, 'tan': 91, '6': 92, 'dijo': 93, '8': 94, 'vi': 95, 'gi': 96, 'n': 97, 'im': 98, 'psoe': 99, 'h': 100, 'no': 101, 'tivas': 102, 'colision': 103, 'ab': 104, 'tres': 105, 'ar': 106, 'cial': 107, 'v': 108, 'grupo': 109, 'lo': 110, 'pa': 111, 'go': 112, 'em': 113, 'servicios': 114, 'gobierno': 115, 'ganar': 116, 'ño': 117, 'pre': 118, 'gos': 119, 'edf': 120, 'cio': 121, 'cas': 122, 'cono': 123, 'ue': 124, 'cumbre': 125, 'años': 126, 'anuncio': 127, '9': 128, 'aunque': 129, 'dec': 130, 'gu': 131, 'ga': 132, 'rescate': 133, 'primera': 134, 'iberoameri': 135, 'cana': 136, 'su': 137, 'tripulantes': 138, 'per': 139, 'cien': 140, 'region': 141, 'fir': 142, 'pos': 143, 'inten': 144, 'na': 145, 'tri': 146, 'dio': 147, 'jo': 148, 'van': 149, 'as': 150, 'che': 151, 'man': 152, 'ter': 153, 'cion': 154, 'ba': 155, 'pu': 156, 'zacion': 157, 'cooperacion': 158, 'mexico': 159, 'dis': 160, 'mundial': 161, 'bu': 162, 'buque': 163, 'enfren': 164, 'elecciones': 165, 'naufragio': 166, 'lu': 167, 'ju': 168, 'w': 169, 'pe': 170, 'zar': 171, 'ten': 172, 'mani': 173, 'principal': 174, 'gen': 175, 'programas': 176, 'ton': 177, 'delos': 178, 'ble': 179, 'ran': 180, 'gran': 181, 'reunion': 182, 'dias': 183, 'generales': 184, 'men': 185, 'las': 186, 'por': 187, 'control': 188, 'millones': 189, '4': 190, 'proyecto': 191, 'ver': 192, 'metros': 193, 'hipotesis': 194, 'segun': 195, 'klebanov': 196, 'ia': 197, 'fi': 198, 'an': 199, 'so': 200, 'bargo': 201, 'ini': 202, 'porciento': 203, 'ufinsa': 204, 'tado': 205, 'popular': 206, 'et': 207, 'car': 208, 'mente': 209, 'tal': 210, 'lugar': 211, 'tor': 212, 'telecomunicaciones': 213, 'villalobos': 214, '28': 215, 'jue': 216, 'congreso': 217, 'tos': 218, '000': 219, 'mento': 220, 'parte': 221, 'ves': 222, 'rusa': 223, 'explosiones': 224, 'militantes': 225, 'sus': 226, 'ex': 227, 'megavatios': 228, 'ser': 229, 'bas': 230, 'pios': 231, 'españa': 232, 'ac': 233, 'norue': 234, 'cadaveres': 235, 'bi': 236, 'hierba': 237, 'empresas': 238, 'sociales': 239, 'integracion': 240, 'guadalajara': 241, 'cuba': 242, 'laracion': 243, 'tiva': 244, 'central': 245, 'vier': 246, 'mediante': 247, 'cacion': 248, 'comun': 249, 'cable': 250, 'final': 251, 'españolas': 252, 'pli': 253, 'financi': 254, 'gas': 255, 'colombia': 256, 'canos': 257, 'san': 258, 'tara': 259, 'hace': 260, 'pen': 261, 'ru': 262, 'delatorre': 263, 'sotomayor': 264, 'ciones': 265, 'medalla': 266, 'je': 267, 'peti': 268, 'derro': 269, 'casi': 270, 'pesea': 271, 'solo': 272, 'escaños': 273, 'kuroyedov': 274, 'vales': 275, 'or': 276, 'vio': 277, 'confianza': 278, 'cimiento': 279, 'mer': 280, 'cre': 281, 'democracia': 282, 'tis': 283, 'zo': 284, 'obtu': 285, 'sufragios': 286, 'zada': 287, 'presidente': 288, 'ños': 289, 'equipo': 290, 'sal': 291, 'kuerten': 292, 'me': 293, 'munici': 294, 'ii': 295, 'sis': 296, 'lle': 297, 'creada': 298, 'den': 299, 'os': 300, 'logro': 301, 'zona': 302, 'ri': 303, 'pio': 304, 'eaa': 305, 'rojo': 306, 'cinturon': 307, 'localidades': 308, 'mado': 309, 'on': 310, 'jor': 311, 'mientras': 312, 'der': 313, '23': 314, 'semana': 315, 'exito': 316, 'comisioneuropea': 317, 'ccion': 318, 'dar': 319, 'pi': 320, 'primer': 321, 'ro': 322, 'defini': 323, 'populares': 324, 'fin': 325, 'aseguro': 326, 'be': 327, 'comer': 328, 'ho': 329, 'previsto': 330, 'lista': 331, 'sede': 332, 'yo': 333, 'za': 334, 'hal': 335, 'cabe': 336, 'segui': 337, '19': 338, 'tra': 339, '18': 340, 'res': 341, 'malaga': 342, 'conclusiones': 343, 'potencia': 344, '25': 345, 'preocu': 346, 'ahora': 347, 'acuerdo': 348, 'resultado': 349, 'cuer': 350, 'posible': 351, 'asicomo': 352, 'hecho': 353, 'terior': 354, 'latinoameri': 355, 'edu': 356, 'minis': 357, 'pacion': 358, 'posibili': 359, 'cri': 360, 'extranjero': 361, 'partici': 362, '0porciento': 363, 'dipu': 364, 'tada': 365, 'ticas': 366, 'tacion': 367, 'dan': 368, 'nuc': 369, 'va': 370, 'dente': 371, 'hi': 372, 'profun': 373, 'limina': 374, 'venta': 375, 'lto': 376, 'torias': 377, 'ladimi': 378, 'taran': 379, 'gar': 380, 'dero': 381, 'versiones': 382, 'vir': 383, 'insu': 384, 'parlamento': 385, 'electri': 386, 'pasado': 387, 'gue': 388, 'menos': 389, 'wimbledon': 390, 'sa': 391, 'del': 392, 'trans': 393, 'dimiento': 394, '00': 395, 'pren': 396, 'fer': 397, 'meligeni': 398, 'progra': 399, 'minado': 400, 'pare': 401, 'electricidad': 402, 'deno': 403, 'especial': 404, 'emo': 405, 'gracias': 406, 'produ': 407, 'sor': 408, 'conso': 409, 'trar': 410, 'princi': 411, 'tadosuni': 412, 'norteameri': 413, 'gui': 414, 'ña': 415, 'lema': 416, 'cubano': 417, 'coman': 418, 'cen': 419, 'francesa': 420, 'vice': 421, 'sab': 422, 'saltillo': 423, 'riobravo': 424, 'cada': 425, 'ruso': 426, 'ber': 427, 'gado': 428, 'saltar': 429, 'les': 430, 'sinem': 431, 'greso': 432, 'sables': 433, 'pan': 434, 'color': 435, 'pon': 436, 'altos': 437, 'consi': 438, 'dia': 439, 'para': 440, 'meses': 441, 'can': 442, 'explo': 443, 'tente': 444, 'tados': 445, 'gena': 446, '0000': 447, 'x': 448, 'rusas': 449, 'uer': 450, 'lobal': 451, '1porciento': 452, 'ico': 453, 'marinos': 454, 'partimento': 455, 'tre': 456, 'resalto': 457, 'dades': 458, 'leta': 459, 'lia': 460, 'provincia': 461, 'trabajos': 462, 'fe': 463, 'oro': 464, 'baren': 465, 'puso': 466, 'alcal': 467, '47': 468, 'cuya': 469, 'racion': 470, 'qui': 471, 'dolares': 472, 'abi': 473, 'euros': 474, 'ras': 475, 'dea': 476, 'traron': 477, 'tau': 478, 'sar': 479, 'josemariaaznar': 480, 'interven': 481, '495': 482, 'trabajo': 483, 'plo': 484, 'sos': 485, 'auna': 486, 'comuni': 487, 'taria': 488, 'natural': 489, 'rafter': 490, 'cesos': 491, 'acciones': 492, 'tencia': 493, 'efe': 494, 'contrato': 495, 'supercablealmeria': 496, 'cablelteca': 497, 'supercablesevilla': 498, 'conc': 499, 'edia': 500, 'diez': 501, 'senado': 502, 'brasil': 503, 'buscara': 504, 'autonomicas': 505, 'pcion': 506, 'ises': 507, 'probaron': 508, 'supercableandalucia': 509, 'cam': 510, 'dentro': 511, 'respe': 512, 'vili': 513, 'sores': 514, 'propiedad': 515, 'ya': 516, 'ofrece': 517, 'sen': 518, 'andalucia': 519, 'regis': 520, 'lares': 521, 'español': 522, 'nu': 523, 'conse': 524, 'asi': 525, 'ctos': 526, 'graf': 527, 'nue': 528, 'cin': 529, 'tavo': 530, 'electores': 531, 'pertenece': 532, 'exa': 533, 'acabar': 534, 'documentacion': 535, 'presentada': 536, 'holding': 537, 'ciacion': 538, 'andalu': 539, 'ganado': 540, 'eros': 541, 'fun': 542, 'bre': 543, 'ciar': 544, 'ada': 545, 'ficacion': 546, 'bien': 547, 'resultados': 548, 'capitan': 549, 'australiano': 550, 'mina': 551, 'mitsubis': 552, 'podra': 553, 'lear': 554, 'tes': 555, 'vigentes': 556, 'cer': 557, 'ven': 558, 'fes': 559, 'jun': 560, 'prue': 561, 'construccion': 562, 'llevar': 563, 'sabido': 564, 'hewitt': 565, 'norte': 566, 'altamira2': 567, 'chi': 568, 'todo': 569, 'tion': 570, 'brasile': 571, 'concentracion': 572, 'campe': 573, 'aragondecable': 574, 'uni': 575, 'chazaron': 576, 'siendo': 577, 'lusion': 578, 'lado': 579, 'aus': 580, 'lograr': 581, 'hon': 582, 'dialogo': 583, 'marcha': 584, 'gobernan': 585, 'tante': 586, 'mayoritario': 587, 'fico': 588, 'aznar': 589, 'adquieren': 590, 'his': 591, 'unionfenosainversiones': 592, 'endesatelecomunicaciones': 593, 'caso': 594, 'stetinternationalnetherlands': 595, 'pue': 596, '<UNK>': 597}\n",
      "{0: 'a', 1: 'o', 2: 'ta', 3: 'to', 4: 'te', 5: 'i', 6: 'do', 7: 'pro', 8: 'li', 9: 'en', 10: '2', 11: 'in', 12: 're', 13: 'de', 14: 'mo', 15: '1', 16: 'com', 17: 'dos', 18: 'es', 19: 'r', 20: 'da', 21: 'g', 22: 'al', 23: 'ca', 24: 'con', 25: 'si', 26: 'f', 27: 'b', 28: 'cu', 29: 'c', 30: 'e', 31: 'ma', 32: 'la', 33: 'hoy', 34: 'pp', 35: 'l', 36: 'des', 37: 'po', 38: 's', 39: 'y', 40: 'ti', 41: 'tu', 42: '3', 43: 'u', 44: 'se', 45: 'kursk', 46: 'mar', 47: 'que', 48: 'z', 49: 'di', 50: 'ci', 51: 'tro', 52: 'vo', 53: 'armada', 54: 'co', 55: 'for', 56: 'mos', 57: 'submarino', 58: 'victoria', 59: 'tas', 60: 'ne', 61: 'tar', 62: 've', 63: 'm', 64: 'dad', 65: '199', 66: 'cia', 67: 'comision', 68: 'madrid', 69: '5', 70: 'is', 71: 't', 72: 'd', 73: '0', 74: 'empresa', 75: 'mi', 76: 'ce', 77: '7', 78: 'votos', 79: 'pues', 80: 'partido', 81: 'le', 82: 'operacion', 83: 'k', 84: 'ja', 85: 'ra', 86: 'p', 87: 'tras', 88: 'er', 89: 'desarrollo', 90: 'ob', 91: 'tan', 92: '6', 93: 'dijo', 94: '8', 95: 'vi', 96: 'gi', 97: 'n', 98: 'im', 99: 'psoe', 100: 'h', 101: 'no', 102: 'tivas', 103: 'colision', 104: 'ab', 105: 'tres', 106: 'ar', 107: 'cial', 108: 'v', 109: 'grupo', 110: 'lo', 111: 'pa', 112: 'go', 113: 'em', 114: 'servicios', 115: 'gobierno', 116: 'ganar', 117: 'ño', 118: 'pre', 119: 'gos', 120: 'edf', 121: 'cio', 122: 'cas', 123: 'cono', 124: 'ue', 125: 'cumbre', 126: 'años', 127: 'anuncio', 128: '9', 129: 'aunque', 130: 'dec', 131: 'gu', 132: 'ga', 133: 'rescate', 134: 'primera', 135: 'iberoameri', 136: 'cana', 137: 'su', 138: 'tripulantes', 139: 'per', 140: 'cien', 141: 'region', 142: 'fir', 143: 'pos', 144: 'inten', 145: 'na', 146: 'tri', 147: 'dio', 148: 'jo', 149: 'van', 150: 'as', 151: 'che', 152: 'man', 153: 'ter', 154: 'cion', 155: 'ba', 156: 'pu', 157: 'zacion', 158: 'cooperacion', 159: 'mexico', 160: 'dis', 161: 'mundial', 162: 'bu', 163: 'buque', 164: 'enfren', 165: 'elecciones', 166: 'naufragio', 167: 'lu', 168: 'ju', 169: 'w', 170: 'pe', 171: 'zar', 172: 'ten', 173: 'mani', 174: 'principal', 175: 'gen', 176: 'programas', 177: 'ton', 178: 'delos', 179: 'ble', 180: 'ran', 181: 'gran', 182: 'reunion', 183: 'dias', 184: 'generales', 185: 'men', 186: 'las', 187: 'por', 188: 'control', 189: 'millones', 190: '4', 191: 'proyecto', 192: 'ver', 193: 'metros', 194: 'hipotesis', 195: 'segun', 196: 'klebanov', 197: 'ia', 198: 'fi', 199: 'an', 200: 'so', 201: 'bargo', 202: 'ini', 203: 'porciento', 204: 'ufinsa', 205: 'tado', 206: 'popular', 207: 'et', 208: 'car', 209: 'mente', 210: 'tal', 211: 'lugar', 212: 'tor', 213: 'telecomunicaciones', 214: 'villalobos', 215: '28', 216: 'jue', 217: 'congreso', 218: 'tos', 219: '000', 220: 'mento', 221: 'parte', 222: 'ves', 223: 'rusa', 224: 'explosiones', 225: 'militantes', 226: 'sus', 227: 'ex', 228: 'megavatios', 229: 'ser', 230: 'bas', 231: 'pios', 232: 'españa', 233: 'ac', 234: 'norue', 235: 'cadaveres', 236: 'bi', 237: 'hierba', 238: 'empresas', 239: 'sociales', 240: 'integracion', 241: 'guadalajara', 242: 'cuba', 243: 'laracion', 244: 'tiva', 245: 'central', 246: 'vier', 247: 'mediante', 248: 'cacion', 249: 'comun', 250: 'cable', 251: 'final', 252: 'españolas', 253: 'pli', 254: 'financi', 255: 'gas', 256: 'colombia', 257: 'canos', 258: 'san', 259: 'tara', 260: 'hace', 261: 'pen', 262: 'ru', 263: 'delatorre', 264: 'sotomayor', 265: 'ciones', 266: 'medalla', 267: 'je', 268: 'peti', 269: 'derro', 270: 'casi', 271: 'pesea', 272: 'solo', 273: 'escaños', 274: 'kuroyedov', 275: 'vales', 276: 'or', 277: 'vio', 278: 'confianza', 279: 'cimiento', 280: 'mer', 281: 'cre', 282: 'democracia', 283: 'tis', 284: 'zo', 285: 'obtu', 286: 'sufragios', 287: 'zada', 288: 'presidente', 289: 'ños', 290: 'equipo', 291: 'sal', 292: 'kuerten', 293: 'me', 294: 'munici', 295: 'ii', 296: 'sis', 297: 'lle', 298: 'creada', 299: 'den', 300: 'os', 301: 'logro', 302: 'zona', 303: 'ri', 304: 'pio', 305: 'eaa', 306: 'rojo', 307: 'cinturon', 308: 'localidades', 309: 'mado', 310: 'on', 311: 'jor', 312: 'mientras', 313: 'der', 314: '23', 315: 'semana', 316: 'exito', 317: 'comisioneuropea', 318: 'ccion', 319: 'dar', 320: 'pi', 321: 'primer', 322: 'ro', 323: 'defini', 324: 'populares', 325: 'fin', 326: 'aseguro', 327: 'be', 328: 'comer', 329: 'ho', 330: 'previsto', 331: 'lista', 332: 'sede', 333: 'yo', 334: 'za', 335: 'hal', 336: 'cabe', 337: 'segui', 338: '19', 339: 'tra', 340: '18', 341: 'res', 342: 'malaga', 343: 'conclusiones', 344: 'potencia', 345: '25', 346: 'preocu', 347: 'ahora', 348: 'acuerdo', 349: 'resultado', 350: 'cuer', 351: 'posible', 352: 'asicomo', 353: 'hecho', 354: 'terior', 355: 'latinoameri', 356: 'edu', 357: 'minis', 358: 'pacion', 359: 'posibili', 360: 'cri', 361: 'extranjero', 362: 'partici', 363: '0porciento', 364: 'dipu', 365: 'tada', 366: 'ticas', 367: 'tacion', 368: 'dan', 369: 'nuc', 370: 'va', 371: 'dente', 372: 'hi', 373: 'profun', 374: 'limina', 375: 'venta', 376: 'lto', 377: 'torias', 378: 'ladimi', 379: 'taran', 380: 'gar', 381: 'dero', 382: 'versiones', 383: 'vir', 384: 'insu', 385: 'parlamento', 386: 'electri', 387: 'pasado', 388: 'gue', 389: 'menos', 390: 'wimbledon', 391: 'sa', 392: 'del', 393: 'trans', 394: 'dimiento', 395: '00', 396: 'pren', 397: 'fer', 398: 'meligeni', 399: 'progra', 400: 'minado', 401: 'pare', 402: 'electricidad', 403: 'deno', 404: 'especial', 405: 'emo', 406: 'gracias', 407: 'produ', 408: 'sor', 409: 'conso', 410: 'trar', 411: 'princi', 412: 'tadosuni', 413: 'norteameri', 414: 'gui', 415: 'ña', 416: 'lema', 417: 'cubano', 418: 'coman', 419: 'cen', 420: 'francesa', 421: 'vice', 422: 'sab', 423: 'saltillo', 424: 'riobravo', 425: 'cada', 426: 'ruso', 427: 'ber', 428: 'gado', 429: 'saltar', 430: 'les', 431: 'sinem', 432: 'greso', 433: 'sables', 434: 'pan', 435: 'color', 436: 'pon', 437: 'altos', 438: 'consi', 439: 'dia', 440: 'para', 441: 'meses', 442: 'can', 443: 'explo', 444: 'tente', 445: 'tados', 446: 'gena', 447: '0000', 448: 'x', 449: 'rusas', 450: 'uer', 451: 'lobal', 452: '1porciento', 453: 'ico', 454: 'marinos', 455: 'partimento', 456: 'tre', 457: 'resalto', 458: 'dades', 459: 'leta', 460: 'lia', 461: 'provincia', 462: 'trabajos', 463: 'fe', 464: 'oro', 465: 'baren', 466: 'puso', 467: 'alcal', 468: '47', 469: 'cuya', 470: 'racion', 471: 'qui', 472: 'dolares', 473: 'abi', 474: 'euros', 475: 'ras', 476: 'dea', 477: 'traron', 478: 'tau', 479: 'sar', 480: 'josemariaaznar', 481: 'interven', 482: '495', 483: 'trabajo', 484: 'plo', 485: 'sos', 486: 'auna', 487: 'comuni', 488: 'taria', 489: 'natural', 490: 'rafter', 491: 'cesos', 492: 'acciones', 493: 'tencia', 494: 'efe', 495: 'contrato', 496: 'supercablealmeria', 497: 'cablelteca', 498: 'supercablesevilla', 499: 'conc', 500: 'edia', 501: 'diez', 502: 'senado', 503: 'brasil', 504: 'buscara', 505: 'autonomicas', 506: 'pcion', 507: 'ises', 508: 'probaron', 509: 'supercableandalucia', 510: 'cam', 511: 'dentro', 512: 'respe', 513: 'vili', 514: 'sores', 515: 'propiedad', 516: 'ya', 517: 'ofrece', 518: 'sen', 519: 'andalucia', 520: 'regis', 521: 'lares', 522: 'español', 523: 'nu', 524: 'conse', 525: 'asi', 526: 'ctos', 527: 'graf', 528: 'nue', 529: 'cin', 530: 'tavo', 531: 'electores', 532: 'pertenece', 533: 'exa', 534: 'acabar', 535: 'documentacion', 536: 'presentada', 537: 'holding', 538: 'ciacion', 539: 'andalu', 540: 'ganado', 541: 'eros', 542: 'fun', 543: 'bre', 544: 'ciar', 545: 'ada', 546: 'ficacion', 547: 'bien', 548: 'resultados', 549: 'capitan', 550: 'australiano', 551: 'mina', 552: 'mitsubis', 553: 'podra', 554: 'lear', 555: 'tes', 556: 'vigentes', 557: 'cer', 558: 'ven', 559: 'fes', 560: 'jun', 561: 'prue', 562: 'construccion', 563: 'llevar', 564: 'sabido', 565: 'hewitt', 566: 'norte', 567: 'altamira2', 568: 'chi', 569: 'todo', 570: 'tion', 571: 'brasile', 572: 'concentracion', 573: 'campe', 574: 'aragondecable', 575: 'uni', 576: 'chazaron', 577: 'siendo', 578: 'lusion', 579: 'lado', 580: 'aus', 581: 'lograr', 582: 'hon', 583: 'dialogo', 584: 'marcha', 585: 'gobernan', 586: 'tante', 587: 'mayoritario', 588: 'fico', 589: 'aznar', 590: 'adquieren', 591: 'his', 592: 'unionfenosainversiones', 593: 'endesatelecomunicaciones', 594: 'caso', 595: 'stetinternationalnetherlands', 596: 'pue', 597: '<UNK>'}\n"
     ]
    }
   ],
   "source": [
    "#Se obtienen los índices de cada palabra\n",
    "palabras_a_indices, indices_a_palabras = indices_palabras(dic_palabras)\n",
    "print(palabras_a_indices)\n",
    "print(indices_a_palabras)"
   ]
  },
  {
   "cell_type": "code",
   "execution_count": 15,
   "id": "5d14eb57",
   "metadata": {},
   "outputs": [],
   "source": [
    "def get_id(palabra_a_id: dict, palabra: str) -> int:\n",
    "    \"\"\"Obtiene el id de una palabra dada\n",
    "\n",
    "    Si no se encuentra la palabra se regresa el id\n",
    "    del token UNK\n",
    "\n",
    "    Parameters\n",
    "    ----------\n",
    "    palabra_a_id : dict\n",
    "        Diccionario de palabras a indices\n",
    "    palabra : str\n",
    "        Palabra a buscar\n",
    "\n",
    "    Returns\n",
    "    -------\n",
    "    int\n",
    "        Indice de la palabra\n",
    "    \"\"\"\n",
    "    id_unknow = palabra_a_id[ETIQUETA_UNK]\n",
    "    return palabra_a_id.get(palabra, id_unknow)"
   ]
  },
  {
   "cell_type": "markdown",
   "id": "25ed43d4e95ce3b9",
   "metadata": {},
   "source": [
    "## Paso 4\n",
    "Definimos los bigramas a usar para entrenar nuestra red neuronal"
   ]
  },
  {
   "cell_type": "code",
   "execution_count": 16,
   "id": "6b76c8bec326f4f4",
   "metadata": {},
   "outputs": [],
   "source": [
    "def lista_bigramas(corpus:list, palabras_a_indices:dict) -> list:\n",
    "    \"\"\"Obtiene bigramas para usar en un modelo de red neuronal\n",
    "    Parameters\n",
    "    ----------\n",
    "    corpus : list\n",
    "        corpus a procesar\n",
    "    indices_a_palabras : dict\n",
    "        Diccionario de palabras a indices\n",
    "    Returns\n",
    "    -------\n",
    "    list\n",
    "        Conjunto de bigramas\n",
    "    \"\"\"\n",
    "    bigramas = []\n",
    "    for i in range(len(corpus)-1):\n",
    "        bigrama = [get_id(palabras_a_indices, corpus[i]), get_id(palabras_a_indices, corpus[i+1])]\n",
    "        bigramas.append(bigrama)\n",
    "    return bigramas"
   ]
  },
  {
   "cell_type": "code",
   "execution_count": 17,
   "id": "a2a21bec",
   "metadata": {},
   "outputs": [
    {
     "name": "stdout",
     "output_type": "stream",
     "text": [
      "[[109, 597], [597, 597], [597, 120], [120, 127], [127, 33], [33, 597], [597, 597], [597, 597], [597, 74], [74, 597], [597, 597], [597, 305], [305, 298], [298, 597], [597, 597], [597, 597], [597, 245], [245, 255], [255, 482], [482, 228], [228, 597], [597, 120], [120, 597], [597, 494], [494, 191], [191, 562], [562, 567], [567, 566], [566, 597], [597, 597], [597, 597], [597, 255], [255, 489], [489, 597], [597, 174], [174, 245], [245, 597], [597, 597], [597, 597], [597, 597], [597, 597], [597, 597], [597, 402], [402, 597], [597, 597], [597, 597], [597, 597], [597, 597], [597, 159], [159, 597], [597, 348], [348, 375], [375, 597], [597, 305], [305, 597], [597, 597], [597, 597], [597, 345], [345, 126], [126, 120], [120, 597], [597, 597], [597, 597], [597, 597], [597, 597], [597, 597], [597, 305], [305, 597], [597, 597], [597, 562], [562, 567], [567, 597], [597, 597], [597, 597], [597, 174], [174, 597], [597, 120], [120, 597], [597, 597], [597, 597], [597, 597], [597, 597], [597, 597], [597, 597], [597, 597], [597, 159], [159, 597], [597, 17], [17, 425], [425, 424], [424, 423], [423, 597], [597, 420], [420, 597], [597, 597], [597, 597], [597, 120], [120, 330], [330, 597], [597, 597], [597, 189], [189, 474], [474, 597], [597, 189], [189, 472], [472, 245], [245, 424], [424, 344], [344, 482], [482, 228], [228, 597], [597, 189], [189, 474], [474, 215], [215, 189], [189, 472], [472, 423], [423, 134], [134, 597], [597, 255], [255, 489], [489, 469], [469, 344], [344, 597], [597, 597], [597, 228], [228, 597], [597, 342], [342, 597], [597, 331], [331, 34], [34, 217], [217, 461], [461, 597], [597, 597], [597, 33], [33, 225], [225, 597], [597, 597], [597, 597], [597, 58], [58, 597], [597, 597], [597, 597], [597, 597], [597, 597], [597, 225], [225, 324], [324, 597], [597, 597], [597, 597], [597, 597], [597, 332], [332, 597], [597, 597], [597, 34], [34, 214], [214, 147], [147, 406], [406, 225], [225, 126], [126, 33], [33, 597], [597, 404], [404, 597], [597, 597], [597, 597], [597, 597], [597, 165], [165, 184], [184, 597], [597, 597], [597, 597], [597, 597], [597, 597], [597, 480], [480, 597], [597, 597], [597, 564], [564, 563], [563, 34], [34, 58], [58, 147], [147, 406], [406, 597], [597, 564], [564, 597], [597, 597], [597, 597], [597, 80], [80, 597], [597, 597], [597, 597], [597, 597], [597, 326], [326, 214], [214, 597], [597, 589], [589, 597], [597, 597], [597, 583], [583, 597], [597, 597], [597, 597], [597, 597], [597, 597], [597, 577], [577, 597], [597, 597], [597, 597], [597, 34], [34, 540], [540, 597], [597, 342], [342, 165], [165, 184], [184, 505], [505, 502], [502, 353], [353, 597], [597, 597], [597, 483], [483, 597], [597, 597], [597, 597], [597, 597], [597, 349], [349, 165], [165, 505], [505, 214], [214, 597], [597, 597], [597, 519], [519, 515], [515, 99], [99, 515], [515, 597], [597, 221], [221, 597], [597, 10], [10, 331], [331, 597], [597, 597], [597, 597], [597, 126], [126, 597], [597, 58], [58, 597], [597, 33], [33, 225], [225, 80], [80, 353], [353, 351], [351, 191], [191, 587], [587, 115], [115, 597], [597, 597], [597, 597], [597, 548], [548, 461], [461, 597], [597, 58], [58, 217], [217, 502], [502, 385], [385, 597], [597, 597], [597, 58], [58, 589], [589, 317], [317, 127], [127, 33], [33, 597], [597, 597], [597, 597], [597, 191], [191, 572], [572, 595], [595, 593], [593, 207], [207, 592], [592, 204], [204, 590], [590, 188], [188, 249], [249, 597], [597, 238], [238, 252], [252, 250], [250, 207], [207, 204], [204, 590], [590, 247], [247, 82], [82, 188], [188, 597], [597, 574], [574, 497], [497, 509], [509, 498], [498, 496], [496, 247], [247, 495], [495, 597], [597, 597], [597, 492], [492, 486], [486, 597], [597, 537], [537, 298], [298, 325], [325, 595], [595, 532], [532, 109], [109, 597], [597, 597], [597, 74], [74, 597], [597, 114], [114, 213], [213, 593], [593, 207], [207, 532], [532, 109], [109, 522], [522, 597], [597, 517], [517, 114], [114, 213], [213, 232], [232, 592], [592, 204], [204, 74], [74, 109], [109, 522], [522, 597], [597, 517], [517, 114], [114, 597], [597, 597], [597, 213], [213, 597], [597, 597], [597, 597], [597, 597], [597, 574], [574, 497], [497, 509], [509, 498], [498, 496], [496, 238], [238, 213], [213, 252], [252, 597], [597, 114], [114, 250], [250, 597], [597, 597], [597, 519], [519, 597], [597, 597], [597, 597], [597, 486], [486, 597], [597, 74], [74, 537], [537, 298], [298, 207], [207, 204], [204, 188], [188, 249], [249, 597], [597, 238], [238, 250], [250, 252], [252, 87], [87, 597], [597, 597], [597, 535], [535, 536], [536, 114], [114, 597], [597, 317], [317, 597], [597, 82], [82, 597], [597, 597], [597, 511], [511, 597], [597, 597], [597, 597], [597, 597], [597, 597], [597, 317], [317, 597], [597, 597], [597, 597], [597, 597], [597, 82], [82, 597], [597, 597], [597, 597], [597, 501], [501, 183], [183, 191], [191, 572], [572, 503], [503, 504], [504, 597], [597, 597], [597, 597], [597, 597], [597, 134], [134, 251], [251, 597], [597, 556], [556, 597], [597, 597], [597, 597], [597, 237], [237, 597], [597, 597], [597, 597], [597, 597], [597, 597], [597, 597], [597, 597], [597, 597], [597, 597], [597, 237], [237, 597], [597, 597], [597, 597], [597, 597], [597, 597], [597, 597], [597, 597], [597, 547], [547, 549], [549, 550], [550, 597], [597, 553], [553, 597], [597, 597], [597, 597], [597, 597], [597, 597], [597, 597], [597, 597], [597, 597], [597, 116], [116, 597], [597, 229], [229, 597], [597, 390], [390, 597], [597, 181], [181, 597], [597, 290], [290, 550], [550, 221], [221, 549], [549, 597], [597, 597], [597, 597], [597, 597], [597, 292], [292, 597], [597, 597], [597, 290], [290, 597], [597, 597], [597, 597], [597, 597], [597, 597], [597, 597], [597, 597], [597, 597], [597, 597], [597, 597], [597, 597], [597, 425], [425, 290], [290, 490], [490, 292], [292, 597], [597, 597], [597, 134], [134, 597], [597, 597], [597, 565], [565, 597], [597, 398], [398, 597], [597, 597], [597, 232], [232, 597], [597, 597], [597, 597], [597, 597], [597, 597], [597, 597], [597, 325], [325, 315], [315, 597], [597, 105], [105, 597], [597, 597], [597, 597], [597, 237], [237, 390], [390, 597], [597, 597], [597, 597], [597, 597], [597, 597], [597, 597], [597, 504], [504, 597], [597, 597], [597, 597], [597, 597], [597, 161], [161, 597], [597, 597], [597, 597], [597, 597], [597, 17], [17, 597], [597, 597], [597, 597], [597, 597], [597, 597], [597, 597], [597, 597], [597, 597], [597, 597], [597, 597], [597, 417], [417, 597], [597, 326], [326, 597], [597, 161], [161, 597], [597, 597], [597, 116], [116, 266], [266, 464], [464, 597], [597, 597], [597, 597], [597, 597], [597, 597], [597, 353], [353, 597], [597, 597], [597, 597], [597, 597], [597, 597], [597, 597], [597, 597], [597, 597], [597, 597], [597, 597], [597, 597], [597, 129], [129, 597], [597, 597], [597, 597], [597, 597], [597, 116], [116, 597], [597, 597], [597, 263], [263, 597], [597, 264], [264, 272], [272, 540], [540, 597], [597, 597], [597, 597], [597, 597], [597, 597], [597, 597], [597, 420], [420, 597], [597, 597], [597, 597], [597, 597], [597, 193], [193, 597], [597, 597], [597, 597], [597, 597], [597, 58], [58, 597], [597, 597], [597, 116], [116, 278], [278, 597], [597, 597], [597, 195], [195, 93], [93, 597], [597, 597], [597, 597], [597, 272], [272, 597], [597, 429], [429, 597], [597, 193], [193, 597], [597, 597], [597, 597], [597, 264], [264, 597], [597, 597], [597, 597], [597, 597], [597, 116], [116, 266], [266, 435], [435, 597], [597, 597], [597, 597], [597, 326], [326, 263], [263, 597], [597, 266], [266, 464], [464, 597], [597, 597], [597, 597], [597, 193], [193, 597], [597, 597], [597, 597], [597, 429], [429, 597], [597, 93], [93, 597], [597, 597], [597, 597], [597, 597], [597, 68], [68, 597], [597, 338], [338, 597], [597, 17], [17, 597], [597, 597], [597, 286], [286, 597], [597, 78], [78, 597], [597, 597], [597, 597], [597, 597], [597, 349], [349, 80], [80, 68], [68, 597], [597, 282], [282, 597], [597, 597], [597, 99], [99, 597], [597, 597], [597, 597], [597, 273], [273, 184], [184, 260], [260, 597], [597, 126], [126, 271], [271, 597], [597, 270], [270, 597], [597, 78], [78, 597], [597, 597], [597, 597], [597, 597], [597, 597], [597, 597], [597, 597], [597, 597], [597, 181], [181, 597], [597, 597], [597, 42], [42, 597], [597, 385], [385, 597], [597, 78], [78, 597], [597, 597], [597, 78], [78, 597], [597, 597], [597, 597], [597, 597], [597, 597], [597, 597], [597, 597], [597, 597], [597, 271], [271, 597], [597, 273], [273, 597], [597, 286], [286, 273], [273, 597], [597, 34], [34, 68], [68, 597], [597, 597], [597, 349], [349, 80], [80, 68], [68, 345], [345, 126], [126, 282], [282, 93], [93, 494], [494, 288], [288, 34], [34, 141], [141, 597], [597, 597], [597, 316], [316, 324], [324, 597], [597, 597], [597, 597], [597, 99], [99, 597], [597, 597], [597, 597], [597, 165], [165, 184], [184, 597], [597, 33], [33, 34], [34, 597], [597, 597], [597, 308], [308, 597], [597, 307], [307, 306], [306, 597], [597, 68], [68, 597], [597, 597], [597, 597], [597, 99], [99, 597], [597, 597], [597, 577], [577, 80], [80, 597], [597, 597], [597, 597], [597, 302], [302, 308], [308, 597], [597, 307], [307, 306], [306, 99], [99, 301], [301, 33], [33, 58], [58, 597], [597, 597], [597, 597], [597, 129], [129, 597], [597, 597], [597, 597], [597, 78], [78, 312], [312, 34], [34, 597], [597, 597], [597, 597], [597, 597], [597, 17], [17, 597], [597, 597], [597, 597], [597, 597], [597, 307], [307, 306], [306, 597], [597, 597], [597, 301], [301, 33], [33, 58], [58, 331], [331, 597], [597, 597], [597, 480], [480, 597], [597, 302], [302, 597], [597, 597], [597, 597], [597, 206], [206, 34], [34, 301], [301, 597], [597, 597], [597, 525], [525, 597], [597, 597], [597, 324], [324, 597], [597, 78], [78, 99], [99, 548], [548, 597], [597, 597], [597, 308], [308, 566], [566, 597], [597, 597], [597, 597], [597, 286], [286, 302], [302, 597], [597, 597], [597, 78], [78, 597], [597, 597], [597, 597], [597, 587], [587, 435], [435, 206], [206, 597], [597, 597], [597, 141], [141, 215], [215, 531], [531, 597], [597, 597], [597, 147], [147, 278], [278, 34], [34, 597], [597, 270], [270, 597], [597, 597], [597, 531], [531, 597], [597, 597], [597, 597], [597, 597], [597, 597], [597, 597], [597, 68], [68, 270], [270, 597], [597, 147], [147, 278], [278, 597], [597, 34], [34, 597], [597, 597], [597, 33], [33, 597], [597, 343], [343, 597], [597, 166], [166, 57], [57, 597], [597, 45], [45, 597], [597, 597], [597, 597], [597, 103], [103, 163], [163, 361], [361, 127], [127, 597], [597, 67], [67, 597], [597, 597], [597, 597], [597, 45], [45, 387], [387, 597], [597, 597], [597, 597], [597, 46], [46, 597], [597, 597], [597, 347], [347, 597], [597, 597], [597, 103], [103, 597], [597, 597], [597, 194], [194, 597], [597, 597], [597, 597], [597, 288], [288, 67], [67, 597], [597, 127], [127, 343], [343, 597], [597, 87], [87, 17], [17, 441], [441, 483], [483, 597], [597, 166], [166, 597], [597, 597], [597, 138], [138, 597], [597, 597], [597, 597], [597, 53], [53, 223], [223, 87], [87, 597], [597, 597], [597, 182], [182, 332], [332, 74], [74, 597], [597, 597], [597, 57], [57, 174], [174, 597], [597, 67], [67, 343], [343, 597], [597, 196], [196, 93], [93, 597], [597, 597], [597, 597], [597, 556], [556, 105], [105, 597], [597, 194], [194, 597], [597, 597], [597, 511], [511, 57], [57, 103], [103, 163], [163, 597], [597, 551], [551, 597], [597, 597], [597, 597], [597, 597], [597, 597], [597, 105], [105, 382], [382, 597], [597, 129], [129, 525], [525, 597], [597, 597], [597, 501], [501, 194], [194, 597], [597, 67], [67, 597], [597, 597], [597, 597], [597, 163], [163, 426], [426, 597], [597, 597], [597, 597], [597, 597], [597, 57], [57, 361], [361, 597], [597, 211], [211, 597], [597, 45], [45, 597], [597, 193], [193, 597], [597, 597], [597, 597], [597, 46], [46, 597], [597, 93], [93, 87], [87, 597], [597, 597], [597, 597], [597, 597], [597, 597], [597, 597], [597, 449], [449, 597], [597, 133], [133, 138], [138, 597], [597, 597], [597, 597], [597, 597], [597, 57], [57, 597], [597, 597], [597, 597], [597, 45], [45, 597], [597, 597], [597, 597], [597, 210], [210, 597], [597, 597], [597, 195], [195, 597], [597, 597], [597, 597], [597, 597], [597, 17], [17, 224], [224, 597], [597, 57], [57, 597], [597, 426], [426, 597], [597, 53], [53, 597], [597, 597], [597, 597], [597, 597], [597, 17], [17, 224], [224, 597], [597, 597], [597, 45], [45, 597], [597, 597], [597, 87], [87, 597], [597, 597], [597, 597], [597, 597], [597, 597], [597, 597], [597, 138], [138, 597], [597, 597], [597, 315], [315, 597], [597, 330], [330, 597], [597, 82], [82, 597], [597, 235], [235, 597], [597, 597], [597, 260], [260, 597], [597, 115], [115, 53], [53, 223], [223, 351], [351, 597], [597, 82], [82, 196], [196, 597], [597, 33], [33, 597], [597, 597], [597, 316], [316, 597], [597, 196], [196, 597], [597, 260], [260, 17], [17, 183], [183, 33], [33, 597], [597, 597], [597, 166], [166, 597], [597, 597], [597, 597], [597, 597], [597, 597], [597, 103], [103, 57], [57, 361], [361, 597], [597, 597], [597, 597], [597, 53], [53, 223], [223, 93], [93, 182], [182, 129], [129, 194], [194, 103], [103, 597], [597, 67], [67, 597], [597, 105], [105, 382], [382, 597], [597, 597], [597, 597], [597, 441], [441, 115], [115, 53], [53, 597], [597, 597], [597, 597], [597, 597], [597, 351], [351, 597], [597, 439], [439, 597], [597, 597], [597, 597], [597, 437], [437, 597], [597, 115], [115, 53], [53, 597], [597, 597], [597, 597], [597, 597], [597, 103], [103, 597], [597, 597], [597, 597], [597, 74], [74, 597], [597, 597], [597, 597], [597, 17], [17, 224], [224, 597], [597, 211], [211, 45], [45, 597], [597, 597], [597, 597], [597, 134], [134, 597], [597, 597], [597, 597], [597, 597], [597, 597], [597, 597], [597, 597], [597, 597], [597, 597], [597, 597], [597, 17], [17, 597], [597, 597], [597, 597], [597, 597], [597, 449], [449, 597], [597, 597], [597, 597], [597, 597], [597, 224], [224, 597], [597, 597], [597, 597], [597, 462], [462, 597], [597, 597], [597, 597], [597, 181], [181, 597], [597, 321], [321, 597], [597, 45], [45, 597], [597, 454], [454, 105], [105, 597], [597, 469], [469, 141], [141, 597], [597, 597], [597, 597], [597, 597], [597, 597], [597, 597], [597, 45], [45, 182], [182, 33], [33, 67], [67, 597], [597, 597], [597, 597], [597, 535], [535, 597], [597, 597], [597, 597], [597, 597], [597, 597], [597, 183], [183, 163], [163, 597], [597, 597], [597, 211], [211, 597], [597, 87], [87, 597], [597, 597], [597, 597], [597, 597], [597, 53], [53, 597], [597, 133], [133, 235], [235, 138], [138, 597], [597, 597], [597, 597], [597, 495], [495, 597], [597, 597], [597, 74], [74, 597], [597, 597], [597, 597], [597, 133], [133, 129], [129, 437], [437, 597], [597, 53], [53, 597], [597, 597], [597, 272], [272, 553], [553, 597], [597, 597], [597, 597], [597, 597], [597, 597], [597, 53], [53, 223], [223, 597], [597, 597], [597, 597], [597, 597], [597, 82], [82, 133], [133, 235], [235, 597], [597, 597], [597, 597], [597, 597], [597, 45], [45, 597], [597, 597], [597, 597], [597, 597], [597, 597], [597, 597], [597, 597], [597, 454], [454, 597], [597, 563], [563, 597], [597, 82], [82, 133], [133, 597], [597, 274], [274, 127], [127, 597], [597, 597], [597, 597], [597, 138], [138, 45], [45, 597], [597, 597], [597, 597], [597, 597], [597, 597], [597, 597], [597, 57], [57, 597], [597, 347], [347, 597], [597, 597], [597, 316], [316, 597], [597, 597], [597, 597], [597, 597], [597, 597], [597, 597], [597, 597], [597, 211], [211, 166], [166, 330], [330, 597], [597, 462], [462, 338], [338, 597], [597, 597], [597, 597], [597, 597], [597, 597], [597, 315], [315, 597], [597, 597], [597, 581], [581, 597], [597, 597], [597, 597], [597, 492], [492, 239], [239, 597], [597, 597], [597, 597], [597, 597], [597, 597], [597, 597], [597, 597], [597, 347], [347, 597], [597, 115], [115, 597], [597, 597], [597, 597], [597, 597], [597, 241], [241, 159], [159, 597], [597, 597], [597, 597], [597, 597], [597, 597], [597, 240], [240, 597], [597, 597], [597, 597], [597, 158], [158, 597], [597, 597], [597, 597], [597, 597], [597, 597], [597, 534], [534, 597], [597, 597], [597, 597], [597, 597], [597, 188], [188, 597], [597, 597], [597, 597], [597, 597], [597, 597], [597, 597], [597, 174], [174, 597], [597, 597], [597, 597], [597, 141], [141, 597], [597, 247], [247, 597], [597, 597], [597, 597], [597, 597], [597, 597], [597, 597], [597, 597], [597, 597], [597, 239], [239, 241], [241, 597], [597, 597], [597, 597], [597, 597], [597, 242], [242, 256], [256, 597], [597, 597], [597, 597], [597, 597], [597, 597], [597, 597], [597, 597], [597, 68], [68, 232], [232, 597], [597, 597], [597, 251], [251, 597], [597, 597], [597, 597], [597, 597], [597, 597], [597, 597], [597, 597], [597, 597], [597, 597], [597, 597], [597, 597], [597, 597], [597, 597], [597, 597], [597, 141], [141, 597], [597, 597], [597, 176], [176, 158], [158, 597], [597, 597], [597, 597], [597, 597], [597, 597], [597, 597], [597, 597], [597, 597], [597, 597], [597, 597], [597, 352], [352, 597], [597, 597], [597, 597], [597, 597], [597, 597], [597, 597], [597, 597], [597, 597], [597, 597], [597, 597], [597, 597], [597, 503], [503, 597], [597, 597], [597, 416], [416, 597], [597, 89], [89, 597], [597, 597], [597, 457], [457, 597], [597, 597], [597, 583], [583, 597], [597, 534], [534, 597], [597, 319], [319, 597], [597, 597], [597, 597], [597, 597], [597, 352], [352, 597], [597, 89], [89, 597], [597, 597], [597, 597], [597, 597], [597, 176], [176, 597], [597, 597], [597, 597], [597, 332], [332, 597], [597, 176], [176, 597], [597, 597], [597, 597], [597, 256], [256, 597], [597, 89], [89, 240], [240, 158], [158, 597], [597, 597], [597, 182], [182, 457], [457, 597], [597, 348], [348, 597], [597, 597], [597, 597], [597, 597], [597, 256], [256, 159], [159, 597], [597, 597], [597, 597], [597, 597], [597, 597], [597, 597], [597, 352], [352, 597], [597, 89], [89, 597], [597, 536], [536, 597], [597, 597], [597, 597], [597, 597], [597, 597], [597, 597], [597, 597], [597, 597], [597, 239], [239, 597], [597, 597], [597, 597], [597, 597], [597, 597], [597, 597], [597, 242], [242, 597], [597, 597], [597, 597], [597, 597], [597, 597], [597, 597], [597, 134], [134, 597], [597, 597], [597, 597], [597, 597], [597, 597], [597, 389], [389, 597], [597, 597], [597, 597], [597, 242], [242, 288], [288, 417], [417, 597], [597, 597], [597, 597], [597, 597], [597, 597], [597, 597], [597, 416], [416, 597], [597, 597], [597, 89], [89, 597], [597, 597], [597, 176], [176, 158], [158, 597], [597, 597], [597, 597], [597, 597], [597, 282], [282, 581], [581, 89], [89, 597], [597, 597], [597, 597], [597, 597]]\n"
     ]
    }
   ],
   "source": [
    "#Obtenemos los bigramas\n",
    "bigramas = lista_bigramas(tokens_normalizados, palabras_a_indices)\n",
    "print(bigramas)"
   ]
  },
  {
   "cell_type": "markdown",
   "id": "7af46c26",
   "metadata": {},
   "source": [
    "## Paso 5\n",
    "\n",
    "Construimos la red neuronal"
   ]
  },
  {
   "cell_type": "code",
   "execution_count": 22,
   "id": "8e2d43cb",
   "metadata": {},
   "outputs": [],
   "source": [
    "#Inicializacion de hiperparámetros\n",
    "\n",
    "np.random.seed(42) #Seed para la reproductibilidad\n",
    "N = len(palabras_a_indices.keys()) #Longitud del vocabulario\n",
    "d = 2 #Dimensión de los embeddings\n",
    "m = N #Número de unidades en la capa oculta\n",
    "taza_aprend = 0.01 #Rango de aprendizaje\n",
    "EPOCHS = 100 #Número de iteraciones para entrenamiento"
   ]
  },
  {
   "cell_type": "code",
   "execution_count": 23,
   "id": "8bc8ed51",
   "metadata": {},
   "outputs": [],
   "source": [
    "#Inicialización de parámetros\n",
    "C = np.random.randn(d, N) / np.sqrt(N)\n",
    "W =  np.random.randn(m, d) / np.sqrt(d)\n",
    "b = np.random.randn(m) / np.sqrt(m)\n",
    "U = np.random.randn(N,m) / np.sqrt(m)\n",
    "c = np.random.randn(N) / np.sqrt(N)"
   ]
  },
  {
   "cell_type": "code",
   "execution_count": 24,
   "id": "e12c2751",
   "metadata": {},
   "outputs": [],
   "source": [
    "#Función para construir el vector one-hot de una palabra a partir de su índice\n",
    "def crear_one_hot(ind : int, size : int) -> list:\n",
    "    onehot = np.zeros(size)\n",
    "    onehot[ind] = 1\n",
    "    return onehot"
   ]
  },
  {
   "cell_type": "code",
   "execution_count": 26,
   "id": "ac7a0d75",
   "metadata": {},
   "outputs": [
    {
     "name": "stdout",
     "output_type": "stream",
     "text": [
      "Epoch 0, loss: 5817.679708303554\n",
      "Epoch 1, loss: 5422.145053887241\n",
      "Epoch 2, loss: 5479.842896525415\n",
      "Epoch 3, loss: 5491.161905830409\n",
      "Epoch 4, loss: 5462.434539026119\n",
      "Epoch 5, loss: 5412.143524821574\n",
      "Epoch 6, loss: 5359.567765407513\n",
      "Epoch 7, loss: 5310.98581073079\n",
      "Epoch 8, loss: 5271.346042909087\n",
      "Epoch 9, loss: 5240.0011370955335\n",
      "Epoch 10, loss: 5214.6726855105735\n",
      "Epoch 11, loss: 5193.857337001131\n",
      "Epoch 12, loss: 5176.772018423473\n",
      "Epoch 13, loss: 5162.689864380128\n",
      "Epoch 14, loss: 5150.841359211839\n",
      "Epoch 15, loss: 5140.617283418203\n",
      "Epoch 16, loss: 5131.619234483378\n",
      "Epoch 17, loss: 5123.619108551727\n",
      "Epoch 18, loss: 5116.502920806569\n",
      "Epoch 19, loss: 5110.209599994566\n",
      "Epoch 20, loss: 5104.66322500333\n",
      "Epoch 21, loss: 5099.7521770202175\n",
      "Epoch 22, loss: 5095.36160544437\n",
      "Epoch 23, loss: 5091.3933985889025\n",
      "Epoch 24, loss: 5087.761610366459\n",
      "Epoch 25, loss: 5084.384473519704\n",
      "Epoch 26, loss: 5081.179100093716\n",
      "Epoch 27, loss: 5078.060391580534\n",
      "Epoch 28, loss: 5074.951397585881\n",
      "Epoch 29, loss: 5071.815931767097\n",
      "Epoch 30, loss: 5068.704592538567\n",
      "Epoch 31, loss: 5065.748749786422\n",
      "Epoch 32, loss: 5063.05723505255\n",
      "Epoch 33, loss: 5060.64755865551\n",
      "Epoch 34, loss: 5058.487945650758\n",
      "Epoch 35, loss: 5056.541505168012\n",
      "Epoch 36, loss: 5054.778016046105\n",
      "Epoch 37, loss: 5053.1728266408845\n",
      "Epoch 38, loss: 5051.703294068168\n",
      "Epoch 39, loss: 5050.3461346806525\n",
      "Epoch 40, loss: 5049.076542356521\n",
      "Epoch 41, loss: 5047.869021294337\n",
      "Epoch 42, loss: 5046.699281375579\n",
      "Epoch 43, loss: 5045.546139007445\n",
      "Epoch 44, loss: 5044.392540882666\n",
      "Epoch 45, loss: 5043.225527091929\n",
      "Epoch 46, loss: 5042.035593505706\n",
      "Epoch 47, loss: 5040.816088750696\n",
      "Epoch 48, loss: 5039.563081235434\n",
      "Epoch 49, loss: 5038.275846355395\n",
      "Epoch 50, loss: 5036.9578846889\n",
      "Epoch 51, loss: 5035.6180932405\n",
      "Epoch 52, loss: 5034.27121286276\n",
      "Epoch 53, loss: 5032.936133508402\n",
      "Epoch 54, loss: 5031.631033794109\n",
      "Epoch 55, loss: 5030.366761475515\n",
      "Epoch 56, loss: 5029.142692990812\n",
      "Epoch 57, loss: 5027.948375557111\n",
      "Epoch 58, loss: 5026.76980504215\n",
      "Epoch 59, loss: 5025.596362225486\n",
      "Epoch 60, loss: 5024.425035656409\n",
      "Epoch 61, loss: 5023.260722422272\n",
      "Epoch 62, loss: 5022.113403451349\n",
      "Epoch 63, loss: 5020.994008450722\n",
      "Epoch 64, loss: 5019.910835319385\n",
      "Epoch 65, loss: 5018.867726279703\n",
      "Epoch 66, loss: 5017.864159119719\n",
      "Epoch 67, loss: 5016.896564177512\n",
      "Epoch 68, loss: 5015.959943500901\n",
      "Epoch 69, loss: 5015.049159159216\n",
      "Epoch 70, loss: 5014.1596866353675\n",
      "Epoch 71, loss: 5013.287910376233\n",
      "Epoch 72, loss: 5012.431125809199\n",
      "Epoch 73, loss: 5011.587388946624\n",
      "Epoch 74, loss: 5010.755304304297\n",
      "Epoch 75, loss: 5009.933803857568\n",
      "Epoch 76, loss: 5009.121951524278\n",
      "Epoch 77, loss: 5008.31880278259\n",
      "Epoch 78, loss: 5007.523347324411\n",
      "Epoch 79, loss: 5006.734554480685\n",
      "Epoch 80, loss: 5005.951520756288\n",
      "Epoch 81, loss: 5005.173687820749\n",
      "Epoch 82, loss: 5004.401067812345\n",
      "Epoch 83, loss: 5003.634395206316\n",
      "Epoch 84, loss: 5002.875132110294\n",
      "Epoch 85, loss: 5002.125289469956\n",
      "Epoch 86, loss: 5001.387082770967\n",
      "Epoch 87, loss: 5000.66250011427\n",
      "Epoch 88, loss: 4999.952899177279\n",
      "Epoch 89, loss: 4999.2587464732605\n",
      "Epoch 90, loss: 4998.579563605179\n",
      "Epoch 91, loss: 4997.914072467897\n",
      "Epoch 92, loss: 4997.26047111227\n",
      "Epoch 93, loss: 4996.616750550331\n",
      "Epoch 94, loss: 4995.980979212863\n",
      "Epoch 95, loss: 4995.351514892755\n",
      "Epoch 96, loss: 4994.727132967588\n",
      "Epoch 97, loss: 4994.107076555936\n",
      "Epoch 98, loss: 4993.491041740987\n",
      "Epoch 99, loss: 4992.879114271904\n",
      "CPU times: user 27min 43s, sys: 1h 7min 20s, total: 1h 35min 4s\n",
      "Wall time: 13min 9s\n"
     ]
    }
   ],
   "source": [
    "%%time\n",
    "#Realizamos el entrenamiento\n",
    "\n",
    "losses = []\n",
    "for epoch in range(EPOCHS):\n",
    "    # Acumula el riesgo de la epoch\n",
    "    loss = 0\n",
    "    for bigrama in bigramas:\n",
    "        #Obtener one-hot\n",
    "        one_hot = crear_one_hot(bigrama[0], N)\n",
    "\n",
    "        #Embedding\n",
    "        Ci = np.dot(C,one_hot)\n",
    "\n",
    "        #Capa oculta\n",
    "        WCi = np.dot(W, Ci)\n",
    "        tanh = np.vectorize(lambda x: math.tanh(x))\n",
    "        hi = tanh(WCi + b)\n",
    "\n",
    "        #Pre-activacion\n",
    "        ai = np.dot(U, hi) + c\n",
    "\n",
    "        #activacion\n",
    "        expai = np.exp(ai)\n",
    "        f =  expai / expai.sum(0)\n",
    "        \n",
    "        # Calcula loss por ejemplo\n",
    "        loss += -np.log(f)[bigrama[1]]\n",
    "\n",
    "        # Backpropagation\n",
    "        # Variable de salida\n",
    "        d_out = f\n",
    "        d_out[bigrama[1]] -= 1\n",
    "\n",
    "        U -= (taza_aprend * np.outer(d_out, hi))\n",
    "\n",
    "        for i in range(len(b)):\n",
    "            b[i] -= taza_aprend * d_out[i]\n",
    "            \n",
    "        \n",
    "        dh = np.dot(d_out, U) * (1-(hi**2))\n",
    "        W -= (taza_aprend * np.outer(dh, Ci))\n",
    "\n",
    "        for i in range(len(c)):\n",
    "            c[i] -= taza_aprend * dh[i]\n",
    "\n",
    "        dc = np.dot(dh, W)\n",
    "        C -= (taza_aprend * np.outer(dc, one_hot))\n",
    "\n",
    "        # Guardamos el loss\n",
    "    losses.append(loss)\n",
    "    print(f\"Epoch {epoch}, loss: {loss}\")"
   ]
  },
  {
   "cell_type": "code",
   "execution_count": 27,
   "id": "bf1d23eb",
   "metadata": {},
   "outputs": [
    {
     "data": {
      "image/png": "[encoded data removed]",
      "text/plain": [
       "<Figure size 640x480 with 1 Axes>"
      ]
     },
     "metadata": {},
     "output_type": "display_data"
    }
   ],
   "source": [
    "#Graficamos los diferentes losses a través de las iteraciones\n",
    "plt.plot(losses, 'v-')\n",
    "plt.title('Loss a través de las Epochs')\n",
    "plt.xlabel('Epoch')\n",
    "plt.ylabel('Loss')\n",
    "plt.show()"
   ]
  },
  {
   "cell_type": "code",
   "execution_count": 28,
   "id": "137c41fe",
   "metadata": {},
   "outputs": [],
   "source": [
    "def forward(ind_palabra : int, N : int):\n",
    "    #Obtener one-hot\n",
    "    one_hot = crear_one_hot(ind_palabra, N)\n",
    "\n",
    "    #Embedding\n",
    "    Ci = np.dot(C,one_hot)\n",
    "    \n",
    "    #Capa oculta\n",
    "    WCi = np.dot(W, Ci)\n",
    "    tanh = np.vectorize(lambda x: math.tanh(x))\n",
    "    hi = tanh(WCi + b)\n",
    "    #Pre-activacion\n",
    "    ai = np.dot(U, hi) + c\n",
    "\n",
    "    #activacion\n",
    "    expai = np.exp(ai)\n",
    "    salidas =  expai / expai.sum(0)\n",
    "    return salidas"
   ]
  },
  {
   "cell_type": "code",
   "execution_count": 29,
   "id": "b5f3d178",
   "metadata": {},
   "outputs": [],
   "source": [
    "#Función para obtener la probabilidad de un bigrama\n",
    "def proba_bigrama(ind_palabra: int, ind_objetivo : int, N : int):\n",
    "    probas = forward(ind_palabra, N)\n",
    "    return probas[ind_objetivo]"
   ]
  },
  {
   "cell_type": "code",
   "execution_count": 30,
   "id": "6b675a78",
   "metadata": {},
   "outputs": [
    {
     "name": "stdout",
     "output_type": "stream",
     "text": [
      "[('<UNK>', 0.9958468024410303), ('versiones', 0.004040544441456742), ('español', 3.7123251117744725e-05), ('extranjero', 1.9388080556781272e-05), ('colision', 1.872046949766206e-05), ('dos', 1.1324493867524106e-05), ('rafter', 4.776229241141842e-06), ('conclusiones', 3.7280844694109887e-06), ('australiano', 3.40136319263107e-06), ('contrato', 3.0685670476559005e-06), ('tres', 2.828160133581345e-06), ('operacion', 1.4206219063425815e-06), ('principal', 1.4014532880653137e-06), ('presentada', 1.1895553501537956e-06), ('comun', 1.145112911914355e-06), ('holding', 1.0197193697026776e-06), ('dijo', 4.7311690755321775e-07), ('final', 3.9446798464910533e-07), ('tras', 3.0972626663896435e-07), ('28', 1.5054929839522015e-07)]\n"
     ]
    }
   ],
   "source": [
    "#Obtenemos las diferentes probabilidades para una palabra\n",
    "palabra = \"tres\"\n",
    "probabilities = sorted(\n",
    "    list(zip(palabras_a_indices.keys(), forward(palabras_a_indices[palabra], N))),\n",
    "    key=lambda x: x[1],\n",
    "    reverse=True\n",
    ")\n",
    "print(probabilities[:20])"
   ]
  },
  {
   "cell_type": "markdown",
   "id": "49c0965c",
   "metadata": {},
   "source": [
    "## Paso 6\n",
    "Evaluamos el modelo usando perplejidad"
   ]
  },
  {
   "cell_type": "code",
   "execution_count": 31,
   "id": "35fc0b5c",
   "metadata": {},
   "outputs": [
    {
     "name": "stdout",
     "output_type": "stream",
     "text": [
      "Perplejidad de la oración ['<BOS>', 'grupo', 'es', 'ta', 'tal', '<EOS>']: 80114084.95527084\n"
     ]
    }
   ],
   "source": [
    "#Perplejidad\n",
    "def get_perplexity(corpus_eval : list, palabras_a_ind : dict):\n",
    "    bigramas = lista_bigramas(corpus_eval, palabras_a_ind)\n",
    "    probas = 0\n",
    "    for bigrama in bigramas:\n",
    "        if(probas != 0):\n",
    "            probas *= 1/proba_bigrama(bigrama[0], bigrama[1], N)\n",
    "        else:\n",
    "            probas = 1/proba_bigrama(bigrama[0], bigrama[1], N)\n",
    "    return probas ** (1/(len(corpus_eval)-2))\n",
    "\n",
    "evaluacion = ['<BOS>', 'grupo', 'es', 'ta', 'tal', \"<EOS>\"]\n",
    "perplejidad = get_perplexity(evaluacion, palabras_a_indices)\n",
    "print(f\"Perplejidad de la oración {evaluacion}: {perplejidad}\")"
   ]
  },
  {
   "cell_type": "code",
   "execution_count": 41,
   "id": "608171fb",
   "metadata": {},
   "outputs": [
    {
     "name": "stdout",
     "output_type": "stream",
     "text": [
      "Generando oracion: \n",
      "concentracion stetinternationalnetherlands oro grupo versiones grupo versiones grupo versiones grupo \n"
     ]
    }
   ],
   "source": [
    "#Generamos una oracion\n",
    "def generate_words(palabras_a_ind: dict, ind_a_palabras: dict, longitud: int) -> str:\n",
    "    oracion = \"\"\n",
    "    ultima = \"millones\"\n",
    "    for i in range(longitud):\n",
    "        result = list(forward(palabras_a_ind[ultima], N))\n",
    "        del result[palabras_a_ind[\"<UNK>\"]] #por si UNK es la de mayor frecuencia\n",
    "        indice = result.index(max(result))\n",
    "        siguiente = ind_a_palabras[indice]\n",
    "        if(siguiente == \"<EOS>\"):\n",
    "            oracion += \". \"\n",
    "        elif(siguiente != \"<BOS>\"):\n",
    "            oracion += f\"{siguiente} \"\n",
    "        ultima = siguiente\n",
    "    return oracion\n",
    "print(\"Generando oracion: \")\n",
    "print(generate_words(palabras_a_indices, indices_a_palabras, 10))"
   ]
  },
  {
   "cell_type": "code",
   "execution_count": 45,
   "id": "a326e5e5",
   "metadata": {},
   "outputs": [
    {
     "data": {
      "image/png": "[encoded data removed]",
      "text/plain": [
       "<Figure size 640x480 with 1 Axes>"
      ]
     },
     "metadata": {},
     "output_type": "display_data"
    }
   ],
   "source": [
    "#Visualizando los embbedings con PCA\n",
    "def plot_words(Z, ids):\n",
    "    Z = PCA(2).fit_transform(Z)\n",
    "    r=0\n",
    "    plt.scatter(Z[:,0],Z[:,1], marker='o', c='teal')\n",
    "    for label,x,y in zip(ids, Z[:,0], Z[:,1]):\n",
    "        plt.annotate(label, xy=(x,y), xytext=(-1,1), textcoords='offset points', ha='center', va='bottom')\n",
    "        r+=1\n",
    "\n",
    "plot_words(C.T[90:130], list(palabras_a_indices.keys())[90:130])\n",
    "plt.title('Embeddings')\n",
    "plt.show()"
   ]
  }
 ],
 "metadata": {
  "kernelspec": {
   "display_name": "Python 3",
   "language": "python",
   "name": "python3"
  },
  "language_info": {
   "codemirror_mode": {
    "name": "ipython",
    "version": 3
   },
   "file_extension": ".py",
   "mimetype": "text/x-python",
   "name": "python",
   "nbconvert_exporter": "python",
   "pygments_lexer": "ipython3",
   "version": "3.8.10"
  }
 },
 "nbformat": 4,
 "nbformat_minor": 5
}
