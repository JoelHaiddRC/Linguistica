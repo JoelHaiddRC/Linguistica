{
 "cells": [
  {
   "cell_type": "markdown",
   "metadata": {},
   "source": [
    "# Ejercicio 2\n",
    "\n",
    "Para esta seccion, seleccionamos de nuevo el corpus **cess_es** y lo preprocesamos de la misma manera que en el ejercicio 1"
   ]
  },
  {
   "cell_type": "code",
   "execution_count": 1,
   "metadata": {},
   "outputs": [],
   "source": [
    "import re\n",
    "import os\n",
    "import pandas as pd\n",
    "import numpy as np\n",
    "from collections import Counter\n",
    "import matplotlib.pyplot as plt\n",
    "from sklearn.decomposition import PCA\n",
    "import math   \n",
    "\n",
    "from preprocesador import *\n",
    "from subword import *\n",
    "from frecuencias import *\n",
    "\n",
    "os.environ[\"NLTK_DATA\"]=\"datos_nltk/\"\n",
    "import  nltk\n",
    "from nltk.corpus import stopwords"
   ]
  },
  {
   "cell_type": "markdown",
   "metadata": {},
   "source": [
    "## Paso 1\n",
    "Preprocesamos el corpus"
   ]
  },
  {
   "cell_type": "code",
   "execution_count": 2,
   "metadata": {},
   "outputs": [
    {
     "name": "stderr",
     "output_type": "stream",
     "text": [
      "[nltk_data] Downloading package cess_esp to /home/joel/nltk_data...\n",
      "[nltk_data]   Package cess_esp is already up-to-date!\n"
     ]
    },
    {
     "name": "stdout",
     "output_type": "stream",
     "text": [
      "Numero de oraciones en el corpus: 1000\n"
     ]
    }
   ],
   "source": [
    "## Seleccionamos el corpus\n",
    "from nltk.corpus import cess_esp\n",
    "\n",
    "nltk.download(\"cess_esp\")\n",
    "\n",
    "## Obtenemos las oraciones del corpus para el entrenamiento de nuestra red neuronal\n",
    "corpus_sents = cess_esp.sents()[0:1000]\n",
    "\n",
    "print(\"Numero de oraciones en el corpus:\", len(corpus_sents))"
   ]
  },
  {
   "cell_type": "code",
   "execution_count": 3,
   "metadata": {},
   "outputs": [
    {
     "name": "stderr",
     "output_type": "stream",
     "text": [
      "[nltk_data] Downloading package stopwords to /home/joel/nltk_data...\n",
      "[nltk_data]   Package stopwords is already up-to-date!\n"
     ]
    },
    {
     "name": "stdout",
     "output_type": "stream",
     "text": [
      "Numero de tokens, despues del preprocesamiento: 17801\n"
     ]
    }
   ],
   "source": [
    "# Procedemos a normalizar el texto:\n",
    "nltk.download('stopwords')\n",
    "stopwords_list = stopwords.words('spanish')\n",
    "\n",
    "# Normalizamos los oraciones\n",
    "sents_norm = [pre_procesar(oracion, stopwords_list) for oracion in corpus_sents]\n",
    "# Obtenemos todas las palabras del texto\n",
    "tokens_normalizados = [x for xs in sents_norm for x in xs]\n",
    "\n",
    "print(\"Numero de tokens, despues del preprocesamiento:\", len(tokens_normalizados))"
   ]
  },
  {
   "cell_type": "code",
   "execution_count": 4,
   "metadata": {},
   "outputs": [],
   "source": [
    "# Entrenamos nuestro algoritmo de BPE con las palabras del corpus, \n",
    "# obtenemos las reglas y las frecuencias de cada token\n",
    "freqs_bpe, reglas_bpe = entrenar_byte_pair_encoding(tokens_normalizados, 500)"
   ]
  },
  {
   "cell_type": "code",
   "execution_count": 5,
   "metadata": {},
   "outputs": [],
   "source": [
    "# Aplicamos nuestro modelo bpe a cada oracion para obtener las oraciones tokenizadas\n",
    "sents_tokenizadas = [aplicar_bpe(sent, reglas_bpe) for sent in sents_norm]\n",
    "\n",
    "# Agregamos la etiqueta <BOS> a cada oracion\n",
    "sents_tokenizadas = [[\"<BOS>\"] + sent for sent in sents_tokenizadas]\n"
   ]
  },
  {
   "cell_type": "code",
   "execution_count": 6,
   "metadata": {},
   "outputs": [
    {
     "name": "stdout",
     "output_type": "stream",
     "text": [
      "         palabra  frecuencia\n",
      "0             de         523\n",
      "1              a         432\n",
      "2              o         429\n",
      "3             to         334\n",
      "4             do         289\n",
      "...          ...         ...\n",
      "4226   lazarocar           1\n",
      "4227  realidades           1\n",
      "4228       queri           1\n",
      "4229       fatal           1\n",
      "4230       pleta           1\n",
      "\n",
      "[4231 rows x 2 columns]\n"
     ]
    }
   ],
   "source": [
    "# Construimos la tabla para las frecuencias de las palabras\n",
    "tabla_frecuencias_bpe = crear_tabla_frecuencias(freqs_bpe)\n",
    "print(tabla_frecuencias_bpe)"
   ]
  },
  {
   "cell_type": "code",
   "execution_count": 7,
   "metadata": {},
   "outputs": [],
   "source": [
    "#Convertimos la tabla en un diccionario para usarlo en el modelo\n",
    "palabras = tabla_frecuencias_bpe['palabra']\n",
    "frecuencias = tabla_frecuencias_bpe['frecuencia']\n",
    "dic_palabras = {}  \n",
    "for i in range(len(frecuencias)):\n",
    "    dic_palabras[palabras[i]] = frecuencias[i]\n",
    "dic_palabras[\"<BOS>\"] = len(sents_norm)\n",
    "dic_palabras[\"<EOS>\"] = len(sents_norm)"
   ]
  },
  {
   "cell_type": "code",
   "execution_count": 8,
   "metadata": {},
   "outputs": [],
   "source": [
    "ETIQUETA_UNK = \"<UNK>\"\n",
    "def indices_palabras(palabras_frecuencias: dict):\n",
    "    \"\"\"Calcula los indices de las palabras dadas sus frecuencias\n",
    "\n",
    "    Parameters\n",
    "    ----------\n",
    "    palabras_frecuencias : dict\n",
    "        Diccionario donde las llaves son las palabras y los valores sus frecuencias\n",
    "\n",
    "    Returns\n",
    "    -------\n",
    "    dict,dict\n",
    "        Diccionarios uno a uno de palabras a indices y viceversa\n",
    "    \"\"\"\n",
    "    result = {}\n",
    "    for ind, palabra in enumerate(palabras_frecuencias.keys()):\n",
    "        # Ocurrio un Happax legomena o singleton\n",
    "        if palabras_frecuencias[palabra] == 1:\n",
    "            # Indice temporal para UNK\n",
    "            result[ETIQUETA_UNK] = len(palabras_frecuencias)\n",
    "        else:\n",
    "            result[palabra] = ind\n",
    "\n",
    "    return {word: idx for idx, word in enumerate(result.keys())}, {idx: word for idx, word in enumerate(result.keys())}"
   ]
  },
  {
   "cell_type": "code",
   "execution_count": 9,
   "metadata": {},
   "outputs": [
    {
     "name": "stdout",
     "output_type": "stream",
     "text": [
      "{'de': 0, 'a': 1, 'o': 2, 'to': 3, 'do': 4, 'co': 5, 'con': 6, 're': 7, 'ta': 8, 'c': 9, 'i': 10, 'ca': 11, 'ti': 12, 'te': 13, 'e': 14, 'en': 15, 'al': 16, 'es': 17, 'cia': 18, 'l': 19, 'fi': 20, 'da': 21, 'si': 22, 'di': 23, 'ex': 24, 'd': 25, 'mo': 26, 'z': 27, 'pe': 28, 's': 29, 'li': 30, 'h': 31, '2': 32, 'os': 33, 'hoy': 34, 'f': 35, '1': 36, 'se': 37, 'on': 38, 't': 39, 'p': 40, 'g': 41, 'le': 42, 'pro': 43, 'ci': 44, 'dos': 45, 'k': 46, 'gi': 47, 'ra': 48, 'bi': 49, 'in': 50, 'tar': 51, 'mi': 52, 'que': 53, 'r': 54, 'pi': 55, 'ar': 56, 'ri': 57, 'gobierno': 58, 'vi': 59, 'su': 60, '4': 61, 'y': 62, 'presidente': 63, 'ce': 64, '6': 65, 'car': 66, 'tas': 67, 'an': 68, 'b': 69, 'des': 70, 'tos': 71, 'go': 72, 'por': 73, '3': 74, 'hi': 75, 'u': 76, 'as': 77, 'com': 78, 'tes': 79, 'er': 80, 'ro': 81, 'dad': 82, 'ter': 83, 'la': 84, 'fe': 85, 'ento': 86, 'vo': 87, '7': 88, 've': 89, '0': 90, 'no': 91, 'ni': 92, 'cion': 93, 'zo': 94, 'cu': 95, 'so': 96, 'me': 97, 'ver': 98, 'per': 99, 'lo': 100, 'tado': 101, 'mar': 102, 'cos': 103, '8': 104, 'im': 105, 'ne': 106, 'pais': 107, 'ru': 108, 'pre': 109, 'años': 110, 'jo': 111, 'ju': 112, 'tan': 113, 'tro': 114, 'dis': 115, 'segun': 116, '5': 117, 'm': 118, 'paises': 119, 'tu': 120, 'man': 121, 'lu': 122, '9': 123, 'cio': 124, 'uni': 125, 'au': 126, 'ac': 127, '199': 128, 'ga': 129, 'can': 130, 'dijo': 131, 'za': 132, 'res': 133, 'ob': 134, 'millones': 135, 'mente': 136, 'del': 137, 'gu': 138, 'das': 139, 'x': 140, 'gran': 141, 'lle': 142, 'ten': 143, 'v': 144, 'cha': 145, 'ser': 146, 'porciento': 147, 'po': 148, 'produ': 149, 'ad': 150, 'cre': 151, 'tras': 152, 'vez': 153, 'cer': 154, 'año': 155, 'pasado': 156, 'sido': 157, 'dio': 158, 'jue': 159, 'pp': 160, 'tivo': 161, 'der': 162, 'ven': 163, 'ba': 164, 'inter': 165, 'w': 166, 'operacion': 167, 'ameri': 168, 'consi': 169, 'via': 170, 'cri': 171, 'equipo': 172, 'par': 173, 'aunque': 174, 'tri': 175, 'tres': 176, 'ones': 177, 'cas': 178, 'je': 179, 'am': 180, 'ministro': 181, 'j': 182, 'primera': 183, 'va': 184, 'ja': 185, 'dar': 186, 'bus': 187, 'parte': 188, 'partido': 189, 'dias': 190, 'fran': 191, 'lan': 192, 'qui': 193, 'partici': 194, 'personas': 195, 'pli': 196, 'sos': 197, 'cias': 198, 'cada': 199, 'cial': 200, 'den': 201, 'acuerdo': 202, 'primer': 203, 'sub': 204, 'final': 205, 'cto': 206, 'for': 207, 'mercado': 208, 'zar': 209, 'or': 210, 'dec': 211, 'gar': 212, 'fun': 213, 'du': 214, 'pun': 215, 'dolares': 216, 'ya': 217, 'cal': 218, 'meses': 219, 'españa': 220, 'argentina': 221, '00': 222, 'hace': 223, 'empresas': 224, 'ademas': 225, 'ciones': 226, 'elecciones': 227, 'be': 228, 'despues': 229, 'pa': 230, 'economi': 231, 'pri': 232, 'jor': 233, 'respon': 234, 'mani': 235, 'em': 236, 'ab': 237, 'tra': 238, 'plan': 239, 'ron': 240, 'ves': 241, 'nan': 242, 'ma': 243, 'efe': 244, 'desarrollo': 245, 'fo': 246, 'ul': 247, 'puede': 248, 'cor': 249, 'resul': 250, 'cuatro': 251, 'nu': 252, 'minis': 253, 'vio': 254, 'defen': 255, '19': 256, 'tados': 257, 'inc': 258, '30': 259, 'zacion': 260, 'les': 261, 'mos': 262, 'bu': 263, 'san': 264, 'impor': 265, 'ofi': 266, 'indi': 267, 'conse': 268, 'ctos': 269, 'grupo': 270, 'tacion': 271, 'tio': 272, 'van': 273, 'sa': 274, 'llo': 275, 'ces': 276, 'cambi': 277, '15': 278, 'ur': 279, 'celeb': 280, '200': 281, 'bre': 282, 'tori': 283, 'cons': 284, 'ano': 285, 'cacion': 286, 'publi': 287, 'aseguro': 288, 'presidencia': 289, 'tor': 290, 'afirmo': 291, 'cen': 292, 'empresa': 293, 'compro': 294, 'bar': 295, 'cumbre': 296, 'dido': 297, 'infor': 298, 'cinco': 299, 'hu': 300, 'tivos': 301, 'mayor': 302, 'exi': 303, 'tal': 304, 'hacer': 305, 'puesto': 306, 'dia': 307, 'politica': 308, 'estadosunidos': 309, 'sal': 310, 'permi': 311, 'canos': 312, 'ahora': 313, 'autoridades': 314, 'lar': 315, 'organizacion': 316, 'pes': 317, 'tura': 318, 'barcelona': 319, 'general': 320, 'tem': 321, 'forma': 322, 'cir': 323, 'propi': 324, 'andalu': 325, 'señalo': 326, 'tante': 327, 'solo': 328, 'perio': 329, 'depor': 330, 'fa': 331, 'vision': 332, 'ccion': 333, 'of': 334, 'nor': 335, 'cana': 336, 'jose': 337, 'prensa': 338, 'aus': 339, 'ue': 340, 'pos': 341, 'puesta': 342, 'ban': 343, 'yo': 344, 'eron': 345, 'sus': 346, 'gos': 347, 'telefoni': 348, 'ali': 349, 'tec': 350, 'ado': 351, 'finan': 352, 'cano': 353, 'pod': 354, 'ultimos': 355, 'fal': 356, 'ria': 357, 'cam': 358, 'lidad': 359, 'cum': 360, 'recur': 361, 'semana': 362, 'comision': 363, 'pone': 364, 'española': 365, 'cues': 366, 'inversi': 367, 'emple': 368, 'tido': 369, 'ge': 370, 'teni': 371, 'pu': 372, 'candidato': 373, 'ayer': 374, 'internacional': 375, 'dan': 376, 'mañana': 377, 'actu': 378, 'madrid': 379, 'sis': 380, 'proye': 381, 'ña': 382, 'varios': 383, 'clinton': 384, 'capital': 385, 'fin': 386, 'miemb': 387, '13': 388, 'proximo': 389, 'proceso': 390, 'el': 391, 'inte': 392, 'centro': 393, 'mismo': 394, 'telecomunicaciones': 395, 'reunion': 396, 'minas': 397, 'enf': 398, 'español': 399, 'ley': 400, 'seis': 401, 'las': 402, 'fon': 403, 'dir': 404, 'terior': 405, 'pen': 406, 'traba': 407, 'mer': 408, 'ras': 409, '18': 410, 'venezuela': 411, 'popular': 412, 'gado': 413, 'decision': 414, 'los': 415, 'mas': 416, 'mento': 417, 'lider': 418, 'fu': 419, 'mili': 420, 'gra': 421, 'limpi': 422, 'ños': 423, 'mejor': 424, 'ins': 425, 'pan': 426, 'jar': 427, 'cro': 428, 'bri': 429, 'bo': 430, 'congreso': 431, 'transpor': 432, 'entre': 433, 'peru': 434, 'comicios': 435, 'recibi': 436, 'iber': 437, '1999': 438, 'ocu': 439, 'her': 440, 'electoral': 441, 'chi': 442, 'nueva': 443, 'hecho': 444, 'is': 445, 'redu': 446, 'ran': 447, 'dispu': 448, 'diri': 449, 'tada': 450, 'situacion': 451, 'ai': 452, 'ini': 453, 'oc': 454, 'fis': 455, 'posibi': 456, 'social': 457, 'comi': 458, 'tiempo': 459, 'mun': 460, 'venta': 461, 'pini': 462, 'gro': 463, 'dera': 464, 'local': 465, 'suf': 466, 'trabajo': 467, 'respe': 468, 'votos': 469, 'medio': 470, 'eta': 471, 'lado': 472, 'parlamento': 473, 'tica': 474, 'hom': 475, 'mexico': 476, 'compañi': 477, 'jero': 478, 'ño': 479, 'bol': 480, 'ber': 481, 'n': 482, 'tantes': 483, 'ros': 484, 'eeuu': 485, 'vencion': 486, 'mu': 487, 'men': 488, 'republi': 489, 'estable': 490, 'fuer': 491, 'gol': 492, 'politico': 493, 'lunes': 494, 'ko': 495, 'rei': 496, 'competencia': 497, 'dial': 498, 'obje': 499, 'tema': 500, 'horas': 501, 'deman': 502, 'quier': 503, 'tari': 504, 'nuevo': 505, 'bur': 506, '25': 507, 'eli': 508, 'vir': 509, 'presi': 510, 'vier': 511, 'vice': 512, 'partidos': 513, 'tria': 514, 'jun': 515, 'posicion': 516, 'vol': 517, 'depen': 518, 'anuncio': 519, 'antoni': 520, 'necesi': 521, 'lista': 522, 'pcion': 523, 'tru': 524, 'nes': 525, 'pue': 526, 'destaco': 527, '0000': 528, 'conc': 529, 'organi': 530, 'estadounidense': 531, 'segui': 532, 'reno': 533, 'plazo': 534, 'titu': 535, 'ble': 536, 'bajo': 537, 'gober': 538, 'ara': 539, 'mayoria': 540, 'solu': 541, 'vis': 542, 'seguridad': 543, 'vie': 544, 'plo': 545, 'mundo': 546, '20': 547, 'anza': 548, 'ori': 549, 'cado': 550, 'visi': 551, 'demadrid': 552, 'isra': 553, 'ka': 554, 'derro': 555, 'atletico': 556, 'apoyo': 557, 'alber': 558, 'region': 559, 'tener': 560, 'asi': 561, 'lacion': 562, 'agre': 563, 'relaciones': 564, 'comer': 565, 'bara': 566, 'derecho': 567, 'feren': 568, 'segunda': 569, 'ganar': 570, 'blo': 571, 'dipu': 572, 'gore': 573, 'firma': 574, 'explo': 575, 'turis': 576, 'democrata': 577, 'direc': 578, 'investigacion': 579, 'vas': 580, 'junio': 581, 'laro': 582, 'villa': 583, 'pacion': 584, 'tran': 585, 'sindi': 586, 'ho': 587, 'dades': 588, 'bas': 589, 'candidatos': 590, 'mesic': 591, 'triun': 592, 'poli': 593, 'domini': 594, 'dor': 595, 'justi': 596, 'legis': 597, 'panama': 598, 'hacia': 599, 'mientras': 600, '16': 601, 'diari': 602, 'cual': 603, 'ragi': 604, 'pad': 605, 'aber': 606, 'vor': 607, 'zona': 608, 'dero': 609, 'afe': 610, 'dado': 611, 'mujeres': 612, 'tara': 613, 'sector': 614, 'acep': 615, 'fuerza': 616, 'manos': 617, 'institu': 618, '000': 619, 'europa': 620, 'ampliacion': 621, 'gonzalez': 622, 'tira': 623, 'lugar': 624, 'junto': 625, 'reali': 626, 'teri': 627, 'comunicado': 628, 'ciales': 629, 'programa': 630, 'metros': 631, 'tion': 632, 'ton': 633, 'mis': 634, 'cali': 635, 'brasi': 636, 'ele': 637, 'ticion': 638, 'licen': 639, 'diez': 640, 'posible': 641, 'ds': 642, 'psoe': 643, 'especial': 644, 'expli': 645, 'tir': 646, 'mero': 647, 'acciones': 648, 'servicios': 649, 'mientrasque': 650, 'pis': 651, 'futuro': 652, 'partir': 653, 'tribunal': 654, 'economico': 655, 'gui': 656, 'lusion': 657, 'entos': 658, 'dy': 659, 'agas': 660, 'tiene': 661, 'ales': 662, 'logi': 663, 'gue': 664, 'previs': 665, 'tiva': 666, '198': 667, 'cabe': 668, 'diver': 669, 'ciudad': 670, 'aznar': 671, 'victoria': 672, 'asicomo': 673, 'his': 674, 'tud': 675, 'recor': 676, 'poder': 677, 'prox': 678, 'jan': 679, 'inf': 680, 'dien': 681, 'quin': 682, 'fes': 683, 'sinembargo': 684, 'pul': 685, 'lidades': 686, 'segundo': 687, 'boli': 688, 'gen': 689, 'dentes': 690, 'director': 691, 'comunidad': 692, 'bres': 693, 'principal': 694, 'sociedad': 695, 'internacionales': 696, 'perar': 697, 'abri': 698, 'peradores': 699, 'empresari': 700, 'bos': 701, 'ami': 702, 'ayuda': 703, 'gmt': 704, 'asun': 705, 'exis': 706, 'campaña': 707, 'josemaria': 708, 'paci': 709, 'fini': 710, 'var': 711, 'ere': 712, 'cul': 713, 'vado': 714, 'regis': 715, 'consegui': 716, 'ple': 717, 'marino': 718, 'titud': 719, 'mano': 720, 'zada': 721, 'medidas': 722, 'tero': 723, 'paz': 724, 'toni': 725, 'pal': 726, 'gun': 727, 'laraciones': 728, 'lograr': 729, 'abi': 730, 'presen': 731, 'oneuropea': 732, 'he': 733, 'casi': 734, 'na': 735, 'faci': 736, 'ada': 737, 'ye': 738, 'garan': 739, 'posi': 740, 'line': 741, 'mexi': 742, 'vil': 743, 'ministros': 744, 'tradi': 745, 'rente': 746, 'cier': 747, 'gracion': 748, 'laracion': 749, 'sur': 750, 'ata': 751, 'juli': 752, 'comuni': 753, 'don': 754, 'lui': 755, 'mada': 756, 'tani': 757, 'mal': 758, 'versi': 759, 'ima': 760, 'jefe': 761, 'ados': 762, 'pr': 763, 'hen': 764, 'dese': 765, 'mul': 766, 'miso': 767, 'luso': 768, 'abo': 769, 'menos': 770, 'dus': 771, 'guer': 772, 'alcan': 773, 'zos': 774, 'ben': 775, 'banco': 776, 'deno': 777, 'añadio': 778, 'europe': 779, 'pon': 780, 'bano': 781, 'catos': 782, 'hora': 783, 'inci': 784, 'val': 785, 'dal': 786, 'zado': 787, 'cuador': 788, 'cis': 789, 'volu': 790, 'compe': 791, 'argentino': 792, 'limi': 793, 'mes': 794, 'democracia': 795, 'pas': 796, 'veni': 797, 'vel': 798, 'rayo': 799, 'denas': 800, 'tami': 801, 'ale': 802, 'tratar': 803, 'gente': 804, 'sar': 805, 'proce': 806, 'concesi': 807, 'tico': 808, 'resi': 809, 'asis': 810, 'jara': 811, 'dores': 812, 'gus': 813, 'ciudadanos': 814, 'cuan': 815, 'uel': 816, 'fusi': 817, 'ciar': 818, 'entes': 819, 'jeros': 820, 'consu': 821, 'poner': 822, 'apo': 823, 'politicas': 824, 'sabado': 825, 'aleman': 826, 'retirada': 827, 'sas': 828, 'ganado': 829, 'hon': 830, 'reuni': 831, 'pur': 832, 'pues': 833, 'medios': 834, 'gan': 835, 'trato': 836, 'ges': 837, 'bate': 838, 'referen': 839, 'pres': 840, 'ciu': 841, 'taciones': 842, 'anu': 843, 'sali': 844, 'trans': 845, 'gada': 846, 'comen': 847, 'nos': 848, 'democratas': 849, 'basi': 850, 'cho': 851, 'candidatura': 852, 'minu': 853, 'accion': 854, 'timo': 855, 'agu': 856, 'nada': 857, 'dente': 858, 'nin': 859, 'oro': 860, 'ampli': 861, 'cuar': 862, 'paro': 863, 'crecimi': 864, 'trado': 865, 'cien': 866, 'tera': 867, 'cenari': 868, 'tali': 869, 'muni': 870, 'rec': 871, 'servi': 872, 'tele': 873, 'intereses': 874, 'muer': 875, 'caso': 876, 'embargo': 877, 'sociales': 878, 'ch': 879, 'timas': 880, 'mil': 881, 'programas': 882, 'sino': 883, 'puso': 884, 'hor': 885, 'gal': 886, 'ace': 887, 'personal': 888, 'tin': 889, 'atra': 890, 'cretari': 891, 'tad': 892, 'unas': 893, 'euros': 894, 'operaciones': 895, 'dados': 896, 'ofer': 897, 'naciones': 898, 'como': 899, 'parti': 900, 'pacto': 901, 'prac': 902, 'principales': 903, 'lin': 904, 'prue': 905, 'gados': 906, 'ente': 907, 'jadores': 908, 'gacion': 909, 'presidenciales': 910, 'vacion': 911, 'cun': 912, 'tale': 913, 'fuentes': 914, 'rado': 915, 'reso': 916, 'gas': 917, 'proximos': 918, 'elec': 919, 'generales': 920, 'cional': 921, 'ener': 922, 'pel': 923, 'problemas': 924, 'coman': 925, 'vene': 926, 'jado': 927, 'cesari': 928, 'deci': 929, 'tre': 930, 'ques': 931, 'medi': 932, 'presentacion': 933, 'ero': 934, 'pese': 935, 'gador': 936, 'nadas': 937, 'ala': 938, 'entor': 939, 'radas': 940, 'negociaciones': 941, 'rados': 942, 'taria': 943, 'tivas': 944, 'interes': 945, 'investi': 946, 'misi': 947, 'presentantes': 948, 'adelan': 949, 'reconocio': 950, 'laboral': 951, 'taca': 952, 'rar': 953, 'nuevos': 954, 'demar': 955, 'ticas': 956, 'preciso': 957, 'porada': 958, 'preso': 959, 'canas': 960, 'espe': 961, 'pob': 962, 'jos': 963, 'tima': 964, 'pales': 965, 'min': 966, 'formacion': 967, 'cable': 968, 'trar': 969, 'pra': 970, 'nacional': 971, 'deracion': 972, 'desi': 973, 'geles': 974, 'jer': 975, 'tuni': 976, 'ocasi': 977, 'dani': 978, 'ger': 979, 'dieron': 980, '300': 981, 'sobre': 982, 'teriores': 983, 'derechos': 984, 'demayo': 985, 'tel': 986, 'acto': 987, 'explosi': 988, 'vadores': 989, 'denun': 990, 'pueden': 991, 'rera': 992, 'gadores': 993, 'pesetas': 994, 'diente': 995, 'malaga': 996, 'cuenta': 997, 'taron': 998, 'az': 999, 'cur': 1000, 'turas': 1001, 'dental': 1002, 'feli': 1003, 'crisis': 1004, 'titular': 1005, 'acuso': 1006, 'europea': 1007, 'tam': 1008, 'asu': 1009, 'nabi': 1010, 'dele': 1011, 'ay': 1012, 'conocer': 1013, 'jem': 1014, 'base': 1015, 'camente': 1016, 'pasar': 1017, '2000': 1018, 'dentro': 1019, 'asimismo': 1020, 'conso': 1021, 'acusado': 1022, 'mayori': 1023, 'mayo': 1024, 'tinente': 1025, 'valores': 1026, 'tene': 1027, 'guen': 1028, 'cris': 1029, 'pros': 1030, 'largo': 1031, 'ciado': 1032, 'grados': 1033, 'recuento': 1034, 'anun': 1035, 'semanas': 1036, 'desarro': 1037, 'huel': 1038, 'rechazo': 1039, 'nadie': 1040, 'latino': 1041, 'vador': 1042, 'hun': 1043, 'median': 1044, 'comun': 1045, 'manu': 1046, 'cara': 1047, 'losan': 1048, 'lon': 1049, 'vati': 1050, 'crosof': 1051, 'duras': 1052, 'anos': 1053, 'ibero': 1054, 'mad': 1055, 'firmado': 1056, 'caron': 1057, 'presentado': 1058, 'anali': 1059, 'tamento': 1060, 'lamado': 1061, 'rau': 1062, 'logro': 1063, 'che': 1064, 'reser': 1065, 'cie': 1066, 'precio': 1067, 'bene': 1068, 'cari': 1069, 'cuentro': 1070, 'catalan': 1071, 'puer': 1072, 'disa': 1073, 'ñas': 1074, 'nas': 1075, 'quiere': 1076, 'similares': 1077, 'luis': 1078, 'ello': 1079, 'at': 1080, 'sen': 1081, 'senado': 1082, 'are': 1083, 'comunis': 1084, 'tono': 1085, 'reco': 1086, 'ciente': 1087, 'entrada': 1088, 'acabar': 1089, 'alemani': 1090, 'noche': 1091, 'regional': 1092, 'sable': 1093, 'semi': 1094, 'ferentes': 1095, 'cuales': 1096, 'cade': 1097, 'buenosai': 1098, 'fer': 1099, 'nue': 1100, 'gales': 1101, 'ller': 1102, 'cate': 1103, 'lasi': 1104, 'viembre': 1105, 'emba': 1106, 'vimi': 1107, 'medida': 1108, 'laterales': 1109, 'osa': 1110, 'bul': 1111, 'sim': 1112, 'estadounidenses': 1113, 'bon': 1114, 'viles': 1115, 'socio': 1116, 'rato': 1117, 'delos': 1118, 'imagen': 1119, 'ples': 1120, 'forman': 1121, 'kari': 1122, 'desemple': 1123, 'rada': 1124, 'ocul': 1125, 'organis': 1126, 'desa': 1127, 'enero': 1128, 'toria': 1129, 'acabo': 1130, 'tenis': 1131, 'presentar': 1132, 'seleccion': 1133, 'recuer': 1134, 'minado': 1135, 'cai': 1136, 'subas': 1137, 'cero': 1138, 'gel': 1139, 'tencia': 1140, 'acusacion': 1141, 'pacio': 1142, 'paron': 1143, 'lisi': 1144, 'cob': 1145, 'cau': 1146, 'valen': 1147, 'jui': 1148, 'nacionales': 1149, 'peri': 1150, 'lesi': 1151, 'torial': 1152, 'peran': 1153, 'nam': 1154, 'padel': 1155, 'tadio': 1156, 'ciera': 1157, 'profun': 1158, 'tine': 1159, 'nun': 1160, 'reci': 1161, 'finales': 1162, 'relacion': 1163, 'profesi': 1164, 'caracas': 1165, 'juridi': 1166, 'zara': 1167, 'puestas': 1168, 'dialogo': 1169, 'fos': 1170, 'senador': 1171, 'acu': 1172, 'hur': 1173, 'radio': 1174, 'asociacion': 1175, 'ren': 1176, 'poca': 1177, 'rece': 1178, 'tiembre': 1179, 'proc': 1180, 'alemanes': 1181, 'temas': 1182, 'podemos': 1183, 'mina': 1184, 'prog': 1185, 'toneladas': 1186, 'bera': 1187, 'informacion': 1188, 'tasa': 1189, 'resal': 1190, 'vales': 1191, 'alo': 1192, 'seguro': 1193, 'cionari': 1194, 'lideres': 1195, 'mt': 1196, 'primero': 1197, 'un': 1198, 'tana': 1199, 'acion': 1200, 'emi': 1201, 'guna': 1202, 'tis': 1203, 'hin': 1204, 'sui': 1205, 'guno': 1206, 'ciembre': 1207, 'pino': 1208, 'mejorar': 1209, 'princi': 1210, 'latura': 1211, 'miles': 1212, 'pasada': 1213, 'procesos': 1214, 'calidad': 1215, 'central': 1216, 'patronal': 1217, 'din': 1218, 'tares': 1219, 'acuerdos': 1220, 'concre': 1221, 'sores': 1222, 'feri': 1223, 'ayudas': 1224, 'catalu': 1225, 'agentes': 1226, 'varo': 1227, 'precios': 1228, 'insis': 1229, 'negociacion': 1230, 'rara': 1231, 'mon': 1232, 'didas': 1233, 'cuad': 1234, 'tesis': 1235, 'tino': 1236, 'demas': 1237, 'cuer': 1238, 'españoles': 1239, 'char': 1240, 'deron': 1241, 'accionis': 1242, 'famili': 1243, 'bel': 1244, 'vamos': 1245, 'presidentes': 1246, 'paso': 1247, 'detalles': 1248, 'cados': 1249, 'ladeno': 1250, 'reino': 1251, 'varacabo': 1252, 'matica': 1253, 'trali': 1254, 'mini': 1255, 'trui': 1256, 'asegurar': 1257, 'daron': 1258, 'nau': 1259, 'dulas': 1260, 'poni': 1261, 'valor': 1262, 'mentos': 1263, 'parecen': 1264, 'era': 1265, 'juntocon': 1266, 'remo': 1267, 'locales': 1268, 'cera': 1269, 'delan': 1270, 'labas': 1271, 'formal': 1272, 'delas': 1273, 'tadas': 1274, 'aseguran': 1275, 'margen': 1276, 'posiciones': 1277, 'china': 1278, 'desan': 1279, 'aban': 1280, 'dimi': 1281, 'duro': 1282, 'presos': 1283, 'permisos': 1284, 'gano': 1285, 'causa': 1286, 'caragu': 1287, 'tores': 1288, 'adas': 1289, 'zados': 1290, 'lis': 1291, 'delaru': 1292, 'equi': 1293, 'chas': 1294, 'populares': 1295, 'tur': 1296, 'bates': 1297, 'rentar': 1298, 'abor': 1299, 'ablo': 1300, 'fat': 1301, 'dara': 1302, 'culacion': 1303, 'jes': 1304, 'cienti': 1305, 'capi': 1306, 'tratado': 1307, 'gole': 1308, 'fisi': 1309, 'lano': 1310, 'fuerzas': 1311, 'acia': 1312, 'us': 1313, 'lada': 1314, 'cher': 1315, 'presente': 1316, 'sue': 1317, 'alu': 1318, 'yes': 1319, 'dalidad': 1320, 'mediari': 1321, 'lleria': 1322, 'mayores': 1323, 'goso': 1324, 'tosex': 1325, 'ciudades': 1326, 'dina': 1327, 'aun': 1328, 'sor': 1329, 'son': 1330, 'peli': 1331, 'sabi': 1332, 'concur': 1333, 'dispuesto': 1334, 'balaguer': 1335, 'parece': 1336, 'listas': 1337, 'eliminatorias': 1338, 'plimi': 1339, 'roris': 1340, 'embo': 1341, 'manuel': 1342, 'jus': 1343, 'grado': 1344, 'tabar': 1345, 'maragal': 1346, 'rue': 1347, 'lobal': 1348, 'sabemos': 1349, 'ciacion': 1350, 'deri': 1351, 'tinu': 1352, 'lateral': 1353, 'nami': 1354, 'pelacion': 1355, 'mentar': 1356, 'persona': 1357, 'tex': 1358, 'tiones': 1359, 'regimen': 1360, 'garia': 1361, 'natural': 1362, 'vaz': 1363, 'tente': 1364, 'quieren': 1365, 'vali': 1366, 'ticos': 1367, 'lorida': 1368, 'tofer': 1369, 'recio': 1370, 'tivamente': 1371, 'ocur': 1372, 'canal': 1373, 'pulan': 1374, 'comento': 1375, 'turales': 1376, 'pablo': 1377, 'renar': 1378, 'cimi': 1379, 'equipos': 1380, 'cuen': 1381, 'care': 1382, 'presentante': 1383, 'laboracion': 1384, 'leno': 1385, 'cialista': 1386, 'estado': 1387, 'ademar': 1388, 'tamente': 1389, 'bretaña': 1390, 'alcanzar': 1391, 'llon': 1392, 'vados': 1393, 'enfa': 1394, 'enton': 1395, 'cargo': 1396, 'tabi': 1397, 'incum': 1398, 'decada': 1399, 'terar': 1400, 'documento': 1401, 'bles': 1402, 'lobali': 1403, 'conser': 1404, 'mejoras': 1405, 'tecimi': 1406, 'cuentra': 1407, 'fabri': 1408, 'ceso': 1409, 'consul': 1410, 'abana': 1411, 'nacionesuni': 1412, 'taran': 1413, 'pren': 1414, 'casos': 1415, 'primeras': 1416, 'tarias': 1417, 'gros': 1418, 'dameri': 1419, 'villalobos': 1420, 'tina': 1421, 'plazami': 1422, 'timor': 1423, 'zan': 1424, 'toridad': 1425, 'mono': 1426, 'mercados': 1427, 'quera': 1428, 'logrado': 1429, 'fir': 1430, 'precisamente': 1431, 'presento': 1432, 'eleccion': 1433, 'titui': 1434, 'villalon': 1435, 'zaron': 1436, 'tatal': 1437, 'fono': 1438, 'bancocentral': 1439, 'ana': 1440, 'situ': 1441, 'gaso': 1442, 'palab': 1443, 'chan': 1444, 'gor': 1445, 'insul': 1446, 'zarago': 1447, 'negociar': 1448, 'managu': 1449, 'paracion': 1450, 'cientos': 1451, 'rido': 1452, 'atemala': 1453, 'lineras': 1454, 'cadomini': 1455, 'penas': 1456, 'vori': 1457, 'pciones': 1458, 'lena': 1459, 'buen': 1460, 'prar': 1461, 'cong': 1462, 'sel': 1463, 'tane': 1464, 'cui': 1465, 'aga': 1466, 'agos': 1467, 'gocha': 1468, 'cesa': 1469, 'formar': 1470, 'tab': 1471, 'tratos': 1472, 'atrac': 1473, 'dira': 1474, 'poneren': 1475, 'obe': 1476, 'menor': 1477, 'gobiernos': 1478, 'die': 1479, 'doce': 1480, 'finali': 1481, 'tratacion': 1482, 'rules': 1483, 'buena': 1484, 'garon': 1485, 'economicos': 1486, 'guelan': 1487, 'lima': 1488, 'cel': 1489, 'imori': 1490, 'paran': 1491, 'recuen': 1492, 'rian': 1493, 'lor': 1494, 'cafe': 1495, 'tadores': 1496, 'tatu': 1497, 'pera': 1498, 'q': 1499, 'nosolo': 1500, 'vincia': 1501, 'presidencial': 1502, 'decio': 1503, 'plares': 1504, 'latab': 1505, 'amis': 1506, 'agro': 1507, 'demos': 1508, 'sati': 1509, 'intentona': 1510, 'grana': 1511, 'pago': 1512, 'joseluis': 1513, 'tamen': 1514, 'entro': 1515, 'vicentecal': 1516, 'pareci': 1517, 'cuari': 1518, 'len': 1519, 'animo': 1520, 'trata': 1521, 'reciente': 1522, 'derada': 1523, 'ponen': 1524, 'comprobar': 1525, 'recu': 1526, 'trate': 1527, 'salu': 1528, 'gentes': 1529, 'señor': 1530, 'liberal': 1531, 'misos': 1532, 'entemedio': 1533, 'conce': 1534, 'etar': 1535, 'acien': 1536, 'ayudar': 1537, 'mari': 1538, 'naturale': 1539, 'acer': 1540, 'cativa': 1541, 'electores': 1542, 'radi': 1543, 'trari': 1544, 'hos': 1545, 'merida': 1546, 'vias': 1547, 'derado': 1548, 'titulos': 1549, 'democratico': 1550, 'soberani': 1551, 'dinador': 1552, 'democraticas': 1553, 'mesa': 1554, 'dela': 1555, 'lusi': 1556, 'trabajos': 1557, 'prisi': 1558, 'tinos': 1559, 'able': 1560, 'visional': 1561, 'presentada': 1562, 'asesinato': 1563, 'medina': 1564, 'recomen': 1565, 'tade': 1566, 'socialista': 1567, 'penal': 1568, 'logis': 1569, 'dispuestos': 1570, 'pado': 1571, 'datari': 1572, 'deu': 1573, 'eliminar': 1574, 'lagos': 1575, 'toco': 1576, 'acor': 1577, 'para': 1578, 'personales': 1579, 'vera': 1580, 'regionales': 1581, 'treme': 1582, 'mue': 1583, 'inten': 1584, 'aten': 1585, 'ausen': 1586, 'rusi': 1587, 'chino': 1588, 'voco': 1589, 'aran': 1590, 'pada': 1591, 'direccion': 1592, 'renta': 1593, 'traron': 1594, 'matu': 1595, 'peradora': 1596, 'llos': 1597, 'pronun': 1598, 'mur': 1599, 'faine': 1600, 'amar': 1601, 'canada': 1602, 'plane': 1603, 'paris': 1604, 'rusa': 1605, 'jas': 1606, 'nar': 1607, 'trece': 1608, 'politicos': 1609, 'ctores': 1610, 'comisioneuropea': 1611, 'bases': 1612, 'national': 1613, 'ventu': 1614, 'balan': 1615, 'paren': 1616, 'rui': 1617, 'vicele': 1618, 'yana': 1619, 'vieron': 1620, 'varias': 1621, 'dula': 1622, 'argentinos': 1623, 'finsa': 1624, 'tivar': 1625, 'datos': 1626, 'nuevas': 1627, 'pocos': 1628, 'diaria': 1629, 'españolas': 1630, 'recien': 1631, 'marinos': 1632, 'acausade': 1633, 'gabine': 1634, 'afirma': 1635, 'oridades': 1636, 'beran': 1637, 'dem': 1638, 'males': 1639, 'hacen': 1640, 'deral': 1641, 'emisora': 1642, 'camino': 1643, 'acon': 1644, 'ental': 1645, 'karen': 1646, 'jador': 1647, 'tentico': 1648, 'peridad': 1649, 'vatios': 1650, 'reconoci': 1651, 'electorales': 1652, 'incentivar': 1653, 'vicente': 1654, 'dientes': 1655, 'sado': 1656, 'diaz': 1657, 'lema': 1658, 'geni': 1659, 'formaciones': 1660, 'acesa': 1661, 'conoce': 1662, 'señala': 1663, 'toso': 1664, 'primeradi': 1665, 'una': 1666, 'ral': 1667, 'rober': 1668, 'lleno': 1669, '20000': 1670, 'ramun': 1671, 'talaciones': 1672, 'zas': 1673, 'rias': 1674, 'manen': 1675, 'meria': 1676, 'socor': 1677, 'liber': 1678, 'apor': 1679, 'gaciones': 1680, 'democratica': 1681, 'racion': 1682, 'hemis': 1683, 'oridad': 1684, 'dieran': 1685, 'detal': 1686, 'liberali': 1687, 'dari': 1688, 'aragon': 1689, 'cadena': 1690, 'cionar': 1691, 'tudian': 1692, 'poco': 1693, 'peratura': 1694, 'especialistas': 1695, 'recia': 1696, 'canade': 1697, 'mediato': 1698, 'estadosameri': 1699, 'emer': 1700, 'bemos': 1701, 'tales': 1702, 'media': 1703, 'arabi': 1704, 'ciero': 1705, 'sables': 1706, 'ocho': 1707, 'dure': 1708, 'dinacion': 1709, 'liberales': 1710, 'homena': 1711, 'lamo': 1712, 'casa': 1713, 'alimentari': 1714, 'pose': 1715, 'triaco': 1716, '3000': 1717, 'servir': 1718, 'transi': 1719, 'lacai': 1720, 'sau': 1721, 'abas': 1722, 'ani': 1723, 'demur': 1724, 'mejores': 1725, 'lana': 1726, 'informa': 1727, 'yemen': 1728, 'uer': 1729, 'yeron': 1730, 'mativa': 1731, 'premo': 1732, 'pare': 1733, 'tiros': 1734, 'acuerdocon': 1735, 'visas': 1736, 'zaciones': 1737, 'norue': 1738, 'denado': 1739, 'quince': 1740, 'espera': 1741, 'veres': 1742, 'henes': 1743, 'mores': 1744, 'binimarama': 1745, 'traciones': 1746, 'dacionandalu': 1747, 'arg': 1748, 'desen': 1749, 'atri': 1750, 'titulo': 1751, 'uro': 1752, 'rechazaron': 1753, 'palacio': 1754, 'pime': 1755, 'dam': 1756, 'sefes': 1757, 'asau': 1758, 'caños': 1759, 'documentacion': 1760, 'playas': 1761, 'adala': 1762, 'maria': 1763, 'lero': 1764, 'mues': 1765, 'cales': 1766, 'empresariales': 1767, 'dida': 1768, 'rag': 1769, 'rentes': 1770, 'ciativas': 1771, 'canis': 1772, 'lamar': 1773, 'bal': 1774, 'cura': 1775, 'porahora': 1776, 'seri': 1777, 'cios': 1778, 'retirado': 1779, 'mado': 1780, 'conocemos': 1781, 'partidore': 1782, 'vonobo': 1783, 'delaliberacion': 1784, 'elementos': 1785, 'cargada': 1786, 'jefes': 1787, 'laborales': 1788, 'resu': 1789, 'viera': 1790, 'mura': 1791, 'cuentran': 1792, 'presenta': 1793, 'premi': 1794, 'dios': 1795, 'tofu': 1796, 'didos': 1797, 'suer': 1798, 'quiera': 1799, 'tatales': 1800, 'ares': 1801, 'realidad': 1802, 'sini': 1803, 'namentales': 1804, '30000': 1805, 'enti': 1806, 'sane': 1807, 'despe': 1808, 'damente': 1809, 'bancos': 1810, 'bancocomer': 1811, 'mag': 1812, 'corazon': 1813, 'tralidad': 1814, 'duracion': 1815, 'cono': 1816, 'hel': 1817, 'paname': 1818, 'rateria': 1819, 'turon': 1820, 'decisiones': 1821, 'lusiones': 1822, 'reras': 1823, 'pocas': 1824, 'catan': 1825, 'presentan': 1826, 'bain': 1827, 'guero': 1828, 'finalistas': 1829, 'pate': 1830, 'valle': 1831, 'asegurado': 1832, 'presidenta': 1833, 'onal': 1834, 'fase': 1835, 'resolu': 1836, 'arai': 1837, 'decimo': 1838, 'japon': 1839, 'japonesa': 1840, 'yas': 1841, 'onato': 1842, 'tenimi': 1843, 'sin': 1844, 'incrementar': 1845, 'uso': 1846, 'gara': 1847, 'sesi': 1848, 'sacion': 1849, 'vari': 1850, 'luen': 1851, 'mana': 1852, 'cargara': 1853, 'culos': 1854, 'table': 1855, 'tienen': 1856, 'volun': 1857, 'ayun': 1858, 'zadas': 1859, 'delo': 1860, 'localidades': 1861, 'onu': 1862, 'minimo': 1863, 'camisetas': 1864, 'patrocini': 1865, 'amente': 1866, 'one': 1867, 'cuentan': 1868, 'onari': 1869, 'compen': 1870, 'parecio': 1871, 'cin': 1872, 'perior': 1873, 'ais': 1874, 'asal': 1875, 'parala': 1876, 'planes': 1877, 'lamami': 1878, 'chame': 1879, 'enar': 1880, 'puestos': 1881, 'conoci': 1882, 'agen': 1883, 'vos': 1884, 'caro': 1885, 'tremadura': 1886, 'asesinado': 1887, 'jamai': 1888, 'caciones': 1889, 'lanzado': 1890, 'jen': 1891, 'feso': 1892, 'dano': 1893, 'plausos': 1894, 'tentes': 1895, 'mejora': 1896, 'vindi': 1897, 'gracias': 1898, 'veses': 1899, 'informaron': 1900, 'ari': 1901, 'patriar': 1902, 'presentes': 1903, 'tracion': 1904, 'hesi': 1905, 'gracia': 1906, 'surameri': 1907, 'atentado': 1908, 'garo': 1909, 'desem': 1910, 'satis': 1911, 'ciade': 1912, 'minara': 1913, 'pesar': 1914, 'paisesex': 1915, 'vinas': 1916, 'delator': 1917, 'beli': 1918, 'lamentari': 1919, 'nativas': 1920, 'musa': 1921, 'traban': 1922, 'imene': 1923, 'erona': 1924, 'dameta': 1925, 'sacar': 1926, 'maticas': 1927, 'jada': 1928, 'jaran': 1929, 'delacoru': 1930, 'loni': 1931, 'lesas': 1932, 'probablemente': 1933, 'rati': 1934, 'gerente': 1935, 'lam': 1936, 'entrenami': 1937, 'mane': 1938, 'tural': 1939, 'problema': 1940, 'demues': 1941, 'batir': 1942, 'uru': 1943, 'probo': 1944, 'toc': 1945, 'conocimi': 1946, 'senadores': 1947, 'cular': 1948, 'sentir': 1949, 'buenos': 1950, 'taba': 1951, 'requisi': 1952, 'lera': 1953, 'aco': 1954, 'pla': 1955, 'alidad': 1956, 'minos': 1957, 'denti': 1958, 'acambi': 1959, 'carac': 1960, 'dinami': 1961, 'yam': 1962, 'gues': 1963, 'desac': 1964, 'formas': 1965, 'velar': 1966, 'intenta': 1967, 'mor': 1968, 'macia': 1969, 'rayaron': 1970, 'jesus': 1971, 'tativo': 1972, 'esperade': 1973, 'consis': 1974, 'venes': 1975, 'añade': 1976, 'une': 1977, 'merosas': 1978, 'podia': 1979, 'firman': 1980, 'nativos': 1981, 'yemeni': 1982, 'ayo': 1983, 'vincias': 1984, 'delac': 1985, 'arabe': 1986, 'cuali': 1987, 'tinados': 1988, 'menem': 1989, 'ruselas': 1990, 'fuerade': 1991, 'pris': 1992, 'mentaron': 1993, 'previsiones': 1994, 'damental': 1995, 'nuevayor': 1996, 'quen': 1997, 'personalidad': 1998, 'volar': 1999, 'gespe': 2000, 'aler': 2001, 'temoc': 2002, 'interameri': 2003, 'ciari': 2004, 'actor': 2005, 'dose': 2006, 'catalanas': 2007, 'adora': 2008, 'viacion': 2009, 'lalana': 2010, 'delaz': 2011, 'tinental': 2012, 'gesima': 2013, 'ticaci': 2014, 'afirman': 2015, 'lativo': 2016, 'materiade': 2017, 'eliminado': 2018, 'vial': 2019, 'iso': 2020, 'tat': 2021, 'cesas': 2022, 'pobres': 2023, 'fuente': 2024, 'gativa': 2025, 'pasa': 2026, 'eronau': 2027, 'ramadan': 2028, 'nal': 2029, 'tudiar': 2030, 'dul': 2031, 'cinade': 2032, 'feria': 2033, 'guel': 2034, 'dauni': 2035, 'abul': 2036, 'cesade': 2037, 'interesan': 2038, 'pimentel': 2039, 'danas': 2040, 'ores': 2041, 'comisari': 2042, 'agi': 2043, 'presentados': 2044, 'radiofi': 2045, 'veran': 2046, 'trade': 2047, 'use': 2048, 'permiso': 2049, 'bada': 2050, 'euro': 2051, 'cargos': 2052, 'here': 2053, 'delare': 2054, 'uelos': 2055, 'plemente': 2056, 'matra': 2057, 'infan': 2058, 'plazados': 2059, 'organizaciones': 2060, 'patria': 2061, 'afirmar': 2062, 'bados': 2063, 'zonas': 2064, 'uis': 2065, 'tasas': 2066, 'anoche': 2067, 'cena': 2068, 'sectores': 2069, 'dato': 2070, 'vorable': 2071, 'homo': 2072, 'simul': 2073, 'ganara': 2074, 'informaticos': 2075, 'lores': 2076, 'jera': 2077, 'dinos': 2078, 'lados': 2079, 'tador': 2080, 'vincial': 2081, 'yacimi': 2082, 'preferi': 2083, 'desas': 2084, 'casadas': 2085, 'denadores': 2086, 'vamente': 2087, 'zale': 2088, 'pagar': 2089, 'chel': 2090, 'consor': 2091, 'factos': 2092, 'ñado': 2093, 'pasados': 2094, 'informar': 2095, 'comunidadan': 2096, 'cuau': 2097, 'demasi': 2098, 'volado': 2099, 'alusion': 2100, 'camaraba': 2101, 'etaria': 2102, 'centrado': 2103, 'tulo': 2104, 'graciasa': 2105, 'porul': 2106, 'teneren': 2107, 'jami': 2108, 'jaron': 2109, 'vino': 2110, 'abonado': 2111, 'incremento': 2112, 'cesi': 2113, 'rida': 2114, 'lexi': 2115, 'ler': 2116, 'lace': 2117, 'alcanzado': 2118, 'denal': 2119, 'aso': 2120, 'samos': 2121, 'concentrado': 2122, 'nado': 2123, 'tribunales': 2124, 'uno': 2125, 'raran': 2126, 'firmas': 2127, 'aci': 2128, 'diran': 2129, 'caballo': 2130, 'sadelacompetencia': 2131, 'entan': 2132, 'cere': 2133, 'grani': 2134, 'deraciones': 2135, 'lamentaria': 2136, 'imas': 2137, 'goban': 2138, 'remedios': 2139, 'lamaria': 2140, 'directo': 2141, 'satori': 2142, 'programada': 2143, 'onales': 2144, 'jex': 2145, 'kamisesemara': 2146, 'ene': 2147, 'morales': 2148, 'nara': 2149, 'demexico': 2150, 'daciones': 2151, 'ciono': 2152, 'asegura': 2153, 'prochan': 2154, 'trara': 2155, 'bex': 2156, 'titula': 2157, 'usan': 2158, 'doctor': 2159, 'cadenas': 2160, 'quiero': 2161, 'vatelefoni': 2162, 'gura': 2163, 'vables': 2164, 'jala': 2165, 'trai': 2166, 'amenazan': 2167, 'enten': 2168, 'reuniones': 2169, 'decomer': 2170, 'trias': 2171, 'laciones': 2172, 'jacome': 2173, 'bor': 2174, 'velo': 2175, 'prador': 2176, 'cosas': 2177, 'abonar': 2178, 'metas': 2179, 'razar': 2180, 'malasi': 2181, 'denuevo': 2182, 'fuerzadere': 2183, 'ñadel': 2184, 'luralis': 2185, 'tades': 2186, 'damentales': 2187, 'tariamente': 2188, 'minui': 2189, 'tini': 2190, 'dinero': 2191, 'mados': 2192, 'daria': 2193, 'lativas': 2194, 'tagoni': 2195, 'pinoche': 2196, 'genoci': 2197, 'pras': 2198, 'documentos': 2199, 'cionami': 2200, 'leyes': 2201, 'plazos': 2202, 'concentra': 2203, 'parecer': 2204, 'trazado': 2205, 'caria': 2206, 'aminar': 2207, 'enter': 2208, 'acusaciones': 2209, 'vare': 2210, 'esen': 2211, 'materia': 2212, 'chau': 2213, 'diales': 2214, 'subi': 2215, 'plata': 2216, 'incau': 2217, 'tun': 2218, 'cieros': 2219, 'ladec': 2220, 'reconoce': 2221, 'cieras': 2222, 'puente': 2223, 'tasocial': 2224, 'teccionis': 2225, 'probaron': 2226, 'adul': 2227, 'sufi': 2228, 'lares': 2229, 'culas': 2230, 'matri': 2231, 'lugares': 2232, 'menta': 2233, 'dispuso': 2234, 'juntos': 2235, 'cianacional': 2236, 'palacios': 2237, 'apos': 2238, 'renun': 2239, 'tamo': 2240, 'sari': 2241, 'dulentos': 2242, 'entero': 2243, 'materias': 2244, 'cisi': 2245, 'cusi': 2246, 'toro': 2247, 'interior': 2248, 'zabe': 2249, 'ñocanales': 2250, 'poral': 2251, 'presun': 2252, 'lausula': 2253, 'pari': 2254, 'aline': 2255, 'lideraz': 2256, 'lara': 2257, 'laborar': 2258, 'atras': 2259, 'documentados': 2260, 'yado': 2261, 'gularidades': 2262, 'core': 2263, 'rase': 2264, 'lamacion': 2265, 'cober': 2266, 'rad': 2267, 'vencionis': 2268, 'pasi': 2269, 'enespecial': 2270, 'labi': 2271, 'terioro': 2272, 'timacion': 2273, 'hueso': 2274, 'rosa': 2275, 'mocion': 2276, 'desper': 2277, 'tare': 2278, 'valu': 2279, 'danu': 2280, 'sinai': 2281, 'minada': 2282, 'teradamente': 2283, 'batal': 2284, 'tocar': 2285, 'petalo': 2286, 'alalu': 2287, 'dacion': 2288, 'peraba': 2289, 'nacionalistas': 2290, 'teras': 2291, 'hima': 2292, 'agru': 2293, 'leros': 2294, 'jano': 2295, 'manas': 2296, 'minacion': 2297, 'ratas': 2298, 'durara': 2299, 'viones': 2300, 'queros': 2301, 'yan': 2302, 'intento': 2303, 'cadel': 2304, 'vagu': 2305, 'asesoria': 2306, 'tivado': 2307, 'mobi': 2308, 'aria': 2309, 'recen': 2310, 'amos': 2311, 'preliminar': 2312, 'entrar': 2313, 'aguinaga': 2314, 'partes': 2315, 'alex': 2316, 'vaciones': 2317, 'ona': 2318, 'patri': 2319, 'finalista': 2320, 'meli': 2321, 'doble': 2322, 'rentara': 2323, 'ventas': 2324, 'formado': 2325, 'ganan': 2326, 'traderechis': 2327, 'ganaron': 2328, 'machine': 2329, 'trativas': 2330, 'vin': 2331, 'gullosos': 2332, 'gon': 2333, 'agus': 2334, 'auna': 2335, 'goles': 2336, 'paulo': 2337, 'japones': 2338, 'subis': 2339, 'poration': 2340, 'binado': 2341, 'pasara': 2342, 'cuatoriano': 2343, 'centrales': 2344, 'poro': 2345, 'vale': 2346, 'vallos': 2347, 'isi': 2348, 'vero': 2349, 'cablese': 2350, 'remos': 2351, 'mismos': 2352, 'achaco': 2353, 'factores': 2354, 'ase': 2355, 'concentracion': 2356, 'tinter': 2357, 'desatelecomunicaciones': 2358, 'fenosainversi': 2359, 'decable': 2360, 'cablel': 2361, 'teca': 2362, 'lase': 2363, 'entrenador': 2364, 'docaso': 2365, 'atleta': 2366, 'traso': 2367, 'rusas': 2368, 'intentar': 2369, 'cretis': 2370, 'timamente': 2371, 'lararon': 2372, 'tros': 2373, 'charon': 2374, 'vanzada': 2375, 'lama': 2376, 'onel': 2377, 'bui': 2378, 'factor': 2379, 'ladimi': 2380, 'probable': 2381, 'zaba': 2382, 'raron': 2383, 'paba': 2384, 'analber': 2385, 'josena': 2386, 'partimento': 2387, 'tacentralelectoral': 2388, 'cina': 2389, 'tinado': 2390, 'material': 2391, 'morel': 2392, 'jeron': 2393, 'trage': 2394, 'posa': 2395, 'curi': 2396, 'pin': 2397, 'quis': 2398, 'ticiones': 2399, 'localidad': 2400, 'tau': 2401, 'quel': 2402, 'dece': 2403, 'suelo': 2404, 'onaria': 2405, 'animador': 2406, 'victorias': 2407, 'asociaciones': 2408, 'beni': 2409, 'granos': 2410, 'sabo': 2411, 'lograron': 2412, 'pore': 2413, 'causas': 2414, 'barent': 2415, 'namental': 2416, 'due': 2417, 'rent': 2418, 'osos': 2419, 'parentemente': 2420, 'jadas': 2421, 'ror': 2422, 'ruso': 2423, 'visado': 2424, 'ane': 2425, 'yara': 2426, 'afirmaron': 2427, 'case': 2428, 'ses': 2429, 'nego': 2430, 'oni': 2431, 'imadamente': 2432, 'grara': 2433, 'quero': 2434, 'teccion': 2435, 'moral': 2436, 'pron': 2437, 'daran': 2438, 'incor': 2439, 'lau': 2440, 'nacion': 2441, 'tinte': 2442, 'pac': 2443, 'puestamente': 2444, 'dura': 2445, 'ciay': 2446, 'pleno': 2447, 'lament': 2448, 'señanza': 2449, 'sobresali': 2450, 'incompetencia': 2451, 'tratados': 2452, 'queras': 2453, 'decre': 2454, 'seme': 2455, 'ticamente': 2456, 'selec': 2457, 'analistas': 2458, 'pates': 2459, 'cativos': 2460, 'cador': 2461, 'galle': 2462, 'duelo': 2463, 'trial': 2464, 'metal': 2465, 'taculos': 2466, 'yen': 2467, 'goria': 2468, 'valoro': 2469, 'grupos': 2470, 'ayu': 2471, 'centros': 2472, 'derados': 2473, 'carga': 2474, 'lamente': 2475, 'remi': 2476, 'tireles': 2477, 'congeladores': 2478, 'hincapi': 2479, 'yar': 2480, 'recuentos': 2481, 'partio': 2482, 'bremen': 2483, 'vocados': 2484, 'imo': 2485, 'generado': 2486, 'ageneral': 2487, 'serara': 2488, 'plena': 2489, 'pasos': 2490, 'semes': 2491, 'gurisares': 2492, 'concer': 2493, 'gativos': 2494, 'damento': 2495, 'plano': 2496, 'pani': 2497, 'nados': 2498, 'donacional': 2499, 'intentos': 2500, 'vion': 2501, 'lamadas': 2502, 'donar': 2503, 'troni': 2504, 'investigaciones': 2505, 'rachau': 2506, 'far': 2507, 'musi': 2508, 'porcionara': 2509, 'mediatos': 2510, 'ferente': 2511, 'rayado': 2512, 'dinari': 2513, 'bocado': 2514, 'paragu': 2515, 'alemana': 2516, 'cache': 2517, 'turacion': 2518, 'minar': 2519, 'dalo': 2520, 'negocios': 2521, 'dadero': 2522, 'pusi': 2523, 'valenti': 2524, 'fines': 2525, 'trimes': 2526, 'relacionesex': 2527, 'suelen': 2528, 'prada': 2529, 'sabe': 2530, 'macher': 2531, 'chu': 2532, 'resos': 2533, 'masa': 2534, 'deseguimi': 2535, 'ppe': 2536, 'diese': 2537, 'pablosime': 2538, 'podido': 2539, 'poradas': 2540, 'llosa': 2541, 'merosos': 2542, 'teria': 2543, 'marin': 2544, 'capinter': 2545, 'falle': 2546, 'mallor': 2547, 'sala': 2548, 'poderoso': 2549, 'dianas': 2550, 'logo': 2551, 'socialistas': 2552, 'tento': 2553, '1300': 2554, 'plente': 2555, 'tase': 2556, 'sofi': 2557, 'regi': 2558, 'pletar': 2559, 'decas': 2560, 'male': 2561, 'tresana': 2562, 'guimara': 2563, 'joseramon': 2564, 'vargas': 2565, 'presu': 2566, 'reconocimi': 2567, 'minasan': 2568, 'nativa': 2569, 'argu': 2570, 'jac': 2571, 'retirar': 2572, 'logra': 2573, 'tosi': 2574, 'tora': 2575, 'ati': 2576, 'afirmacion': 2577, 'losofi': 2578, 'lina': 2579, 'brero': 2580, 'lleros': 2581, 'respeta': 2582, 'sabore': 2583, 'pacho': 2584, 'guro': 2585, 'fallo': 2586, 'raul': 2587, 'partidocomunis': 2588, 'compañ': 2589, '<UNK>': 2590, '<BOS>': 2591, '<EOS>': 2592}\n",
      "{0: 'de', 1: 'a', 2: 'o', 3: 'to', 4: 'do', 5: 'co', 6: 'con', 7: 're', 8: 'ta', 9: 'c', 10: 'i', 11: 'ca', 12: 'ti', 13: 'te', 14: 'e', 15: 'en', 16: 'al', 17: 'es', 18: 'cia', 19: 'l', 20: 'fi', 21: 'da', 22: 'si', 23: 'di', 24: 'ex', 25: 'd', 26: 'mo', 27: 'z', 28: 'pe', 29: 's', 30: 'li', 31: 'h', 32: '2', 33: 'os', 34: 'hoy', 35: 'f', 36: '1', 37: 'se', 38: 'on', 39: 't', 40: 'p', 41: 'g', 42: 'le', 43: 'pro', 44: 'ci', 45: 'dos', 46: 'k', 47: 'gi', 48: 'ra', 49: 'bi', 50: 'in', 51: 'tar', 52: 'mi', 53: 'que', 54: 'r', 55: 'pi', 56: 'ar', 57: 'ri', 58: 'gobierno', 59: 'vi', 60: 'su', 61: '4', 62: 'y', 63: 'presidente', 64: 'ce', 65: '6', 66: 'car', 67: 'tas', 68: 'an', 69: 'b', 70: 'des', 71: 'tos', 72: 'go', 73: 'por', 74: '3', 75: 'hi', 76: 'u', 77: 'as', 78: 'com', 79: 'tes', 80: 'er', 81: 'ro', 82: 'dad', 83: 'ter', 84: 'la', 85: 'fe', 86: 'ento', 87: 'vo', 88: '7', 89: 've', 90: '0', 91: 'no', 92: 'ni', 93: 'cion', 94: 'zo', 95: 'cu', 96: 'so', 97: 'me', 98: 'ver', 99: 'per', 100: 'lo', 101: 'tado', 102: 'mar', 103: 'cos', 104: '8', 105: 'im', 106: 'ne', 107: 'pais', 108: 'ru', 109: 'pre', 110: 'años', 111: 'jo', 112: 'ju', 113: 'tan', 114: 'tro', 115: 'dis', 116: 'segun', 117: '5', 118: 'm', 119: 'paises', 120: 'tu', 121: 'man', 122: 'lu', 123: '9', 124: 'cio', 125: 'uni', 126: 'au', 127: 'ac', 128: '199', 129: 'ga', 130: 'can', 131: 'dijo', 132: 'za', 133: 'res', 134: 'ob', 135: 'millones', 136: 'mente', 137: 'del', 138: 'gu', 139: 'das', 140: 'x', 141: 'gran', 142: 'lle', 143: 'ten', 144: 'v', 145: 'cha', 146: 'ser', 147: 'porciento', 148: 'po', 149: 'produ', 150: 'ad', 151: 'cre', 152: 'tras', 153: 'vez', 154: 'cer', 155: 'año', 156: 'pasado', 157: 'sido', 158: 'dio', 159: 'jue', 160: 'pp', 161: 'tivo', 162: 'der', 163: 'ven', 164: 'ba', 165: 'inter', 166: 'w', 167: 'operacion', 168: 'ameri', 169: 'consi', 170: 'via', 171: 'cri', 172: 'equipo', 173: 'par', 174: 'aunque', 175: 'tri', 176: 'tres', 177: 'ones', 178: 'cas', 179: 'je', 180: 'am', 181: 'ministro', 182: 'j', 183: 'primera', 184: 'va', 185: 'ja', 186: 'dar', 187: 'bus', 188: 'parte', 189: 'partido', 190: 'dias', 191: 'fran', 192: 'lan', 193: 'qui', 194: 'partici', 195: 'personas', 196: 'pli', 197: 'sos', 198: 'cias', 199: 'cada', 200: 'cial', 201: 'den', 202: 'acuerdo', 203: 'primer', 204: 'sub', 205: 'final', 206: 'cto', 207: 'for', 208: 'mercado', 209: 'zar', 210: 'or', 211: 'dec', 212: 'gar', 213: 'fun', 214: 'du', 215: 'pun', 216: 'dolares', 217: 'ya', 218: 'cal', 219: 'meses', 220: 'españa', 221: 'argentina', 222: '00', 223: 'hace', 224: 'empresas', 225: 'ademas', 226: 'ciones', 227: 'elecciones', 228: 'be', 229: 'despues', 230: 'pa', 231: 'economi', 232: 'pri', 233: 'jor', 234: 'respon', 235: 'mani', 236: 'em', 237: 'ab', 238: 'tra', 239: 'plan', 240: 'ron', 241: 'ves', 242: 'nan', 243: 'ma', 244: 'efe', 245: 'desarrollo', 246: 'fo', 247: 'ul', 248: 'puede', 249: 'cor', 250: 'resul', 251: 'cuatro', 252: 'nu', 253: 'minis', 254: 'vio', 255: 'defen', 256: '19', 257: 'tados', 258: 'inc', 259: '30', 260: 'zacion', 261: 'les', 262: 'mos', 263: 'bu', 264: 'san', 265: 'impor', 266: 'ofi', 267: 'indi', 268: 'conse', 269: 'ctos', 270: 'grupo', 271: 'tacion', 272: 'tio', 273: 'van', 274: 'sa', 275: 'llo', 276: 'ces', 277: 'cambi', 278: '15', 279: 'ur', 280: 'celeb', 281: '200', 282: 'bre', 283: 'tori', 284: 'cons', 285: 'ano', 286: 'cacion', 287: 'publi', 288: 'aseguro', 289: 'presidencia', 290: 'tor', 291: 'afirmo', 292: 'cen', 293: 'empresa', 294: 'compro', 295: 'bar', 296: 'cumbre', 297: 'dido', 298: 'infor', 299: 'cinco', 300: 'hu', 301: 'tivos', 302: 'mayor', 303: 'exi', 304: 'tal', 305: 'hacer', 306: 'puesto', 307: 'dia', 308: 'politica', 309: 'estadosunidos', 310: 'sal', 311: 'permi', 312: 'canos', 313: 'ahora', 314: 'autoridades', 315: 'lar', 316: 'organizacion', 317: 'pes', 318: 'tura', 319: 'barcelona', 320: 'general', 321: 'tem', 322: 'forma', 323: 'cir', 324: 'propi', 325: 'andalu', 326: 'señalo', 327: 'tante', 328: 'solo', 329: 'perio', 330: 'depor', 331: 'fa', 332: 'vision', 333: 'ccion', 334: 'of', 335: 'nor', 336: 'cana', 337: 'jose', 338: 'prensa', 339: 'aus', 340: 'ue', 341: 'pos', 342: 'puesta', 343: 'ban', 344: 'yo', 345: 'eron', 346: 'sus', 347: 'gos', 348: 'telefoni', 349: 'ali', 350: 'tec', 351: 'ado', 352: 'finan', 353: 'cano', 354: 'pod', 355: 'ultimos', 356: 'fal', 357: 'ria', 358: 'cam', 359: 'lidad', 360: 'cum', 361: 'recur', 362: 'semana', 363: 'comision', 364: 'pone', 365: 'española', 366: 'cues', 367: 'inversi', 368: 'emple', 369: 'tido', 370: 'ge', 371: 'teni', 372: 'pu', 373: 'candidato', 374: 'ayer', 375: 'internacional', 376: 'dan', 377: 'mañana', 378: 'actu', 379: 'madrid', 380: 'sis', 381: 'proye', 382: 'ña', 383: 'varios', 384: 'clinton', 385: 'capital', 386: 'fin', 387: 'miemb', 388: '13', 389: 'proximo', 390: 'proceso', 391: 'el', 392: 'inte', 393: 'centro', 394: 'mismo', 395: 'telecomunicaciones', 396: 'reunion', 397: 'minas', 398: 'enf', 399: 'español', 400: 'ley', 401: 'seis', 402: 'las', 403: 'fon', 404: 'dir', 405: 'terior', 406: 'pen', 407: 'traba', 408: 'mer', 409: 'ras', 410: '18', 411: 'venezuela', 412: 'popular', 413: 'gado', 414: 'decision', 415: 'los', 416: 'mas', 417: 'mento', 418: 'lider', 419: 'fu', 420: 'mili', 421: 'gra', 422: 'limpi', 423: 'ños', 424: 'mejor', 425: 'ins', 426: 'pan', 427: 'jar', 428: 'cro', 429: 'bri', 430: 'bo', 431: 'congreso', 432: 'transpor', 433: 'entre', 434: 'peru', 435: 'comicios', 436: 'recibi', 437: 'iber', 438: '1999', 439: 'ocu', 440: 'her', 441: 'electoral', 442: 'chi', 443: 'nueva', 444: 'hecho', 445: 'is', 446: 'redu', 447: 'ran', 448: 'dispu', 449: 'diri', 450: 'tada', 451: 'situacion', 452: 'ai', 453: 'ini', 454: 'oc', 455: 'fis', 456: 'posibi', 457: 'social', 458: 'comi', 459: 'tiempo', 460: 'mun', 461: 'venta', 462: 'pini', 463: 'gro', 464: 'dera', 465: 'local', 466: 'suf', 467: 'trabajo', 468: 'respe', 469: 'votos', 470: 'medio', 471: 'eta', 472: 'lado', 473: 'parlamento', 474: 'tica', 475: 'hom', 476: 'mexico', 477: 'compañi', 478: 'jero', 479: 'ño', 480: 'bol', 481: 'ber', 482: 'n', 483: 'tantes', 484: 'ros', 485: 'eeuu', 486: 'vencion', 487: 'mu', 488: 'men', 489: 'republi', 490: 'estable', 491: 'fuer', 492: 'gol', 493: 'politico', 494: 'lunes', 495: 'ko', 496: 'rei', 497: 'competencia', 498: 'dial', 499: 'obje', 500: 'tema', 501: 'horas', 502: 'deman', 503: 'quier', 504: 'tari', 505: 'nuevo', 506: 'bur', 507: '25', 508: 'eli', 509: 'vir', 510: 'presi', 511: 'vier', 512: 'vice', 513: 'partidos', 514: 'tria', 515: 'jun', 516: 'posicion', 517: 'vol', 518: 'depen', 519: 'anuncio', 520: 'antoni', 521: 'necesi', 522: 'lista', 523: 'pcion', 524: 'tru', 525: 'nes', 526: 'pue', 527: 'destaco', 528: '0000', 529: 'conc', 530: 'organi', 531: 'estadounidense', 532: 'segui', 533: 'reno', 534: 'plazo', 535: 'titu', 536: 'ble', 537: 'bajo', 538: 'gober', 539: 'ara', 540: 'mayoria', 541: 'solu', 542: 'vis', 543: 'seguridad', 544: 'vie', 545: 'plo', 546: 'mundo', 547: '20', 548: 'anza', 549: 'ori', 550: 'cado', 551: 'visi', 552: 'demadrid', 553: 'isra', 554: 'ka', 555: 'derro', 556: 'atletico', 557: 'apoyo', 558: 'alber', 559: 'region', 560: 'tener', 561: 'asi', 562: 'lacion', 563: 'agre', 564: 'relaciones', 565: 'comer', 566: 'bara', 567: 'derecho', 568: 'feren', 569: 'segunda', 570: 'ganar', 571: 'blo', 572: 'dipu', 573: 'gore', 574: 'firma', 575: 'explo', 576: 'turis', 577: 'democrata', 578: 'direc', 579: 'investigacion', 580: 'vas', 581: 'junio', 582: 'laro', 583: 'villa', 584: 'pacion', 585: 'tran', 586: 'sindi', 587: 'ho', 588: 'dades', 589: 'bas', 590: 'candidatos', 591: 'mesic', 592: 'triun', 593: 'poli', 594: 'domini', 595: 'dor', 596: 'justi', 597: 'legis', 598: 'panama', 599: 'hacia', 600: 'mientras', 601: '16', 602: 'diari', 603: 'cual', 604: 'ragi', 605: 'pad', 606: 'aber', 607: 'vor', 608: 'zona', 609: 'dero', 610: 'afe', 611: 'dado', 612: 'mujeres', 613: 'tara', 614: 'sector', 615: 'acep', 616: 'fuerza', 617: 'manos', 618: 'institu', 619: '000', 620: 'europa', 621: 'ampliacion', 622: 'gonzalez', 623: 'tira', 624: 'lugar', 625: 'junto', 626: 'reali', 627: 'teri', 628: 'comunicado', 629: 'ciales', 630: 'programa', 631: 'metros', 632: 'tion', 633: 'ton', 634: 'mis', 635: 'cali', 636: 'brasi', 637: 'ele', 638: 'ticion', 639: 'licen', 640: 'diez', 641: 'posible', 642: 'ds', 643: 'psoe', 644: 'especial', 645: 'expli', 646: 'tir', 647: 'mero', 648: 'acciones', 649: 'servicios', 650: 'mientrasque', 651: 'pis', 652: 'futuro', 653: 'partir', 654: 'tribunal', 655: 'economico', 656: 'gui', 657: 'lusion', 658: 'entos', 659: 'dy', 660: 'agas', 661: 'tiene', 662: 'ales', 663: 'logi', 664: 'gue', 665: 'previs', 666: 'tiva', 667: '198', 668: 'cabe', 669: 'diver', 670: 'ciudad', 671: 'aznar', 672: 'victoria', 673: 'asicomo', 674: 'his', 675: 'tud', 676: 'recor', 677: 'poder', 678: 'prox', 679: 'jan', 680: 'inf', 681: 'dien', 682: 'quin', 683: 'fes', 684: 'sinembargo', 685: 'pul', 686: 'lidades', 687: 'segundo', 688: 'boli', 689: 'gen', 690: 'dentes', 691: 'director', 692: 'comunidad', 693: 'bres', 694: 'principal', 695: 'sociedad', 696: 'internacionales', 697: 'perar', 698: 'abri', 699: 'peradores', 700: 'empresari', 701: 'bos', 702: 'ami', 703: 'ayuda', 704: 'gmt', 705: 'asun', 706: 'exis', 707: 'campaña', 708: 'josemaria', 709: 'paci', 710: 'fini', 711: 'var', 712: 'ere', 713: 'cul', 714: 'vado', 715: 'regis', 716: 'consegui', 717: 'ple', 718: 'marino', 719: 'titud', 720: 'mano', 721: 'zada', 722: 'medidas', 723: 'tero', 724: 'paz', 725: 'toni', 726: 'pal', 727: 'gun', 728: 'laraciones', 729: 'lograr', 730: 'abi', 731: 'presen', 732: 'oneuropea', 733: 'he', 734: 'casi', 735: 'na', 736: 'faci', 737: 'ada', 738: 'ye', 739: 'garan', 740: 'posi', 741: 'line', 742: 'mexi', 743: 'vil', 744: 'ministros', 745: 'tradi', 746: 'rente', 747: 'cier', 748: 'gracion', 749: 'laracion', 750: 'sur', 751: 'ata', 752: 'juli', 753: 'comuni', 754: 'don', 755: 'lui', 756: 'mada', 757: 'tani', 758: 'mal', 759: 'versi', 760: 'ima', 761: 'jefe', 762: 'ados', 763: 'pr', 764: 'hen', 765: 'dese', 766: 'mul', 767: 'miso', 768: 'luso', 769: 'abo', 770: 'menos', 771: 'dus', 772: 'guer', 773: 'alcan', 774: 'zos', 775: 'ben', 776: 'banco', 777: 'deno', 778: 'añadio', 779: 'europe', 780: 'pon', 781: 'bano', 782: 'catos', 783: 'hora', 784: 'inci', 785: 'val', 786: 'dal', 787: 'zado', 788: 'cuador', 789: 'cis', 790: 'volu', 791: 'compe', 792: 'argentino', 793: 'limi', 794: 'mes', 795: 'democracia', 796: 'pas', 797: 'veni', 798: 'vel', 799: 'rayo', 800: 'denas', 801: 'tami', 802: 'ale', 803: 'tratar', 804: 'gente', 805: 'sar', 806: 'proce', 807: 'concesi', 808: 'tico', 809: 'resi', 810: 'asis', 811: 'jara', 812: 'dores', 813: 'gus', 814: 'ciudadanos', 815: 'cuan', 816: 'uel', 817: 'fusi', 818: 'ciar', 819: 'entes', 820: 'jeros', 821: 'consu', 822: 'poner', 823: 'apo', 824: 'politicas', 825: 'sabado', 826: 'aleman', 827: 'retirada', 828: 'sas', 829: 'ganado', 830: 'hon', 831: 'reuni', 832: 'pur', 833: 'pues', 834: 'medios', 835: 'gan', 836: 'trato', 837: 'ges', 838: 'bate', 839: 'referen', 840: 'pres', 841: 'ciu', 842: 'taciones', 843: 'anu', 844: 'sali', 845: 'trans', 846: 'gada', 847: 'comen', 848: 'nos', 849: 'democratas', 850: 'basi', 851: 'cho', 852: 'candidatura', 853: 'minu', 854: 'accion', 855: 'timo', 856: 'agu', 857: 'nada', 858: 'dente', 859: 'nin', 860: 'oro', 861: 'ampli', 862: 'cuar', 863: 'paro', 864: 'crecimi', 865: 'trado', 866: 'cien', 867: 'tera', 868: 'cenari', 869: 'tali', 870: 'muni', 871: 'rec', 872: 'servi', 873: 'tele', 874: 'intereses', 875: 'muer', 876: 'caso', 877: 'embargo', 878: 'sociales', 879: 'ch', 880: 'timas', 881: 'mil', 882: 'programas', 883: 'sino', 884: 'puso', 885: 'hor', 886: 'gal', 887: 'ace', 888: 'personal', 889: 'tin', 890: 'atra', 891: 'cretari', 892: 'tad', 893: 'unas', 894: 'euros', 895: 'operaciones', 896: 'dados', 897: 'ofer', 898: 'naciones', 899: 'como', 900: 'parti', 901: 'pacto', 902: 'prac', 903: 'principales', 904: 'lin', 905: 'prue', 906: 'gados', 907: 'ente', 908: 'jadores', 909: 'gacion', 910: 'presidenciales', 911: 'vacion', 912: 'cun', 913: 'tale', 914: 'fuentes', 915: 'rado', 916: 'reso', 917: 'gas', 918: 'proximos', 919: 'elec', 920: 'generales', 921: 'cional', 922: 'ener', 923: 'pel', 924: 'problemas', 925: 'coman', 926: 'vene', 927: 'jado', 928: 'cesari', 929: 'deci', 930: 'tre', 931: 'ques', 932: 'medi', 933: 'presentacion', 934: 'ero', 935: 'pese', 936: 'gador', 937: 'nadas', 938: 'ala', 939: 'entor', 940: 'radas', 941: 'negociaciones', 942: 'rados', 943: 'taria', 944: 'tivas', 945: 'interes', 946: 'investi', 947: 'misi', 948: 'presentantes', 949: 'adelan', 950: 'reconocio', 951: 'laboral', 952: 'taca', 953: 'rar', 954: 'nuevos', 955: 'demar', 956: 'ticas', 957: 'preciso', 958: 'porada', 959: 'preso', 960: 'canas', 961: 'espe', 962: 'pob', 963: 'jos', 964: 'tima', 965: 'pales', 966: 'min', 967: 'formacion', 968: 'cable', 969: 'trar', 970: 'pra', 971: 'nacional', 972: 'deracion', 973: 'desi', 974: 'geles', 975: 'jer', 976: 'tuni', 977: 'ocasi', 978: 'dani', 979: 'ger', 980: 'dieron', 981: '300', 982: 'sobre', 983: 'teriores', 984: 'derechos', 985: 'demayo', 986: 'tel', 987: 'acto', 988: 'explosi', 989: 'vadores', 990: 'denun', 991: 'pueden', 992: 'rera', 993: 'gadores', 994: 'pesetas', 995: 'diente', 996: 'malaga', 997: 'cuenta', 998: 'taron', 999: 'az', 1000: 'cur', 1001: 'turas', 1002: 'dental', 1003: 'feli', 1004: 'crisis', 1005: 'titular', 1006: 'acuso', 1007: 'europea', 1008: 'tam', 1009: 'asu', 1010: 'nabi', 1011: 'dele', 1012: 'ay', 1013: 'conocer', 1014: 'jem', 1015: 'base', 1016: 'camente', 1017: 'pasar', 1018: '2000', 1019: 'dentro', 1020: 'asimismo', 1021: 'conso', 1022: 'acusado', 1023: 'mayori', 1024: 'mayo', 1025: 'tinente', 1026: 'valores', 1027: 'tene', 1028: 'guen', 1029: 'cris', 1030: 'pros', 1031: 'largo', 1032: 'ciado', 1033: 'grados', 1034: 'recuento', 1035: 'anun', 1036: 'semanas', 1037: 'desarro', 1038: 'huel', 1039: 'rechazo', 1040: 'nadie', 1041: 'latino', 1042: 'vador', 1043: 'hun', 1044: 'median', 1045: 'comun', 1046: 'manu', 1047: 'cara', 1048: 'losan', 1049: 'lon', 1050: 'vati', 1051: 'crosof', 1052: 'duras', 1053: 'anos', 1054: 'ibero', 1055: 'mad', 1056: 'firmado', 1057: 'caron', 1058: 'presentado', 1059: 'anali', 1060: 'tamento', 1061: 'lamado', 1062: 'rau', 1063: 'logro', 1064: 'che', 1065: 'reser', 1066: 'cie', 1067: 'precio', 1068: 'bene', 1069: 'cari', 1070: 'cuentro', 1071: 'catalan', 1072: 'puer', 1073: 'disa', 1074: 'ñas', 1075: 'nas', 1076: 'quiere', 1077: 'similares', 1078: 'luis', 1079: 'ello', 1080: 'at', 1081: 'sen', 1082: 'senado', 1083: 'are', 1084: 'comunis', 1085: 'tono', 1086: 'reco', 1087: 'ciente', 1088: 'entrada', 1089: 'acabar', 1090: 'alemani', 1091: 'noche', 1092: 'regional', 1093: 'sable', 1094: 'semi', 1095: 'ferentes', 1096: 'cuales', 1097: 'cade', 1098: 'buenosai', 1099: 'fer', 1100: 'nue', 1101: 'gales', 1102: 'ller', 1103: 'cate', 1104: 'lasi', 1105: 'viembre', 1106: 'emba', 1107: 'vimi', 1108: 'medida', 1109: 'laterales', 1110: 'osa', 1111: 'bul', 1112: 'sim', 1113: 'estadounidenses', 1114: 'bon', 1115: 'viles', 1116: 'socio', 1117: 'rato', 1118: 'delos', 1119: 'imagen', 1120: 'ples', 1121: 'forman', 1122: 'kari', 1123: 'desemple', 1124: 'rada', 1125: 'ocul', 1126: 'organis', 1127: 'desa', 1128: 'enero', 1129: 'toria', 1130: 'acabo', 1131: 'tenis', 1132: 'presentar', 1133: 'seleccion', 1134: 'recuer', 1135: 'minado', 1136: 'cai', 1137: 'subas', 1138: 'cero', 1139: 'gel', 1140: 'tencia', 1141: 'acusacion', 1142: 'pacio', 1143: 'paron', 1144: 'lisi', 1145: 'cob', 1146: 'cau', 1147: 'valen', 1148: 'jui', 1149: 'nacionales', 1150: 'peri', 1151: 'lesi', 1152: 'torial', 1153: 'peran', 1154: 'nam', 1155: 'padel', 1156: 'tadio', 1157: 'ciera', 1158: 'profun', 1159: 'tine', 1160: 'nun', 1161: 'reci', 1162: 'finales', 1163: 'relacion', 1164: 'profesi', 1165: 'caracas', 1166: 'juridi', 1167: 'zara', 1168: 'puestas', 1169: 'dialogo', 1170: 'fos', 1171: 'senador', 1172: 'acu', 1173: 'hur', 1174: 'radio', 1175: 'asociacion', 1176: 'ren', 1177: 'poca', 1178: 'rece', 1179: 'tiembre', 1180: 'proc', 1181: 'alemanes', 1182: 'temas', 1183: 'podemos', 1184: 'mina', 1185: 'prog', 1186: 'toneladas', 1187: 'bera', 1188: 'informacion', 1189: 'tasa', 1190: 'resal', 1191: 'vales', 1192: 'alo', 1193: 'seguro', 1194: 'cionari', 1195: 'lideres', 1196: 'mt', 1197: 'primero', 1198: 'un', 1199: 'tana', 1200: 'acion', 1201: 'emi', 1202: 'guna', 1203: 'tis', 1204: 'hin', 1205: 'sui', 1206: 'guno', 1207: 'ciembre', 1208: 'pino', 1209: 'mejorar', 1210: 'princi', 1211: 'latura', 1212: 'miles', 1213: 'pasada', 1214: 'procesos', 1215: 'calidad', 1216: 'central', 1217: 'patronal', 1218: 'din', 1219: 'tares', 1220: 'acuerdos', 1221: 'concre', 1222: 'sores', 1223: 'feri', 1224: 'ayudas', 1225: 'catalu', 1226: 'agentes', 1227: 'varo', 1228: 'precios', 1229: 'insis', 1230: 'negociacion', 1231: 'rara', 1232: 'mon', 1233: 'didas', 1234: 'cuad', 1235: 'tesis', 1236: 'tino', 1237: 'demas', 1238: 'cuer', 1239: 'españoles', 1240: 'char', 1241: 'deron', 1242: 'accionis', 1243: 'famili', 1244: 'bel', 1245: 'vamos', 1246: 'presidentes', 1247: 'paso', 1248: 'detalles', 1249: 'cados', 1250: 'ladeno', 1251: 'reino', 1252: 'varacabo', 1253: 'matica', 1254: 'trali', 1255: 'mini', 1256: 'trui', 1257: 'asegurar', 1258: 'daron', 1259: 'nau', 1260: 'dulas', 1261: 'poni', 1262: 'valor', 1263: 'mentos', 1264: 'parecen', 1265: 'era', 1266: 'juntocon', 1267: 'remo', 1268: 'locales', 1269: 'cera', 1270: 'delan', 1271: 'labas', 1272: 'formal', 1273: 'delas', 1274: 'tadas', 1275: 'aseguran', 1276: 'margen', 1277: 'posiciones', 1278: 'china', 1279: 'desan', 1280: 'aban', 1281: 'dimi', 1282: 'duro', 1283: 'presos', 1284: 'permisos', 1285: 'gano', 1286: 'causa', 1287: 'caragu', 1288: 'tores', 1289: 'adas', 1290: 'zados', 1291: 'lis', 1292: 'delaru', 1293: 'equi', 1294: 'chas', 1295: 'populares', 1296: 'tur', 1297: 'bates', 1298: 'rentar', 1299: 'abor', 1300: 'ablo', 1301: 'fat', 1302: 'dara', 1303: 'culacion', 1304: 'jes', 1305: 'cienti', 1306: 'capi', 1307: 'tratado', 1308: 'gole', 1309: 'fisi', 1310: 'lano', 1311: 'fuerzas', 1312: 'acia', 1313: 'us', 1314: 'lada', 1315: 'cher', 1316: 'presente', 1317: 'sue', 1318: 'alu', 1319: 'yes', 1320: 'dalidad', 1321: 'mediari', 1322: 'lleria', 1323: 'mayores', 1324: 'goso', 1325: 'tosex', 1326: 'ciudades', 1327: 'dina', 1328: 'aun', 1329: 'sor', 1330: 'son', 1331: 'peli', 1332: 'sabi', 1333: 'concur', 1334: 'dispuesto', 1335: 'balaguer', 1336: 'parece', 1337: 'listas', 1338: 'eliminatorias', 1339: 'plimi', 1340: 'roris', 1341: 'embo', 1342: 'manuel', 1343: 'jus', 1344: 'grado', 1345: 'tabar', 1346: 'maragal', 1347: 'rue', 1348: 'lobal', 1349: 'sabemos', 1350: 'ciacion', 1351: 'deri', 1352: 'tinu', 1353: 'lateral', 1354: 'nami', 1355: 'pelacion', 1356: 'mentar', 1357: 'persona', 1358: 'tex', 1359: 'tiones', 1360: 'regimen', 1361: 'garia', 1362: 'natural', 1363: 'vaz', 1364: 'tente', 1365: 'quieren', 1366: 'vali', 1367: 'ticos', 1368: 'lorida', 1369: 'tofer', 1370: 'recio', 1371: 'tivamente', 1372: 'ocur', 1373: 'canal', 1374: 'pulan', 1375: 'comento', 1376: 'turales', 1377: 'pablo', 1378: 'renar', 1379: 'cimi', 1380: 'equipos', 1381: 'cuen', 1382: 'care', 1383: 'presentante', 1384: 'laboracion', 1385: 'leno', 1386: 'cialista', 1387: 'estado', 1388: 'ademar', 1389: 'tamente', 1390: 'bretaña', 1391: 'alcanzar', 1392: 'llon', 1393: 'vados', 1394: 'enfa', 1395: 'enton', 1396: 'cargo', 1397: 'tabi', 1398: 'incum', 1399: 'decada', 1400: 'terar', 1401: 'documento', 1402: 'bles', 1403: 'lobali', 1404: 'conser', 1405: 'mejoras', 1406: 'tecimi', 1407: 'cuentra', 1408: 'fabri', 1409: 'ceso', 1410: 'consul', 1411: 'abana', 1412: 'nacionesuni', 1413: 'taran', 1414: 'pren', 1415: 'casos', 1416: 'primeras', 1417: 'tarias', 1418: 'gros', 1419: 'dameri', 1420: 'villalobos', 1421: 'tina', 1422: 'plazami', 1423: 'timor', 1424: 'zan', 1425: 'toridad', 1426: 'mono', 1427: 'mercados', 1428: 'quera', 1429: 'logrado', 1430: 'fir', 1431: 'precisamente', 1432: 'presento', 1433: 'eleccion', 1434: 'titui', 1435: 'villalon', 1436: 'zaron', 1437: 'tatal', 1438: 'fono', 1439: 'bancocentral', 1440: 'ana', 1441: 'situ', 1442: 'gaso', 1443: 'palab', 1444: 'chan', 1445: 'gor', 1446: 'insul', 1447: 'zarago', 1448: 'negociar', 1449: 'managu', 1450: 'paracion', 1451: 'cientos', 1452: 'rido', 1453: 'atemala', 1454: 'lineras', 1455: 'cadomini', 1456: 'penas', 1457: 'vori', 1458: 'pciones', 1459: 'lena', 1460: 'buen', 1461: 'prar', 1462: 'cong', 1463: 'sel', 1464: 'tane', 1465: 'cui', 1466: 'aga', 1467: 'agos', 1468: 'gocha', 1469: 'cesa', 1470: 'formar', 1471: 'tab', 1472: 'tratos', 1473: 'atrac', 1474: 'dira', 1475: 'poneren', 1476: 'obe', 1477: 'menor', 1478: 'gobiernos', 1479: 'die', 1480: 'doce', 1481: 'finali', 1482: 'tratacion', 1483: 'rules', 1484: 'buena', 1485: 'garon', 1486: 'economicos', 1487: 'guelan', 1488: 'lima', 1489: 'cel', 1490: 'imori', 1491: 'paran', 1492: 'recuen', 1493: 'rian', 1494: 'lor', 1495: 'cafe', 1496: 'tadores', 1497: 'tatu', 1498: 'pera', 1499: 'q', 1500: 'nosolo', 1501: 'vincia', 1502: 'presidencial', 1503: 'decio', 1504: 'plares', 1505: 'latab', 1506: 'amis', 1507: 'agro', 1508: 'demos', 1509: 'sati', 1510: 'intentona', 1511: 'grana', 1512: 'pago', 1513: 'joseluis', 1514: 'tamen', 1515: 'entro', 1516: 'vicentecal', 1517: 'pareci', 1518: 'cuari', 1519: 'len', 1520: 'animo', 1521: 'trata', 1522: 'reciente', 1523: 'derada', 1524: 'ponen', 1525: 'comprobar', 1526: 'recu', 1527: 'trate', 1528: 'salu', 1529: 'gentes', 1530: 'señor', 1531: 'liberal', 1532: 'misos', 1533: 'entemedio', 1534: 'conce', 1535: 'etar', 1536: 'acien', 1537: 'ayudar', 1538: 'mari', 1539: 'naturale', 1540: 'acer', 1541: 'cativa', 1542: 'electores', 1543: 'radi', 1544: 'trari', 1545: 'hos', 1546: 'merida', 1547: 'vias', 1548: 'derado', 1549: 'titulos', 1550: 'democratico', 1551: 'soberani', 1552: 'dinador', 1553: 'democraticas', 1554: 'mesa', 1555: 'dela', 1556: 'lusi', 1557: 'trabajos', 1558: 'prisi', 1559: 'tinos', 1560: 'able', 1561: 'visional', 1562: 'presentada', 1563: 'asesinato', 1564: 'medina', 1565: 'recomen', 1566: 'tade', 1567: 'socialista', 1568: 'penal', 1569: 'logis', 1570: 'dispuestos', 1571: 'pado', 1572: 'datari', 1573: 'deu', 1574: 'eliminar', 1575: 'lagos', 1576: 'toco', 1577: 'acor', 1578: 'para', 1579: 'personales', 1580: 'vera', 1581: 'regionales', 1582: 'treme', 1583: 'mue', 1584: 'inten', 1585: 'aten', 1586: 'ausen', 1587: 'rusi', 1588: 'chino', 1589: 'voco', 1590: 'aran', 1591: 'pada', 1592: 'direccion', 1593: 'renta', 1594: 'traron', 1595: 'matu', 1596: 'peradora', 1597: 'llos', 1598: 'pronun', 1599: 'mur', 1600: 'faine', 1601: 'amar', 1602: 'canada', 1603: 'plane', 1604: 'paris', 1605: 'rusa', 1606: 'jas', 1607: 'nar', 1608: 'trece', 1609: 'politicos', 1610: 'ctores', 1611: 'comisioneuropea', 1612: 'bases', 1613: 'national', 1614: 'ventu', 1615: 'balan', 1616: 'paren', 1617: 'rui', 1618: 'vicele', 1619: 'yana', 1620: 'vieron', 1621: 'varias', 1622: 'dula', 1623: 'argentinos', 1624: 'finsa', 1625: 'tivar', 1626: 'datos', 1627: 'nuevas', 1628: 'pocos', 1629: 'diaria', 1630: 'españolas', 1631: 'recien', 1632: 'marinos', 1633: 'acausade', 1634: 'gabine', 1635: 'afirma', 1636: 'oridades', 1637: 'beran', 1638: 'dem', 1639: 'males', 1640: 'hacen', 1641: 'deral', 1642: 'emisora', 1643: 'camino', 1644: 'acon', 1645: 'ental', 1646: 'karen', 1647: 'jador', 1648: 'tentico', 1649: 'peridad', 1650: 'vatios', 1651: 'reconoci', 1652: 'electorales', 1653: 'incentivar', 1654: 'vicente', 1655: 'dientes', 1656: 'sado', 1657: 'diaz', 1658: 'lema', 1659: 'geni', 1660: 'formaciones', 1661: 'acesa', 1662: 'conoce', 1663: 'señala', 1664: 'toso', 1665: 'primeradi', 1666: 'una', 1667: 'ral', 1668: 'rober', 1669: 'lleno', 1670: '20000', 1671: 'ramun', 1672: 'talaciones', 1673: 'zas', 1674: 'rias', 1675: 'manen', 1676: 'meria', 1677: 'socor', 1678: 'liber', 1679: 'apor', 1680: 'gaciones', 1681: 'democratica', 1682: 'racion', 1683: 'hemis', 1684: 'oridad', 1685: 'dieran', 1686: 'detal', 1687: 'liberali', 1688: 'dari', 1689: 'aragon', 1690: 'cadena', 1691: 'cionar', 1692: 'tudian', 1693: 'poco', 1694: 'peratura', 1695: 'especialistas', 1696: 'recia', 1697: 'canade', 1698: 'mediato', 1699: 'estadosameri', 1700: 'emer', 1701: 'bemos', 1702: 'tales', 1703: 'media', 1704: 'arabi', 1705: 'ciero', 1706: 'sables', 1707: 'ocho', 1708: 'dure', 1709: 'dinacion', 1710: 'liberales', 1711: 'homena', 1712: 'lamo', 1713: 'casa', 1714: 'alimentari', 1715: 'pose', 1716: 'triaco', 1717: '3000', 1718: 'servir', 1719: 'transi', 1720: 'lacai', 1721: 'sau', 1722: 'abas', 1723: 'ani', 1724: 'demur', 1725: 'mejores', 1726: 'lana', 1727: 'informa', 1728: 'yemen', 1729: 'uer', 1730: 'yeron', 1731: 'mativa', 1732: 'premo', 1733: 'pare', 1734: 'tiros', 1735: 'acuerdocon', 1736: 'visas', 1737: 'zaciones', 1738: 'norue', 1739: 'denado', 1740: 'quince', 1741: 'espera', 1742: 'veres', 1743: 'henes', 1744: 'mores', 1745: 'binimarama', 1746: 'traciones', 1747: 'dacionandalu', 1748: 'arg', 1749: 'desen', 1750: 'atri', 1751: 'titulo', 1752: 'uro', 1753: 'rechazaron', 1754: 'palacio', 1755: 'pime', 1756: 'dam', 1757: 'sefes', 1758: 'asau', 1759: 'caños', 1760: 'documentacion', 1761: 'playas', 1762: 'adala', 1763: 'maria', 1764: 'lero', 1765: 'mues', 1766: 'cales', 1767: 'empresariales', 1768: 'dida', 1769: 'rag', 1770: 'rentes', 1771: 'ciativas', 1772: 'canis', 1773: 'lamar', 1774: 'bal', 1775: 'cura', 1776: 'porahora', 1777: 'seri', 1778: 'cios', 1779: 'retirado', 1780: 'mado', 1781: 'conocemos', 1782: 'partidore', 1783: 'vonobo', 1784: 'delaliberacion', 1785: 'elementos', 1786: 'cargada', 1787: 'jefes', 1788: 'laborales', 1789: 'resu', 1790: 'viera', 1791: 'mura', 1792: 'cuentran', 1793: 'presenta', 1794: 'premi', 1795: 'dios', 1796: 'tofu', 1797: 'didos', 1798: 'suer', 1799: 'quiera', 1800: 'tatales', 1801: 'ares', 1802: 'realidad', 1803: 'sini', 1804: 'namentales', 1805: '30000', 1806: 'enti', 1807: 'sane', 1808: 'despe', 1809: 'damente', 1810: 'bancos', 1811: 'bancocomer', 1812: 'mag', 1813: 'corazon', 1814: 'tralidad', 1815: 'duracion', 1816: 'cono', 1817: 'hel', 1818: 'paname', 1819: 'rateria', 1820: 'turon', 1821: 'decisiones', 1822: 'lusiones', 1823: 'reras', 1824: 'pocas', 1825: 'catan', 1826: 'presentan', 1827: 'bain', 1828: 'guero', 1829: 'finalistas', 1830: 'pate', 1831: 'valle', 1832: 'asegurado', 1833: 'presidenta', 1834: 'onal', 1835: 'fase', 1836: 'resolu', 1837: 'arai', 1838: 'decimo', 1839: 'japon', 1840: 'japonesa', 1841: 'yas', 1842: 'onato', 1843: 'tenimi', 1844: 'sin', 1845: 'incrementar', 1846: 'uso', 1847: 'gara', 1848: 'sesi', 1849: 'sacion', 1850: 'vari', 1851: 'luen', 1852: 'mana', 1853: 'cargara', 1854: 'culos', 1855: 'table', 1856: 'tienen', 1857: 'volun', 1858: 'ayun', 1859: 'zadas', 1860: 'delo', 1861: 'localidades', 1862: 'onu', 1863: 'minimo', 1864: 'camisetas', 1865: 'patrocini', 1866: 'amente', 1867: 'one', 1868: 'cuentan', 1869: 'onari', 1870: 'compen', 1871: 'parecio', 1872: 'cin', 1873: 'perior', 1874: 'ais', 1875: 'asal', 1876: 'parala', 1877: 'planes', 1878: 'lamami', 1879: 'chame', 1880: 'enar', 1881: 'puestos', 1882: 'conoci', 1883: 'agen', 1884: 'vos', 1885: 'caro', 1886: 'tremadura', 1887: 'asesinado', 1888: 'jamai', 1889: 'caciones', 1890: 'lanzado', 1891: 'jen', 1892: 'feso', 1893: 'dano', 1894: 'plausos', 1895: 'tentes', 1896: 'mejora', 1897: 'vindi', 1898: 'gracias', 1899: 'veses', 1900: 'informaron', 1901: 'ari', 1902: 'patriar', 1903: 'presentes', 1904: 'tracion', 1905: 'hesi', 1906: 'gracia', 1907: 'surameri', 1908: 'atentado', 1909: 'garo', 1910: 'desem', 1911: 'satis', 1912: 'ciade', 1913: 'minara', 1914: 'pesar', 1915: 'paisesex', 1916: 'vinas', 1917: 'delator', 1918: 'beli', 1919: 'lamentari', 1920: 'nativas', 1921: 'musa', 1922: 'traban', 1923: 'imene', 1924: 'erona', 1925: 'dameta', 1926: 'sacar', 1927: 'maticas', 1928: 'jada', 1929: 'jaran', 1930: 'delacoru', 1931: 'loni', 1932: 'lesas', 1933: 'probablemente', 1934: 'rati', 1935: 'gerente', 1936: 'lam', 1937: 'entrenami', 1938: 'mane', 1939: 'tural', 1940: 'problema', 1941: 'demues', 1942: 'batir', 1943: 'uru', 1944: 'probo', 1945: 'toc', 1946: 'conocimi', 1947: 'senadores', 1948: 'cular', 1949: 'sentir', 1950: 'buenos', 1951: 'taba', 1952: 'requisi', 1953: 'lera', 1954: 'aco', 1955: 'pla', 1956: 'alidad', 1957: 'minos', 1958: 'denti', 1959: 'acambi', 1960: 'carac', 1961: 'dinami', 1962: 'yam', 1963: 'gues', 1964: 'desac', 1965: 'formas', 1966: 'velar', 1967: 'intenta', 1968: 'mor', 1969: 'macia', 1970: 'rayaron', 1971: 'jesus', 1972: 'tativo', 1973: 'esperade', 1974: 'consis', 1975: 'venes', 1976: 'añade', 1977: 'une', 1978: 'merosas', 1979: 'podia', 1980: 'firman', 1981: 'nativos', 1982: 'yemeni', 1983: 'ayo', 1984: 'vincias', 1985: 'delac', 1986: 'arabe', 1987: 'cuali', 1988: 'tinados', 1989: 'menem', 1990: 'ruselas', 1991: 'fuerade', 1992: 'pris', 1993: 'mentaron', 1994: 'previsiones', 1995: 'damental', 1996: 'nuevayor', 1997: 'quen', 1998: 'personalidad', 1999: 'volar', 2000: 'gespe', 2001: 'aler', 2002: 'temoc', 2003: 'interameri', 2004: 'ciari', 2005: 'actor', 2006: 'dose', 2007: 'catalanas', 2008: 'adora', 2009: 'viacion', 2010: 'lalana', 2011: 'delaz', 2012: 'tinental', 2013: 'gesima', 2014: 'ticaci', 2015: 'afirman', 2016: 'lativo', 2017: 'materiade', 2018: 'eliminado', 2019: 'vial', 2020: 'iso', 2021: 'tat', 2022: 'cesas', 2023: 'pobres', 2024: 'fuente', 2025: 'gativa', 2026: 'pasa', 2027: 'eronau', 2028: 'ramadan', 2029: 'nal', 2030: 'tudiar', 2031: 'dul', 2032: 'cinade', 2033: 'feria', 2034: 'guel', 2035: 'dauni', 2036: 'abul', 2037: 'cesade', 2038: 'interesan', 2039: 'pimentel', 2040: 'danas', 2041: 'ores', 2042: 'comisari', 2043: 'agi', 2044: 'presentados', 2045: 'radiofi', 2046: 'veran', 2047: 'trade', 2048: 'use', 2049: 'permiso', 2050: 'bada', 2051: 'euro', 2052: 'cargos', 2053: 'here', 2054: 'delare', 2055: 'uelos', 2056: 'plemente', 2057: 'matra', 2058: 'infan', 2059: 'plazados', 2060: 'organizaciones', 2061: 'patria', 2062: 'afirmar', 2063: 'bados', 2064: 'zonas', 2065: 'uis', 2066: 'tasas', 2067: 'anoche', 2068: 'cena', 2069: 'sectores', 2070: 'dato', 2071: 'vorable', 2072: 'homo', 2073: 'simul', 2074: 'ganara', 2075: 'informaticos', 2076: 'lores', 2077: 'jera', 2078: 'dinos', 2079: 'lados', 2080: 'tador', 2081: 'vincial', 2082: 'yacimi', 2083: 'preferi', 2084: 'desas', 2085: 'casadas', 2086: 'denadores', 2087: 'vamente', 2088: 'zale', 2089: 'pagar', 2090: 'chel', 2091: 'consor', 2092: 'factos', 2093: 'ñado', 2094: 'pasados', 2095: 'informar', 2096: 'comunidadan', 2097: 'cuau', 2098: 'demasi', 2099: 'volado', 2100: 'alusion', 2101: 'camaraba', 2102: 'etaria', 2103: 'centrado', 2104: 'tulo', 2105: 'graciasa', 2106: 'porul', 2107: 'teneren', 2108: 'jami', 2109: 'jaron', 2110: 'vino', 2111: 'abonado', 2112: 'incremento', 2113: 'cesi', 2114: 'rida', 2115: 'lexi', 2116: 'ler', 2117: 'lace', 2118: 'alcanzado', 2119: 'denal', 2120: 'aso', 2121: 'samos', 2122: 'concentrado', 2123: 'nado', 2124: 'tribunales', 2125: 'uno', 2126: 'raran', 2127: 'firmas', 2128: 'aci', 2129: 'diran', 2130: 'caballo', 2131: 'sadelacompetencia', 2132: 'entan', 2133: 'cere', 2134: 'grani', 2135: 'deraciones', 2136: 'lamentaria', 2137: 'imas', 2138: 'goban', 2139: 'remedios', 2140: 'lamaria', 2141: 'directo', 2142: 'satori', 2143: 'programada', 2144: 'onales', 2145: 'jex', 2146: 'kamisesemara', 2147: 'ene', 2148: 'morales', 2149: 'nara', 2150: 'demexico', 2151: 'daciones', 2152: 'ciono', 2153: 'asegura', 2154: 'prochan', 2155: 'trara', 2156: 'bex', 2157: 'titula', 2158: 'usan', 2159: 'doctor', 2160: 'cadenas', 2161: 'quiero', 2162: 'vatelefoni', 2163: 'gura', 2164: 'vables', 2165: 'jala', 2166: 'trai', 2167: 'amenazan', 2168: 'enten', 2169: 'reuniones', 2170: 'decomer', 2171: 'trias', 2172: 'laciones', 2173: 'jacome', 2174: 'bor', 2175: 'velo', 2176: 'prador', 2177: 'cosas', 2178: 'abonar', 2179: 'metas', 2180: 'razar', 2181: 'malasi', 2182: 'denuevo', 2183: 'fuerzadere', 2184: 'ñadel', 2185: 'luralis', 2186: 'tades', 2187: 'damentales', 2188: 'tariamente', 2189: 'minui', 2190: 'tini', 2191: 'dinero', 2192: 'mados', 2193: 'daria', 2194: 'lativas', 2195: 'tagoni', 2196: 'pinoche', 2197: 'genoci', 2198: 'pras', 2199: 'documentos', 2200: 'cionami', 2201: 'leyes', 2202: 'plazos', 2203: 'concentra', 2204: 'parecer', 2205: 'trazado', 2206: 'caria', 2207: 'aminar', 2208: 'enter', 2209: 'acusaciones', 2210: 'vare', 2211: 'esen', 2212: 'materia', 2213: 'chau', 2214: 'diales', 2215: 'subi', 2216: 'plata', 2217: 'incau', 2218: 'tun', 2219: 'cieros', 2220: 'ladec', 2221: 'reconoce', 2222: 'cieras', 2223: 'puente', 2224: 'tasocial', 2225: 'teccionis', 2226: 'probaron', 2227: 'adul', 2228: 'sufi', 2229: 'lares', 2230: 'culas', 2231: 'matri', 2232: 'lugares', 2233: 'menta', 2234: 'dispuso', 2235: 'juntos', 2236: 'cianacional', 2237: 'palacios', 2238: 'apos', 2239: 'renun', 2240: 'tamo', 2241: 'sari', 2242: 'dulentos', 2243: 'entero', 2244: 'materias', 2245: 'cisi', 2246: 'cusi', 2247: 'toro', 2248: 'interior', 2249: 'zabe', 2250: 'ñocanales', 2251: 'poral', 2252: 'presun', 2253: 'lausula', 2254: 'pari', 2255: 'aline', 2256: 'lideraz', 2257: 'lara', 2258: 'laborar', 2259: 'atras', 2260: 'documentados', 2261: 'yado', 2262: 'gularidades', 2263: 'core', 2264: 'rase', 2265: 'lamacion', 2266: 'cober', 2267: 'rad', 2268: 'vencionis', 2269: 'pasi', 2270: 'enespecial', 2271: 'labi', 2272: 'terioro', 2273: 'timacion', 2274: 'hueso', 2275: 'rosa', 2276: 'mocion', 2277: 'desper', 2278: 'tare', 2279: 'valu', 2280: 'danu', 2281: 'sinai', 2282: 'minada', 2283: 'teradamente', 2284: 'batal', 2285: 'tocar', 2286: 'petalo', 2287: 'alalu', 2288: 'dacion', 2289: 'peraba', 2290: 'nacionalistas', 2291: 'teras', 2292: 'hima', 2293: 'agru', 2294: 'leros', 2295: 'jano', 2296: 'manas', 2297: 'minacion', 2298: 'ratas', 2299: 'durara', 2300: 'viones', 2301: 'queros', 2302: 'yan', 2303: 'intento', 2304: 'cadel', 2305: 'vagu', 2306: 'asesoria', 2307: 'tivado', 2308: 'mobi', 2309: 'aria', 2310: 'recen', 2311: 'amos', 2312: 'preliminar', 2313: 'entrar', 2314: 'aguinaga', 2315: 'partes', 2316: 'alex', 2317: 'vaciones', 2318: 'ona', 2319: 'patri', 2320: 'finalista', 2321: 'meli', 2322: 'doble', 2323: 'rentara', 2324: 'ventas', 2325: 'formado', 2326: 'ganan', 2327: 'traderechis', 2328: 'ganaron', 2329: 'machine', 2330: 'trativas', 2331: 'vin', 2332: 'gullosos', 2333: 'gon', 2334: 'agus', 2335: 'auna', 2336: 'goles', 2337: 'paulo', 2338: 'japones', 2339: 'subis', 2340: 'poration', 2341: 'binado', 2342: 'pasara', 2343: 'cuatoriano', 2344: 'centrales', 2345: 'poro', 2346: 'vale', 2347: 'vallos', 2348: 'isi', 2349: 'vero', 2350: 'cablese', 2351: 'remos', 2352: 'mismos', 2353: 'achaco', 2354: 'factores', 2355: 'ase', 2356: 'concentracion', 2357: 'tinter', 2358: 'desatelecomunicaciones', 2359: 'fenosainversi', 2360: 'decable', 2361: 'cablel', 2362: 'teca', 2363: 'lase', 2364: 'entrenador', 2365: 'docaso', 2366: 'atleta', 2367: 'traso', 2368: 'rusas', 2369: 'intentar', 2370: 'cretis', 2371: 'timamente', 2372: 'lararon', 2373: 'tros', 2374: 'charon', 2375: 'vanzada', 2376: 'lama', 2377: 'onel', 2378: 'bui', 2379: 'factor', 2380: 'ladimi', 2381: 'probable', 2382: 'zaba', 2383: 'raron', 2384: 'paba', 2385: 'analber', 2386: 'josena', 2387: 'partimento', 2388: 'tacentralelectoral', 2389: 'cina', 2390: 'tinado', 2391: 'material', 2392: 'morel', 2393: 'jeron', 2394: 'trage', 2395: 'posa', 2396: 'curi', 2397: 'pin', 2398: 'quis', 2399: 'ticiones', 2400: 'localidad', 2401: 'tau', 2402: 'quel', 2403: 'dece', 2404: 'suelo', 2405: 'onaria', 2406: 'animador', 2407: 'victorias', 2408: 'asociaciones', 2409: 'beni', 2410: 'granos', 2411: 'sabo', 2412: 'lograron', 2413: 'pore', 2414: 'causas', 2415: 'barent', 2416: 'namental', 2417: 'due', 2418: 'rent', 2419: 'osos', 2420: 'parentemente', 2421: 'jadas', 2422: 'ror', 2423: 'ruso', 2424: 'visado', 2425: 'ane', 2426: 'yara', 2427: 'afirmaron', 2428: 'case', 2429: 'ses', 2430: 'nego', 2431: 'oni', 2432: 'imadamente', 2433: 'grara', 2434: 'quero', 2435: 'teccion', 2436: 'moral', 2437: 'pron', 2438: 'daran', 2439: 'incor', 2440: 'lau', 2441: 'nacion', 2442: 'tinte', 2443: 'pac', 2444: 'puestamente', 2445: 'dura', 2446: 'ciay', 2447: 'pleno', 2448: 'lament', 2449: 'señanza', 2450: 'sobresali', 2451: 'incompetencia', 2452: 'tratados', 2453: 'queras', 2454: 'decre', 2455: 'seme', 2456: 'ticamente', 2457: 'selec', 2458: 'analistas', 2459: 'pates', 2460: 'cativos', 2461: 'cador', 2462: 'galle', 2463: 'duelo', 2464: 'trial', 2465: 'metal', 2466: 'taculos', 2467: 'yen', 2468: 'goria', 2469: 'valoro', 2470: 'grupos', 2471: 'ayu', 2472: 'centros', 2473: 'derados', 2474: 'carga', 2475: 'lamente', 2476: 'remi', 2477: 'tireles', 2478: 'congeladores', 2479: 'hincapi', 2480: 'yar', 2481: 'recuentos', 2482: 'partio', 2483: 'bremen', 2484: 'vocados', 2485: 'imo', 2486: 'generado', 2487: 'ageneral', 2488: 'serara', 2489: 'plena', 2490: 'pasos', 2491: 'semes', 2492: 'gurisares', 2493: 'concer', 2494: 'gativos', 2495: 'damento', 2496: 'plano', 2497: 'pani', 2498: 'nados', 2499: 'donacional', 2500: 'intentos', 2501: 'vion', 2502: 'lamadas', 2503: 'donar', 2504: 'troni', 2505: 'investigaciones', 2506: 'rachau', 2507: 'far', 2508: 'musi', 2509: 'porcionara', 2510: 'mediatos', 2511: 'ferente', 2512: 'rayado', 2513: 'dinari', 2514: 'bocado', 2515: 'paragu', 2516: 'alemana', 2517: 'cache', 2518: 'turacion', 2519: 'minar', 2520: 'dalo', 2521: 'negocios', 2522: 'dadero', 2523: 'pusi', 2524: 'valenti', 2525: 'fines', 2526: 'trimes', 2527: 'relacionesex', 2528: 'suelen', 2529: 'prada', 2530: 'sabe', 2531: 'macher', 2532: 'chu', 2533: 'resos', 2534: 'masa', 2535: 'deseguimi', 2536: 'ppe', 2537: 'diese', 2538: 'pablosime', 2539: 'podido', 2540: 'poradas', 2541: 'llosa', 2542: 'merosos', 2543: 'teria', 2544: 'marin', 2545: 'capinter', 2546: 'falle', 2547: 'mallor', 2548: 'sala', 2549: 'poderoso', 2550: 'dianas', 2551: 'logo', 2552: 'socialistas', 2553: 'tento', 2554: '1300', 2555: 'plente', 2556: 'tase', 2557: 'sofi', 2558: 'regi', 2559: 'pletar', 2560: 'decas', 2561: 'male', 2562: 'tresana', 2563: 'guimara', 2564: 'joseramon', 2565: 'vargas', 2566: 'presu', 2567: 'reconocimi', 2568: 'minasan', 2569: 'nativa', 2570: 'argu', 2571: 'jac', 2572: 'retirar', 2573: 'logra', 2574: 'tosi', 2575: 'tora', 2576: 'ati', 2577: 'afirmacion', 2578: 'losofi', 2579: 'lina', 2580: 'brero', 2581: 'lleros', 2582: 'respeta', 2583: 'sabore', 2584: 'pacho', 2585: 'guro', 2586: 'fallo', 2587: 'raul', 2588: 'partidocomunis', 2589: 'compañ', 2590: '<UNK>', 2591: '<BOS>', 2592: '<EOS>'}\n"
     ]
    },
    {
     "data": {
      "text/plain": [
       "2593"
      ]
     },
     "execution_count": 9,
     "metadata": {},
     "output_type": "execute_result"
    }
   ],
   "source": [
    "#Se obtienen los índices de cada palabra\n",
    "palabras_a_indices, indices_a_palabras = indices_palabras(dic_palabras)\n",
    "print(palabras_a_indices)\n",
    "print(indices_a_palabras)\n",
    "len(palabras_a_indices)"
   ]
  },
  {
   "cell_type": "code",
   "execution_count": 10,
   "metadata": {},
   "outputs": [],
   "source": [
    "def get_id(palabra_a_id: dict, palabra: str) -> int:\n",
    "    \"\"\"Obtiene el id de una palabra dada\n",
    "\n",
    "    Si no se encuentra la palabra se regresa el id\n",
    "    del token UNK\n",
    "\n",
    "    Parameters\n",
    "    ----------\n",
    "    palabra_a_id : dict\n",
    "        Diccionario de palabras a indices\n",
    "    palabra : str\n",
    "        Palabra a buscar\n",
    "\n",
    "    Returns\n",
    "    -------\n",
    "    int\n",
    "        Indice de la palabra\n",
    "    \"\"\"\n",
    "    id_unknow = palabra_a_id[ETIQUETA_UNK]\n",
    "    return palabra_a_id.get(palabra, id_unknow)"
   ]
  },
  {
   "cell_type": "code",
   "execution_count": 11,
   "metadata": {},
   "outputs": [],
   "source": [
    "def lista_indices(corpus:list, palabras_a_indices:dict) -> list:\n",
    "    \"\"\"Genera una lista de indices que representan las palabras de un corpus \n",
    "    Parameters\n",
    "    ----------\n",
    "    corpus : list\n",
    "        corpus a procesar\n",
    "    indices_a_palabras : dict\n",
    "        Diccionario de palabras a indices\n",
    "    Returns\n",
    "    -------\n",
    "    list\n",
    "        Lista de indices que representan las palabras del corpus\n",
    "    \"\"\"\n",
    "    indices = []\n",
    "    for sent in corpus:\n",
    "        renglon = []\n",
    "        for token in sent:\n",
    "            renglon.append(get_id(palabras_a_indices, token))\n",
    "        indices.append(renglon)\n",
    "    return indices"
   ]
  },
  {
   "cell_type": "code",
   "execution_count": 12,
   "metadata": {},
   "outputs": [],
   "source": [
    "def lista_siguientes(entradas : list) -> list:\n",
    "    \"\"\"\n",
    "    Genera una lista de palabras siguientes a partir de una lista de palabras.\n",
    "    Parameters\n",
    "    ----------\n",
    "    entradas : list\n",
    "        lista de listas de palabras, donde cada lista tiene \n",
    "        como primer elemento la etiqueta <BOS>.\n",
    "    Returns\n",
    "    -------\n",
    "    list\n",
    "        Lista de listas donde cada palabra es la palabra que le sigue \n",
    "        en la entrada, o la etiqueta <EOS> si es la última de la lista.\n",
    "    \"\"\"\n",
    "    salidas = []\n",
    "    for sent in entradas:\n",
    "        renglon = []\n",
    "        for i in range(len(sent)-1):\n",
    "            renglon.append(sent[i+1])    \n",
    "        renglon.append(\"<EOS>\")                \n",
    "        salidas.append(renglon)\n",
    "    return(salidas)"
   ]
  },
  {
   "cell_type": "code",
   "execution_count": 13,
   "metadata": {},
   "outputs": [
    {
     "name": "stdout",
     "output_type": "stream",
     "text": [
      "[2591, 270, 17, 1437, 919, 175, 44, 13, 0, 191, 64, 14, 25, 35, 519, 34, 159, 241, 78, 970, 117, 36, 147, 293, 742, 336, 919, 175, 44, 2590, 2590, 16, 801, 48, 14, 1, 1, 151, 737, 2338, 52, 39, 2339, 75, 249, 2340, 1475, 102, 145, 1216, 917, 61, 123, 117, 97, 129, 1650]\n",
      "['<BOS>', 'grupo', 'es', 'tatal', 'elec', 'tri', 'ci', 'te', 'de', 'fran', 'ce', 'e', 'd', 'f', 'anuncio', 'hoy', 'jue', 'ves', 'com', 'pra', '5', '1', 'porciento', 'empresa', 'mexi', 'cana', 'elec', 'tri', 'ci', 'dadagui', 'lade', 'al', 'tami', 'ra', 'e', 'a', 'a', 'cre', 'ada', 'japones', 'mi', 't', 'subis', 'hi', 'cor', 'poration', 'poneren', 'mar', 'cha', 'central', 'gas', '4', '9', '5', 'me', 'ga', 'vatios']\n"
     ]
    }
   ],
   "source": [
    "#Obtenemos los índices de cada oración\n",
    "indices_sents = lista_indices(sents_tokenizadas, palabras_a_indices)\n",
    "print(indices_sents[0])\n",
    "print(sents_tokenizadas[0])"
   ]
  },
  {
   "cell_type": "code",
   "execution_count": 14,
   "metadata": {},
   "outputs": [
    {
     "name": "stdout",
     "output_type": "stream",
     "text": [
      "['grupo', 'es', 'tatal', 'elec', 'tri', 'ci', 'te', 'de', 'fran', 'ce', 'e', 'd', 'f', 'anuncio', 'hoy', 'jue', 'ves', 'com', 'pra', '5', '1', 'porciento', 'empresa', 'mexi', 'cana', 'elec', 'tri', 'ci', 'dadagui', 'lade', 'al', 'tami', 'ra', 'e', 'a', 'a', 'cre', 'ada', 'japones', 'mi', 't', 'subis', 'hi', 'cor', 'poration', 'poneren', 'mar', 'cha', 'central', 'gas', '4', '9', '5', 'me', 'ga', 'vatios', '<EOS>']\n",
      "[270, 17, 1437, 919, 175, 44, 13, 0, 191, 64, 14, 25, 35, 519, 34, 159, 241, 78, 970, 117, 36, 147, 293, 742, 336, 919, 175, 44, 2590, 2590, 16, 801, 48, 14, 1, 1, 151, 737, 2338, 52, 39, 2339, 75, 249, 2340, 1475, 102, 145, 1216, 917, 61, 123, 117, 97, 129, 1650, 2592]\n"
     ]
    }
   ],
   "source": [
    "#Obtenemos las palabras siguientes y sus índices\n",
    "siguientes_tokenizadas = lista_siguientes(sents_tokenizadas)\n",
    "indices_siguientes = lista_indices(siguientes_tokenizadas, palabras_a_indices)\n",
    "\n",
    "print(siguientes_tokenizadas[0])\n",
    "print(indices_siguientes[0])"
   ]
  },
  {
   "cell_type": "markdown",
   "metadata": {},
   "source": [
    "## Paso 2 \n",
    "Construimos la red neuronal recurrente "
   ]
  },
  {
   "cell_type": "code",
   "execution_count": 15,
   "metadata": {},
   "outputs": [],
   "source": [
    "import torch    \n",
    "import torch.nn as nn"
   ]
  },
  {
   "cell_type": "code",
   "execution_count": 16,
   "metadata": {},
   "outputs": [],
   "source": [
    "class RecurrentNetwork(nn.Module):\n",
    "    def __init__(self, dim_in, dim_out, dim=100, dim_h=200):\n",
    "        super().__init__()\n",
    "        #Capa de embedding\n",
    "        self.emb = nn.Embedding(dim_in,dim)\n",
    "        #Capa de RNN (bidireccional)\n",
    "        self.recurrence = nn.RNN(dim, dim_h, bidirectional=True)\n",
    "        #Capa lineal\n",
    "        lineal = nn.Linear(2*dim_h,dim_out)\n",
    "        #Activacion\n",
    "        pre = nn.Softmax(dim=2)\n",
    "        #Salida\n",
    "        self.ffw = nn.Sequential(lineal, pre)\n",
    "        \n",
    "    def forward(self, x):\n",
    "        #Se convierte en tensor\n",
    "        x = torch.tensor(x)\n",
    "        #Embedding\n",
    "        x = self.emb(x)\n",
    "        x = x.unsqueeze(1)\n",
    "        #Capas recurrentes\n",
    "        h, c = self.recurrence(x)\n",
    "        #Activación\n",
    "        h = h.tanh()\n",
    "        #Salida\n",
    "        y_pred = self.ffw(h)\n",
    "        y_pred = y_pred.transpose(1, 2)\n",
    "        return y_pred\n",
    "\n",
    "    def get_emb(self):\n",
    "        return self.emb"
   ]
  },
  {
   "cell_type": "code",
   "execution_count": 17,
   "metadata": {},
   "outputs": [],
   "source": [
    "#Se crea la red recurrente\n",
    "#Numero de iteraciones\n",
    "EPOCHS = 10\n",
    "#Taza de aprendizaje\n",
    "LEARNING_RATE = 0.02\n",
    "#Dimension\n",
    "dim = 2\n",
    "\n",
    "#Se crea la red\n",
    "rnn = RecurrentNetwork(len(indices_a_palabras.keys()), len(indices_a_palabras.keys()))\n",
    "\n",
    "#Se definen los conjuntos de entradas y salidas\n",
    "x = indices_sents\n",
    "y = indices_siguientes\n",
    "\n",
    "#Se define la función de riesgo y el optimizador\n",
    "criterion = torch.nn.CrossEntropyLoss()\n",
    "optimizer = torch.optim.Adagrad(rnn.parameters(), LEARNING_RATE)"
   ]
  },
  {
   "cell_type": "code",
   "execution_count": 18,
   "metadata": {},
   "outputs": [
    {
     "name": "stdout",
     "output_type": "stream",
     "text": [
      "Epoch=0. Training loss=7.787030220031738\n",
      "Epoch=1. Training loss=7.750726699829102\n",
      "Epoch=2. Training loss=7.749993324279785\n",
      "Epoch=3. Training loss=7.749973297119141\n",
      "Epoch=4. Training loss=7.749995708465576\n",
      "Epoch=5. Training loss=7.71314001083374\n",
      "Epoch=6. Training loss=7.712960720062256\n",
      "Epoch=7. Training loss=7.71293306350708\n",
      "Epoch=8. Training loss=7.712952136993408\n",
      "Epoch=9. Training loss=7.712929725646973\n"
     ]
    }
   ],
   "source": [
    " #Se entrena el modelo\n",
    "for epoch in range(EPOCHS):\n",
    "    for x_i, y_i in zip(x, y):\n",
    "        #Forward\n",
    "        y_pred = rnn(x_i)\n",
    "\n",
    "        #Backward\n",
    "        y_i = (torch.tensor(y_i)).unsqueeze(1)\n",
    "\n",
    "        #Se calcula el eror\n",
    "        loss = criterion(y_pred, y_i)\n",
    "\n",
    "        #zero grad\n",
    "        optimizer.zero_grad()\n",
    "        #Backprop\n",
    "        loss.backward()\n",
    "        #Actualizar parametros\n",
    "        optimizer.step()\n",
    "\n",
    "    print(f\"Epoch={epoch}. Training loss={loss}\")\n"
   ]
  },
  {
   "cell_type": "code",
   "execution_count": 19,
   "metadata": {},
   "outputs": [],
   "source": [
    "def get_valor(tupla):\n",
    "    return tupla[1]\n",
    "\n",
    "def get_proba(corpus_eval : list, palabras_a_ind : dict, sort_func) -> list:\n",
    "    probas = []\n",
    "    ind_corpus = [palabras_a_ind[w] for w in corpus_eval]\n",
    "    output = rnn(ind_corpus)\n",
    "    for i in range(len(corpus_eval)):\n",
    "        renglon = []\n",
    "        for j in range(len(palabras_a_ind.keys())):\n",
    "            palabras = list(palabras_a_ind.keys())\n",
    "            valor = output[i][j].item()\n",
    "            renglon.append((palabras[j], valor, j))\n",
    "        renglon.sort(key=sort_func, reverse=True)\n",
    "        probas.append(renglon)\n",
    "    return probas\n"
   ]
  },
  {
   "cell_type": "code",
   "execution_count": 20,
   "metadata": {},
   "outputs": [
    {
     "name": "stdout",
     "output_type": "stream",
     "text": [
      "Probas para <BOS>\n",
      "('en', 0.40815067291259766, 15)\n",
      "('te', 0.2054554671049118, 13)\n",
      "('re', 0.12209904938936234, 7)\n",
      "('<EOS>', 0.08431662619113922, 2592)\n",
      "('si', 0.0766080990433693, 22)\n",
      "('di', 0.026075780391693115, 23)\n",
      "('tri', 0.02585514634847641, 175)\n",
      "('de', 0.021285708993673325, 0)\n",
      "('<UNK>', 0.013227386400103569, 2590)\n",
      "('do', 0.004608694929629564, 4)\n",
      "\n",
      "Probas para grupo\n",
      "('ci', 0.3443736135959625, 44)\n",
      "('do', 0.17386336624622345, 4)\n",
      "('en', 0.1214723140001297, 15)\n",
      "('de', 0.07537972182035446, 0)\n",
      "('di', 0.05935594439506531, 23)\n",
      "('e', 0.05603150650858879, 14)\n",
      "('tivo', 0.05084279924631119, 161)\n",
      "('re', 0.03729741647839546, 7)\n",
      "('si', 0.036166585981845856, 22)\n",
      "('co', 0.012685783207416534, 5)\n",
      "\n",
      "Probas para es\n",
      "('do', 0.8204184770584106, 4)\n",
      "('<UNK>', 0.038050368428230286, 2590)\n",
      "('re', 0.030106520280241966, 7)\n",
      "('to', 0.022988367825746536, 3)\n",
      "('te', 0.01840873248875141, 13)\n",
      "('di', 0.015399094671010971, 23)\n",
      "('con', 0.011461601592600346, 6)\n",
      "('hoy', 0.007868628948926926, 34)\n",
      "('c', 0.00601130910217762, 9)\n",
      "('i', 0.0053946287371218204, 10)\n",
      "\n",
      "Probas para tatal\n",
      "('<EOS>', 0.8886993527412415, 2592)\n",
      "('do', 0.0438031330704689, 4)\n",
      "('ra', 0.025612497702240944, 48)\n",
      "('d', 0.011396823450922966, 25)\n",
      "('en', 0.008631392382085323, 15)\n",
      "('e', 0.006477746646851301, 14)\n",
      "('l', 0.0036155665293335915, 19)\n",
      "('ti', 0.0022552208974957466, 12)\n",
      "('ci', 0.0018654450541362166, 44)\n",
      "('tri', 0.0013584389816969633, 175)\n",
      "\n",
      "Probas para <EOS>\n",
      "('<EOS>', 0.9995173215866089, 2592)\n",
      "('to', 0.0001194008655147627, 3)\n",
      "('di', 9.4460257969331e-05, 23)\n",
      "('ti', 7.032555004116148e-05, 12)\n",
      "('do', 3.546941661625169e-05, 4)\n",
      "('te', 2.963224505947437e-05, 13)\n",
      "('en', 2.5841660317382775e-05, 15)\n",
      "('f', 1.902532130770851e-05, 35)\n",
      "('ra', 1.1555563105503097e-05, 48)\n",
      "('co', 1.1045022802136373e-05, 5)\n",
      "\n"
     ]
    }
   ],
   "source": [
    "prueba = [\"<BOS>\", \"grupo\", \"es\", \"tatal\", \"<EOS>\"]\n",
    "probas = get_proba(prueba, palabras_a_indices, get_valor)\n",
    "for p in range(len(probas)):\n",
    "    print(f\"Probas para {prueba[p]}\")\n",
    "    for proba in probas[p][0:10]:\n",
    "        print(proba)\n",
    "    print(\"\")"
   ]
  },
  {
   "cell_type": "code",
   "execution_count": 21,
   "metadata": {},
   "outputs": [],
   "source": [
    "#Perplejidad\n",
    "def get_perplexity(corpus_eval : list, palabras_a_ind : dict) -> float:\n",
    "    perplexity = 0\n",
    "    indices_corpus = []\n",
    "    for token in corpus_eval:\n",
    "        if token in palabras_a_ind.keys():\n",
    "            indices_corpus.append(palabras_a_ind[token])\n",
    "        else:\n",
    "            indices_corpus.append(palabras_a_ind[\"<UNK>\"])\n",
    "            \n",
    "    output = rnn(indices_corpus)\n",
    "    probas = []\n",
    "    for i in range(len(output)-1):\n",
    "        probas.append(output[i][indices_corpus[i+1]].item())\n",
    "\n",
    "    for p in probas:\n",
    "        if(perplexity != 0):\n",
    "            perplexity != 1/p\n",
    "        else:\n",
    "            perplexity = 1/p\n",
    "    return perplexity ** (1/(len(corpus_eval)-2))"
   ]
  },
  {
   "cell_type": "code",
   "execution_count": 22,
   "metadata": {},
   "outputs": [
    {
     "name": "stdout",
     "output_type": "stream",
     "text": [
      "Perplejidad de la oración: 117.60486451602513\n"
     ]
    }
   ],
   "source": [
    "#Probando la perplejidad con tokens del corpus\n",
    "evaluacion = [\"<BOS>\", \"grupo\", \"es\", \"tatal\", \"<EOS>\"]\n",
    "perplejidad = get_perplexity(evaluacion, palabras_a_indices)\n",
    "print(f\"Perplejidad de la oración: {perplejidad}\")"
   ]
  },
  {
   "cell_type": "code",
   "execution_count": 23,
   "metadata": {},
   "outputs": [
    {
     "name": "stdout",
     "output_type": "stream",
     "text": [
      "Perplejidad de la oración: 5.1807825851267\n"
     ]
    }
   ],
   "source": [
    "#Probando la perplejidad con tokens en desorden\n",
    "evaluacion = [\"<EOS>\", \"es\", \"grupo\", \"tatal\", \"<BOS>\"]\n",
    "perplejidad = get_perplexity(evaluacion, palabras_a_indices)\n",
    "print(f\"Perplejidad de la oración: {perplejidad}\")"
   ]
  },
  {
   "cell_type": "code",
   "execution_count": 24,
   "metadata": {},
   "outputs": [],
   "source": [
    "import random\n",
    "def generate_words(palabras_a_ind: dict, longitud: int) -> str:\n",
    "    oracion = \"\"\n",
    "    ultima = \"<BOS>\"\n",
    "    for i in range(longitud):\n",
    "        result = get_proba([ultima], palabras_a_ind, get_valor)\n",
    "        siguiente = \"<UNK>\"\n",
    "        ind = random.randint(0, 10)\n",
    "        while siguiente == \"<UNK>\": #Se vuelve a elegir si toca un UNK\n",
    "            siguiente = result[0][ind][0]\n",
    "            ind = random.randint(0, 10)\n",
    "        if(siguiente == \"<EOS>\"):\n",
    "            oracion += \". \"\n",
    "        elif(siguiente != \"<BOS>\"):\n",
    "            oracion += f\"{siguiente} \"\n",
    "        ultima = siguiente\n",
    "    return oracion"
   ]
  },
  {
   "cell_type": "code",
   "execution_count": 25,
   "metadata": {},
   "outputs": [
    {
     "name": "stdout",
     "output_type": "stream",
     "text": [
      "Generando oracion: \n",
      "ci ta hoy re te es di tri ti ra \n"
     ]
    }
   ],
   "source": [
    "#Generamos una oración\n",
    "print(\"Generando oracion: \")\n",
    "print(generate_words(palabras_a_indices, 10))"
   ]
  },
  {
   "cell_type": "code",
   "execution_count": 61,
   "metadata": {},
   "outputs": [],
   "source": [
    "last_ind = len(list(indices_a_palabras.keys()))\n",
    "last_emb = torch.tensor(list(range(last_ind)))"
   ]
  },
  {
   "cell_type": "code",
   "execution_count": 62,
   "metadata": {},
   "outputs": [],
   "source": [
    "two_emb = []\n",
    "for ind in indices_a_palabras.keys():\n",
    "    emb_vector = rnn.emb(last_emb).detach().numpy()[ind]\n",
    "    elem = [e for e in emb_vector[0:2]]\n",
    "    two_emb.append(elem)"
   ]
  },
  {
   "cell_type": "code",
   "execution_count": 64,
   "metadata": {},
   "outputs": [
    {
     "data": {
      "image/png": "[encoded data removed]",
      "text/plain": [
       "<Figure size 640x480 with 1 Axes>"
      ]
     },
     "metadata": {},
     "output_type": "display_data"
    }
   ],
   "source": [
    "#Obteniendo los embeddings 2D\n",
    "def plot_words(Z, ids):\n",
    "    r=0\n",
    "    plt.scatter(Z[:,0],Z[:,1], marker='o', c='teal')\n",
    "    for label,x,y in zip(ids, Z[:,0], Z[:,1]):\n",
    "        plt.annotate(label, xy=(x,y), xytext=(-1,1), textcoords='offset points', ha='center', va='bottom')\n",
    "        r+=1\n",
    "\n",
    "plot_words(np.array(two_emb)[0:100], list(palabras_a_indices.keys()))\n",
    "plt.title('Embeddings')\n",
    "plt.show()"
   ]
  }
 ],
 "metadata": {
  "kernelspec": {
   "display_name": "Python 3",
   "language": "python",
   "name": "python3"
  },
  "language_info": {
   "codemirror_mode": {
    "name": "ipython",
    "version": 3
   },
   "file_extension": ".py",
   "mimetype": "text/x-python",
   "name": "python",
   "nbconvert_exporter": "python",
   "pygments_lexer": "ipython3",
   "version": "3.8.10"
  }
 },
 "nbformat": 4,
 "nbformat_minor": 2
}
