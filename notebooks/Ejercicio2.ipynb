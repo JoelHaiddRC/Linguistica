{
 "cells": [
  {
   "metadata": {},
   "cell_type": "markdown",
   "source": [
    "# Ejercicio 2\n",
    "\n",
    "Para esta seccion, seleccionamos un corpus de la biblioteca nltk. Para este ejercicio seleccionamos el corpus **cess_es**. Este corpus consiste un texto de noticias en espanol"
   ],
   "id": "f0ce5aee47e74207"
  },
  {
   "metadata": {
    "collapsed": true,
    "ExecuteTime": {
     "end_time": "2025-03-15T03:47:39.601002Z",
     "start_time": "2025-03-15T03:47:38.877318Z"
    }
   },
   "cell_type": "code",
   "source": [
    "import re\n",
    "import os\n",
    "import pandas as pd\n",
    "import numpy as np\n",
    "import matplotlib.pyplot as plt\n",
    "from collections import Counter\n",
    "\n",
    "from src.preprocesamiento.preprocesador import *\n",
    "from src.zipf.frecuencias import *\n",
    "from src.zipf.zipf_distribution import *\n",
    "from src.graficacion import *\n",
    "from src.preprocesamiento.subword import *\n",
    "\n",
    "os.environ[\"NLTK_DATA\"]=\"datos_nltk/\"\n",
    "import  nltk\n",
    "from nltk.corpus import stopwords"
   ],
   "id": "initial_id",
   "outputs": [],
   "execution_count": 1
  },
  {
   "metadata": {},
   "cell_type": "markdown",
   "source": [
    "## Paso 1\n",
    "Nos aseguramos de tener disponible el corpus **cess_esp**. Aprovechamos la funcionalidad de nltk para obtener las palabras del corpus. Estas palabras funcionaran como nuestros tokens.\n",
    "Notemos que el corpus tiene un total de __192686__ palabra (tokens)\n",
    "\n"
   ],
   "id": "8aadec00ac00286e"
  },
  {
   "metadata": {
    "ExecuteTime": {
     "end_time": "2025-03-15T03:47:42.132835Z",
     "start_time": "2025-03-15T03:47:39.605005Z"
    }
   },
   "cell_type": "code",
   "source": [
    "## Seleccionamos un corpus en español que se encuentra en nltk\n",
    "from nltk.corpus import cess_esp\n",
    "\n",
    "nltk.download(\"cess_esp\")\n",
    "corpus_tokens = cess_esp.words()\n",
    "\n",
    "print(\"Numero de tokens en el corpus:\", len(corpus_tokens))"
   ],
   "id": "5161a18a228501e1",
   "outputs": [
    {
     "name": "stderr",
     "output_type": "stream",
     "text": [
      "[nltk_data] Downloading package cess_esp to datos_nltk/...\n",
      "[nltk_data]   Package cess_esp is already up-to-date!\n"
     ]
    },
    {
     "name": "stdout",
     "output_type": "stream",
     "text": [
      "Numero de tokens en el corpus: 192686\n"
     ]
    }
   ],
   "execution_count": 2
  },
  {
   "metadata": {},
   "cell_type": "markdown",
   "source": [
    "## Paso 2\n",
    "Aplicamos un pre procesamiento a todos los tokens de nuestro corpus. Los pasos a seguir en nuestro pre procesamiento son los siguientes:\n",
    "- Pasamos todos los tokens a minusculas\n",
    "- Eliminamos cualquier signo de puntacion en los tokens, es decir, eliminamos cualquier signo que no sea una letra del alfabeto en español o número\n",
    "- Eliminamos todos los tokens que sean identificados como _stopword_. Para la lista de _stopword_ utilizamos la lista encontrada en ntlk para el lenguaje de español\n",
    "- Finalmente eliminamos acentos. En este paso, para cada token, sustituimos sus vocales acentuadas por la misma vocal sin acento.\n",
    "\n"
   ],
   "id": "5cd1d67700dadca6"
  },
  {
   "metadata": {
    "ExecuteTime": {
     "end_time": "2025-03-15T03:47:44.693311Z",
     "start_time": "2025-03-15T03:47:42.223345Z"
    }
   },
   "cell_type": "code",
   "source": [
    "# Dado nuestro corpus tokenizado, normalizamos el texto:\n",
    "# Removiendo acentos, puntuacion y stopwords\n",
    "\n",
    "nltk.download('stopwords')\n",
    "stopwords_list = stopwords.words('spanish')\n",
    "\n",
    "#print(stopwords_list)\n",
    "tokens_normalizados = pre_procesar(corpus_tokens, stopwords_list)\n",
    "\n",
    "print(\"Numero de tokens, despues del preprocesamiento:\", len(tokens_normalizados))"
   ],
   "id": "3228dcd389e5737d",
   "outputs": [
    {
     "name": "stderr",
     "output_type": "stream",
     "text": [
      "[nltk_data] Downloading package stopwords to datos_nltk/...\n",
      "[nltk_data]   Package stopwords is already up-to-date!\n"
     ]
    },
    {
     "name": "stdout",
     "output_type": "stream",
     "text": [
      "Numero de tokens, despues del preprocesamiento: 88281\n"
     ]
    }
   ],
   "execution_count": 3
  },
  {
   "metadata": {},
   "cell_type": "markdown",
   "source": [
    "## Paso 3\n",
    "\n",
    "Dado nuestros tokens normalizados, identificamos cuantos tipos hay en nuestro corpus. Obtenemos las frecuencias de cada tipo en nuestro corpus y organizamos los tokens y sus frecuencias en un dataframe de pandas."
   ],
   "id": "79f4515c6adf11f4"
  },
  {
   "metadata": {
    "ExecuteTime": {
     "end_time": "2025-03-15T03:47:44.718687Z",
     "start_time": "2025-03-15T03:47:44.708324Z"
    }
   },
   "cell_type": "code",
   "source": [
    "## Obtenemos los tipos de nuestro corpus\n",
    "tipos = Counter(tokens_normalizados)\n",
    "\n",
    "print(\"Numero de tipos en el corpus: \", len(tipos))"
   ],
   "id": "83aee0dec581d68a",
   "outputs": [
    {
     "name": "stdout",
     "output_type": "stream",
     "text": [
      "Numero de tipos en el corpus:  23900\n"
     ]
    }
   ],
   "execution_count": 4
  },
  {
   "metadata": {
    "ExecuteTime": {
     "end_time": "2025-03-15T03:47:44.731686Z",
     "start_time": "2025-03-15T03:47:44.721688Z"
    }
   },
   "cell_type": "code",
   "source": [
    "## Creamos una tabla con las frecuencias de cada token tipo\n",
    "\n",
    "tabla_frecuencias = crear_tabla_frecuencias(tipos)\n",
    "print(tabla_frecuencias)\n"
   ],
   "id": "a41468b2e6ba150",
   "outputs": [
    {
     "name": "stdout",
     "output_type": "stream",
     "text": [
      "                palabra  frecuencia\n",
      "0                   fpa         821\n",
      "1                   fpt         820\n",
      "2                   hoy         357\n",
      "3                   dos         313\n",
      "4                  años         291\n",
      "...                 ...         ...\n",
      "23895        sovieticas           1\n",
      "23896    federacionrusa           1\n",
      "23897     reorientacion           1\n",
      "23898  desproporcionado           1\n",
      "23899         cometidas           1\n",
      "\n",
      "[23900 rows x 2 columns]\n"
     ]
    }
   ],
   "execution_count": 5
  },
  {
   "metadata": {},
   "cell_type": "markdown",
   "source": [
    "## Paso 4\n",
    "Como un primer análisis, graficamos las frecuencias de cada token en una escala logaritmica.\n",
    "Esto con el fin de darnos una idea del comportamiento de las palabras de nuestro corpus"
   ],
   "id": "8bb46c117efc3d04"
  },
  {
   "metadata": {
    "ExecuteTime": {
     "end_time": "2025-03-15T03:47:44.968736Z",
     "start_time": "2025-03-15T03:47:44.749202Z"
    }
   },
   "cell_type": "code",
   "source": [
    "fig, ax = plt.subplots()\n",
    "graficar_frecuencias(tabla_frecuencias, ax, log_scale=True)\n",
    "plt.show()"
   ],
   "id": "bd3334e7d9f5383b",
   "outputs": [
    {
     "data": {
      "text/plain": [
       "<Figure size 640x480 with 1 Axes>"
      ],
      "image/png": "[encoded data removed]"
     },
     "metadata": {},
     "output_type": "display_data"
    }
   ],
   "execution_count": 6
  },
  {
   "metadata": {},
   "cell_type": "markdown",
   "source": [
    "## Paso 5\n",
    "Dado lo anterior, utilizamos nuestro corpus y el metodo de minimos cuadrados para estimar el parámetro $\\alpha$ que mejor  aproxime para nuestro corpus.\n",
    "\n",
    "Dada la estimacion del parámetro alpha, generamos la grafica con los valores de la ley de zipf para cada rango"
   ],
   "id": "49d3b88b9c9e5b86"
  },
  {
   "metadata": {
    "ExecuteTime": {
     "end_time": "2025-03-15T03:47:45.067597Z",
     "start_time": "2025-03-15T03:47:44.984736Z"
    }
   },
   "cell_type": "code",
   "source": [
    "# Obtenemos alpha\n",
    "alpha = estimar_param_zipf(tabla_frecuencias)\n",
    "print(alpha)"
   ],
   "id": "1257983e11175c10",
   "outputs": [
    {
     "name": "stdout",
     "output_type": "stream",
     "text": [
      "0.6723447050396949\n"
     ]
    }
   ],
   "execution_count": 7
  },
  {
   "metadata": {
    "ExecuteTime": {
     "end_time": "2025-03-15T03:47:45.125598Z",
     "start_time": "2025-03-15T03:47:45.084596Z"
    }
   },
   "cell_type": "code",
   "source": [
    "# Obtenemos la tabla con los valores de la ley de zipf para cada rango\n",
    "tabla_zipf = crea_tabla_zipf(alpha, tabla_frecuencias)\n",
    "tabla_zipf"
   ],
   "id": "d8a29fa0fee6a64d",
   "outputs": [
    {
     "data": {
      "text/plain": [
       "       Rango      Zipf\n",
       "0          1  6.710523\n",
       "1          2  6.244489\n",
       "2          3  5.971877\n",
       "3          4  5.778455\n",
       "4          5  5.628426\n",
       "...      ...       ...\n",
       "23895  23896 -0.067697\n",
       "23896  23897 -0.067726\n",
       "23897  23898 -0.067754\n",
       "23898  23899 -0.067782\n",
       "23899  23900 -0.067810\n",
       "\n",
       "[23900 rows x 2 columns]"
      ],
      "text/html": [
       "<div>\n",
       "<style scoped>\n",
       "    .dataframe tbody tr th:only-of-type {\n",
       "        vertical-align: middle;\n",
       "    }\n",
       "\n",
       "    .dataframe tbody tr th {\n",
       "        vertical-align: top;\n",
       "    }\n",
       "\n",
       "    .dataframe thead th {\n",
       "        text-align: right;\n",
       "    }\n",
       "</style>\n",
       "<table border=\"1\" class=\"dataframe\">\n",
       "  <thead>\n",
       "    <tr style=\"text-align: right;\">\n",
       "      <th></th>\n",
       "      <th>Rango</th>\n",
       "      <th>Zipf</th>\n",
       "    </tr>\n",
       "  </thead>\n",
       "  <tbody>\n",
       "    <tr>\n",
       "      <th>0</th>\n",
       "      <td>1</td>\n",
       "      <td>6.710523</td>\n",
       "    </tr>\n",
       "    <tr>\n",
       "      <th>1</th>\n",
       "      <td>2</td>\n",
       "      <td>6.244489</td>\n",
       "    </tr>\n",
       "    <tr>\n",
       "      <th>2</th>\n",
       "      <td>3</td>\n",
       "      <td>5.971877</td>\n",
       "    </tr>\n",
       "    <tr>\n",
       "      <th>3</th>\n",
       "      <td>4</td>\n",
       "      <td>5.778455</td>\n",
       "    </tr>\n",
       "    <tr>\n",
       "      <th>4</th>\n",
       "      <td>5</td>\n",
       "      <td>5.628426</td>\n",
       "    </tr>\n",
       "    <tr>\n",
       "      <th>...</th>\n",
       "      <td>...</td>\n",
       "      <td>...</td>\n",
       "    </tr>\n",
       "    <tr>\n",
       "      <th>23895</th>\n",
       "      <td>23896</td>\n",
       "      <td>-0.067697</td>\n",
       "    </tr>\n",
       "    <tr>\n",
       "      <th>23896</th>\n",
       "      <td>23897</td>\n",
       "      <td>-0.067726</td>\n",
       "    </tr>\n",
       "    <tr>\n",
       "      <th>23897</th>\n",
       "      <td>23898</td>\n",
       "      <td>-0.067754</td>\n",
       "    </tr>\n",
       "    <tr>\n",
       "      <th>23898</th>\n",
       "      <td>23899</td>\n",
       "      <td>-0.067782</td>\n",
       "    </tr>\n",
       "    <tr>\n",
       "      <th>23899</th>\n",
       "      <td>23900</td>\n",
       "      <td>-0.067810</td>\n",
       "    </tr>\n",
       "  </tbody>\n",
       "</table>\n",
       "<p>23900 rows × 2 columns</p>\n",
       "</div>"
      ]
     },
     "execution_count": 8,
     "metadata": {},
     "output_type": "execute_result"
    }
   ],
   "execution_count": 8
  },
  {
   "metadata": {
    "ExecuteTime": {
     "end_time": "2025-03-15T03:47:45.323019Z",
     "start_time": "2025-03-15T03:47:45.159111Z"
    }
   },
   "cell_type": "code",
   "source": [
    "fig, ax = plt.subplots()\n",
    "graficar_ley_zipf(tabla_zipf, ax)\n",
    "plt.show()"
   ],
   "id": "90e3581b64fba041",
   "outputs": [
    {
     "data": {
      "text/plain": [
       "<Figure size 640x480 with 1 Axes>"
      ],
      "image/png": "[encoded data removed]"
     },
     "metadata": {},
     "output_type": "display_data"
    }
   ],
   "execution_count": 9
  },
  {
   "metadata": {},
   "cell_type": "markdown",
   "source": [
    "## Paso 6\n",
    "\n",
    "Realizamos una comparacion entre las frecuencias de cada rango y su valor dado por Zipf"
   ],
   "id": "1cd38c13703607bd"
  },
  {
   "metadata": {
    "ExecuteTime": {
     "end_time": "2025-03-15T03:47:45.483132Z",
     "start_time": "2025-03-15T03:47:45.346020Z"
    }
   },
   "cell_type": "code",
   "source": [
    "## Graficamos la comparacion\n",
    "fig, ax = plt.subplots()\n",
    "#tabla_frecuencias['frecuencia'] = tabla_frecuencias['frecuencia'].apply(np.log)\n",
    "graficar_zipf_frec(tabla_zipf, tabla_frecuencias, ax)\n",
    "plt.legend(bbox_to_anchor=(1, 1))\n",
    "plt.show()"
   ],
   "id": "2e241c5c6e3c3793",
   "outputs": [
    {
     "data": {
      "text/plain": [
       "<Figure size 640x480 with 1 Axes>"
      ],
      "image/png": "[encoded data removed]"
     },
     "metadata": {},
     "output_type": "display_data"
    }
   ],
   "execution_count": 10
  },
  {
   "metadata": {},
   "cell_type": "markdown",
   "source": [
    "## Paso 7\n",
    "\n",
    "Utilizamos el metodo de __Byte Pair Encoding__ (BPE) para obtener los subwords de nuestros tokens."
   ],
   "id": "fdfd788cd9c24736"
  },
  {
   "metadata": {
    "ExecuteTime": {
     "end_time": "2025-03-15T03:47:45.489131Z",
     "start_time": "2025-03-15T03:47:45.486132Z"
    }
   },
   "cell_type": "code",
   "source": "",
   "id": "529915359fab84ee",
   "outputs": [],
   "execution_count": null
  },
  {
   "metadata": {
    "ExecuteTime": {
     "end_time": "2025-03-15T03:47:45.509130Z",
     "start_time": "2025-03-15T03:47:45.506131Z"
    }
   },
   "cell_type": "code",
   "source": "",
   "id": "b50f716ba353667",
   "outputs": [],
   "execution_count": null
  },
  {
   "metadata": {
    "ExecuteTime": {
     "end_time": "2025-03-15T03:47:45.527132Z",
     "start_time": "2025-03-15T03:47:45.524130Z"
    }
   },
   "cell_type": "code",
   "source": "",
   "id": "181836e85fda8851",
   "outputs": [],
   "execution_count": null
  },
  {
   "metadata": {
    "ExecuteTime": {
     "end_time": "2025-03-15T03:47:45.547133Z",
     "start_time": "2025-03-15T03:47:45.544137Z"
    }
   },
   "cell_type": "code",
   "source": "",
   "id": "57b3af2660d38b81",
   "outputs": [],
   "execution_count": null
  }
 ],
 "metadata": {
  "kernelspec": {
   "display_name": "Python 3",
   "language": "python",
   "name": "python3"
  },
  "language_info": {
   "codemirror_mode": {
    "name": "ipython",
    "version": 2
   },
   "file_extension": ".py",
   "mimetype": "text/x-python",
   "name": "python",
   "nbconvert_exporter": "python",
   "pygments_lexer": "ipython2",
   "version": "2.7.6"
  }
 },
 "nbformat": 4,
 "nbformat_minor": 5
}
